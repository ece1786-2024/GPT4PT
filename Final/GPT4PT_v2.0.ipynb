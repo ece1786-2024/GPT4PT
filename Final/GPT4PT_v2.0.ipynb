{
 "cells": [
  {
   "cell_type": "markdown",
   "id": "Kzx7IZDHeKHb",
   "metadata": {
    "id": "Kzx7IZDHeKHb"
   },
   "source": [
    "ECE1786 2024 Fall - Team GPT4PT Final Project\n",
    "\n",
    "Author:\n",
    "\n",
    "Hongliang Zhu, Zijun Chen, Feiting Yang, Tom Blanchard"
   ]
  },
  {
   "cell_type": "markdown",
   "id": "UU44NIBRelKX",
   "metadata": {
    "id": "UU44NIBRelKX",
    "jp-MarkdownHeadingCollapsed": true
   },
   "source": [
    "# Data Collection\n",
    "Scraping new data from mbti forums using Selenium library"
   ]
  },
  {
   "cell_type": "code",
   "execution_count": null,
   "id": "fb50fb72-02ad-4802-9380-2836f0177f57",
   "metadata": {
    "id": "fb50fb72-02ad-4802-9380-2836f0177f57"
   },
   "outputs": [],
   "source": [
    "from selenium import webdriver\n",
    "from selenium.webdriver.common.by import By\n",
    "from selenium.webdriver.chrome.service import Service\n",
    "from selenium.webdriver.support.ui import WebDriverWait\n",
    "from selenium.webdriver.support import expected_conditions as EC\n",
    "from webdriver_manager.chrome import ChromeDriverManager\n",
    "import csv\n",
    "import time\n",
    "import traceback\n",
    "\n",
    "def scrape_posts_to_csv(urls, csv_filename='posts.csv'):\n",
    "    PAGE_MAX = 15\n",
    "\n",
    "    driver = webdriver.Chrome(service=Service(ChromeDriverManager().install()))\n",
    "\n",
    "    try:\n",
    "        with open(csv_filename, mode='w', newline='', encoding='utf-8') as file:\n",
    "            writer = csv.writer(file)\n",
    "            writer.writerow(['type', 'posts'])\n",
    "\n",
    "            for type,url in urls:\n",
    "                driver.get(url)\n",
    "                wait = WebDriverWait(driver, 10)\n",
    "                page_count = 0\n",
    "                while True:\n",
    "                    # Scrape post data on the current page\n",
    "                    post_contents = wait.until(\n",
    "                        EC.presence_of_all_elements_located((By.CSS_SELECTOR, '.message-userContent'))\n",
    "                    )\n",
    "\n",
    "                    for content in post_contents:\n",
    "                        text = content.text.strip()\n",
    "                        writer.writerow([type, text])\n",
    "\n",
    "                    if page_count >= PAGE_MAX:\n",
    "                        break\n",
    "\n",
    "                    try:\n",
    "                        next_button = wait.until(\n",
    "                            EC.element_to_be_clickable((By.CSS_SELECTOR, '.pageNav-jump--next'))\n",
    "                        )\n",
    "                        next_href = next_button.get_attribute('href')\n",
    "                        if next_href:\n",
    "                            driver.get(next_href)\n",
    "                            time.sleep(2)\n",
    "                            page_count += 1\n",
    "                        else:\n",
    "                            break\n",
    "                    except Exception as e:\n",
    "                        print(\"No more pages or an unexpected error occurred:\", e)\n",
    "                        break\n",
    "\n",
    "    except Exception as e:\n",
    "        print(f'An error occurred: {e}')\n",
    "        traceback.print_exc()\n",
    "    finally:\n",
    "        driver.quit()"
   ]
  },
  {
   "cell_type": "code",
   "execution_count": null,
   "id": "9409de18-afe2-4099-abb1-906a8aa827b5",
   "metadata": {
    "id": "9409de18-afe2-4099-abb1-906a8aa827b5",
    "outputId": "25211053-2c2c-46a4-a8b8-1570db129aa0"
   },
   "outputs": [
    {
     "name": "stdout",
     "output_type": "stream",
     "text": [
      "No more pages or an unexpected error occurred: Message: \n",
      "\n"
     ]
    }
   ],
   "source": [
    "urls = [\n",
    "    ('ESTJ','https://www.personalitycafe.com/threads/ask-an-estj.489586/'),\n",
    "    ('INFP', 'https://www.personalitycafe.com/threads/stream-of-consciousness-vent-thread.6141/'),\n",
    "]\n",
    "scrape_posts_to_csv(urls, 'collected_posts.csv')"
   ]
  },
  {
   "cell_type": "markdown",
   "id": "MEk0IzDZe5Jv",
   "metadata": {
    "id": "MEk0IzDZe5Jv"
   },
   "source": [
    "# Data Pre-processing\n",
    "Preprocess the data, analyzing, cleaning and tokenzing."
   ]
  },
  {
   "cell_type": "code",
   "execution_count": null,
   "id": "b12ce523",
   "metadata": {
    "id": "b12ce523"
   },
   "outputs": [],
   "source": [
    "pip install datasets"
   ]
  },
  {
   "cell_type": "code",
   "execution_count": 2,
   "id": "4406efa5",
   "metadata": {
    "executionInfo": {
     "elapsed": 10848,
     "status": "ok",
     "timestamp": 1731788275666,
     "user": {
      "displayName": "Zijun Chen (James)",
      "userId": "01511600281259603469"
     },
     "user_tz": 300
    },
    "id": "4406efa5"
   },
   "outputs": [],
   "source": [
    "import pandas as pd\n",
    "import re\n",
    "from sklearn.model_selection import train_test_split\n",
    "from transformers import AutoTokenizer\n",
    "from datasets import Dataset\n",
    "import torch\n",
    "from sklearn.preprocessing import LabelEncoder"
   ]
  },
  {
   "cell_type": "code",
   "execution_count": 3,
   "id": "561291c4",
   "metadata": {
    "colab": {
     "base_uri": "https://localhost:8080/",
     "height": 206
    },
    "executionInfo": {
     "elapsed": 2261,
     "status": "ok",
     "timestamp": 1731788522519,
     "user": {
      "displayName": "Zijun Chen (James)",
      "userId": "01511600281259603469"
     },
     "user_tz": 300
    },
    "id": "561291c4",
    "outputId": "2185993c-20d2-4302-b6aa-d829893d2dc8"
   },
   "outputs": [
    {
     "data": {
      "text/html": [
       "<div>\n",
       "<style scoped>\n",
       "    .dataframe tbody tr th:only-of-type {\n",
       "        vertical-align: middle;\n",
       "    }\n",
       "\n",
       "    .dataframe tbody tr th {\n",
       "        vertical-align: top;\n",
       "    }\n",
       "\n",
       "    .dataframe thead th {\n",
       "        text-align: right;\n",
       "    }\n",
       "</style>\n",
       "<table border=\"1\" class=\"dataframe\">\n",
       "  <thead>\n",
       "    <tr style=\"text-align: right;\">\n",
       "      <th></th>\n",
       "      <th>type</th>\n",
       "      <th>posts</th>\n",
       "    </tr>\n",
       "  </thead>\n",
       "  <tbody>\n",
       "    <tr>\n",
       "      <th>0</th>\n",
       "      <td>INFJ</td>\n",
       "      <td>'http://www.youtube.com/watch?v=qsXHcwe3krw|||...</td>\n",
       "    </tr>\n",
       "    <tr>\n",
       "      <th>1</th>\n",
       "      <td>ENTP</td>\n",
       "      <td>'I'm finding the lack of me in these posts ver...</td>\n",
       "    </tr>\n",
       "    <tr>\n",
       "      <th>2</th>\n",
       "      <td>INTP</td>\n",
       "      <td>'Good one  _____   https://www.youtube.com/wat...</td>\n",
       "    </tr>\n",
       "    <tr>\n",
       "      <th>3</th>\n",
       "      <td>INTJ</td>\n",
       "      <td>'Dear INTP,   I enjoyed our conversation the o...</td>\n",
       "    </tr>\n",
       "    <tr>\n",
       "      <th>4</th>\n",
       "      <td>ENTJ</td>\n",
       "      <td>'You're fired.|||That's another silly misconce...</td>\n",
       "    </tr>\n",
       "  </tbody>\n",
       "</table>\n",
       "</div>"
      ],
      "text/plain": [
       "   type                                              posts\n",
       "0  INFJ  'http://www.youtube.com/watch?v=qsXHcwe3krw|||...\n",
       "1  ENTP  'I'm finding the lack of me in these posts ver...\n",
       "2  INTP  'Good one  _____   https://www.youtube.com/wat...\n",
       "3  INTJ  'Dear INTP,   I enjoyed our conversation the o...\n",
       "4  ENTJ  'You're fired.|||That's another silly misconce..."
      ]
     },
     "execution_count": 3,
     "metadata": {},
     "output_type": "execute_result"
    }
   ],
   "source": [
    "# Loading the extracted CSV file\n",
    "csv_path = 'mbti_1.csv'\n",
    "df = pd.read_csv(csv_path, engine='python')\n",
    "\n",
    "# Displaying the first few rows to understand its structure\n",
    "df.head()"
   ]
  },
  {
   "cell_type": "markdown",
   "id": "d549b432",
   "metadata": {
    "id": "d549b432"
   },
   "source": [
    "## Split the MBTI type to subcategory"
   ]
  },
  {
   "cell_type": "code",
   "execution_count": 9,
   "id": "d4cf5ea1",
   "metadata": {
    "executionInfo": {
     "elapsed": 315,
     "status": "ok",
     "timestamp": 1731788545407,
     "user": {
      "displayName": "Zijun Chen (James)",
      "userId": "01511600281259603469"
     },
     "user_tz": 300
    },
    "id": "d4cf5ea1"
   },
   "outputs": [],
   "source": [
    "df['I/E'] = df['type'].apply(lambda x: 'I' if 'I' in x else 'E')\n",
    "df['N/S'] = df['type'].apply(lambda x: 'N' if 'N' in x else 'S')\n",
    "df['T/F'] = df['type'].apply(lambda x: 'T' if 'T' in x else 'F')\n",
    "df['J/P'] = df['type'].apply(lambda x: 'J' if 'J' in x else 'P')"
   ]
  },
  {
   "cell_type": "markdown",
   "id": "62792172",
   "metadata": {
    "id": "62792172"
   },
   "source": [
    "## Data cleaning"
   ]
  },
  {
   "cell_type": "code",
   "execution_count": 10,
   "id": "81ff2cae",
   "metadata": {
    "colab": {
     "base_uri": "https://localhost:8080/",
     "height": 272
    },
    "executionInfo": {
     "elapsed": 319,
     "status": "ok",
     "timestamp": 1731788547558,
     "user": {
      "displayName": "Zijun Chen (James)",
      "userId": "01511600281259603469"
     },
     "user_tz": 300
    },
    "id": "81ff2cae",
    "outputId": "d09aef26-39a4-4312-92ac-8e22540027f0"
   },
   "outputs": [
    {
     "data": {
      "text/html": [
       "<div>\n",
       "<style scoped>\n",
       "    .dataframe tbody tr th:only-of-type {\n",
       "        vertical-align: middle;\n",
       "    }\n",
       "\n",
       "    .dataframe tbody tr th {\n",
       "        vertical-align: top;\n",
       "    }\n",
       "\n",
       "    .dataframe thead th {\n",
       "        text-align: right;\n",
       "    }\n",
       "</style>\n",
       "<table border=\"1\" class=\"dataframe\">\n",
       "  <thead>\n",
       "    <tr style=\"text-align: right;\">\n",
       "      <th></th>\n",
       "      <th>0</th>\n",
       "    </tr>\n",
       "  </thead>\n",
       "  <tbody>\n",
       "    <tr>\n",
       "      <th>type</th>\n",
       "      <td>0</td>\n",
       "    </tr>\n",
       "    <tr>\n",
       "      <th>posts</th>\n",
       "      <td>0</td>\n",
       "    </tr>\n",
       "    <tr>\n",
       "      <th>I/E</th>\n",
       "      <td>0</td>\n",
       "    </tr>\n",
       "    <tr>\n",
       "      <th>N/S</th>\n",
       "      <td>0</td>\n",
       "    </tr>\n",
       "    <tr>\n",
       "      <th>T/F</th>\n",
       "      <td>0</td>\n",
       "    </tr>\n",
       "    <tr>\n",
       "      <th>J/P</th>\n",
       "      <td>0</td>\n",
       "    </tr>\n",
       "  </tbody>\n",
       "</table>\n",
       "</div><br><label><b>dtype:</b> int64</label>"
      ],
      "text/plain": [
       "type     0\n",
       "posts    0\n",
       "I/E      0\n",
       "N/S      0\n",
       "T/F      0\n",
       "J/P      0\n",
       "dtype: int64"
      ]
     },
     "execution_count": 10,
     "metadata": {},
     "output_type": "execute_result"
    }
   ],
   "source": [
    "#check the missing value\n",
    "df.isnull().sum()"
   ]
  },
  {
   "cell_type": "code",
   "execution_count": 11,
   "id": "906f9b8e",
   "metadata": {
    "executionInfo": {
     "elapsed": 640,
     "status": "ok",
     "timestamp": 1731788552607,
     "user": {
      "displayName": "Zijun Chen (James)",
      "userId": "01511600281259603469"
     },
     "user_tz": 300
    },
    "id": "906f9b8e"
   },
   "outputs": [],
   "source": [
    "# Remove URLs and \"|||\" from the 'posts' column\n",
    "df['posts'] = df['posts'].apply(lambda x: re.sub(r'http\\S+|www.\\S+|\\|\\|\\|', '', x))"
   ]
  },
  {
   "cell_type": "code",
   "execution_count": 8,
   "id": "4e329a1c",
   "metadata": {
    "executionInfo": {
     "elapsed": 7947,
     "status": "ok",
     "timestamp": 1731788563379,
     "user": {
      "displayName": "Zijun Chen (James)",
      "userId": "01511600281259603469"
     },
     "user_tz": 300
    },
    "id": "4e329a1c"
   },
   "outputs": [],
   "source": [
    "# remove punctuation\n",
    "import string\n",
    "string.punctuation\n",
    "def puntucation_free(text):\n",
    "    output=''.join([i for i in text if i not in string.punctuation])\n",
    "    return output\n",
    "df['posts']=df['posts'].apply(lambda x:puntucation_free(x))"
   ]
  },
  {
   "cell_type": "code",
   "execution_count": 13,
   "id": "f095358f",
   "metadata": {
    "executionInfo": {
     "elapsed": 293,
     "status": "ok",
     "timestamp": 1731788565437,
     "user": {
      "displayName": "Zijun Chen (James)",
      "userId": "01511600281259603469"
     },
     "user_tz": 300
    },
    "id": "f095358f"
   },
   "outputs": [],
   "source": [
    "#Lower Text\n",
    "df['posts']=df['posts'].apply(lambda x:x.lower())"
   ]
  },
  {
   "cell_type": "code",
   "execution_count": 4,
   "id": "92584ccb",
   "metadata": {
    "colab": {
     "base_uri": "https://localhost:8080/"
    },
    "executionInfo": {
     "elapsed": 37462,
     "status": "ok",
     "timestamp": 1731788787892,
     "user": {
      "displayName": "Zijun Chen (James)",
      "userId": "01511600281259603469"
     },
     "user_tz": 300
    },
    "id": "92584ccb",
    "outputId": "22eaacde-8e73-4602-9a01-62d0579ff040"
   },
   "outputs": [
    {
     "name": "stderr",
     "output_type": "stream",
     "text": [
      "[nltk_data] Downloading package punkt to\n",
      "[nltk_data]     C:\\Users\\Fulma\\AppData\\Roaming\\nltk_data...\n",
      "[nltk_data]   Package punkt is already up-to-date!\n",
      "[nltk_data] Downloading package punkt_tab to\n",
      "[nltk_data]     C:\\Users\\Fulma\\AppData\\Roaming\\nltk_data...\n",
      "[nltk_data]   Package punkt_tab is already up-to-date!\n"
     ]
    }
   ],
   "source": [
    "# Tokenization\n",
    "import nltk\n",
    "nltk.download('punkt')\n",
    "nltk.download('punkt_tab')\n",
    "from nltk.tokenize import word_tokenize\n",
    "df['posts']=df['posts'].apply(lambda x:word_tokenize(x))"
   ]
  },
  {
   "cell_type": "code",
   "execution_count": 5,
   "id": "630fc0cf",
   "metadata": {
    "colab": {
     "base_uri": "https://localhost:8080/"
    },
    "executionInfo": {
     "elapsed": 20171,
     "status": "ok",
     "timestamp": 1731788813116,
     "user": {
      "displayName": "Zijun Chen (James)",
      "userId": "01511600281259603469"
     },
     "user_tz": 300
    },
    "id": "630fc0cf",
    "outputId": "cdc3da41-8949-42d6-a2dd-893d7f9a81ee"
   },
   "outputs": [
    {
     "name": "stderr",
     "output_type": "stream",
     "text": [
      "[nltk_data] Downloading package stopwords to\n",
      "[nltk_data]     C:\\Users\\Fulma\\AppData\\Roaming\\nltk_data...\n",
      "[nltk_data]   Package stopwords is already up-to-date!\n"
     ]
    }
   ],
   "source": [
    "#remove stopwords\n",
    "import nltk\n",
    "nltk.download('stopwords')\n",
    "stopwords=nltk.corpus.stopwords.words('english')\n",
    "def remove_stopwords(text):\n",
    "    output=[i for i in text if i not in stopwords]\n",
    "    return output\n",
    "df['posts']=df['posts'].apply(lambda x:remove_stopwords(x))"
   ]
  },
  {
   "cell_type": "code",
   "execution_count": 6,
   "id": "724a939f",
   "metadata": {
    "executionInfo": {
     "elapsed": 124775,
     "status": "ok",
     "timestamp": 1731788940914,
     "user": {
      "displayName": "Zijun Chen (James)",
      "userId": "01511600281259603469"
     },
     "user_tz": 300
    },
    "id": "724a939f"
   },
   "outputs": [],
   "source": [
    "# stemming\n",
    "from nltk.stem.porter import PorterStemmer\n",
    "porter_stemmer=PorterStemmer()\n",
    "def stemming(text):\n",
    "    output=[porter_stemmer.stem(i) for i in text]\n",
    "    return output\n",
    "df['posts']=df['posts'].apply(lambda x:stemming(x))"
   ]
  },
  {
   "cell_type": "code",
   "execution_count": 22,
   "id": "cdee11aa",
   "metadata": {
    "executionInfo": {
     "elapsed": 317,
     "status": "ok",
     "timestamp": 1731788975293,
     "user": {
      "displayName": "Zijun Chen (James)",
      "userId": "01511600281259603469"
     },
     "user_tz": 300
    },
    "id": "cdee11aa"
   },
   "outputs": [],
   "source": [
    "df['posts'] = df['posts'].str.join(' ')"
   ]
  },
  {
   "cell_type": "code",
   "execution_count": 23,
   "id": "66f487af",
   "metadata": {
    "colab": {
     "base_uri": "https://localhost:8080/",
     "height": 143
    },
    "executionInfo": {
     "elapsed": 657,
     "status": "ok",
     "timestamp": 1731788978713,
     "user": {
      "displayName": "Zijun Chen (James)",
      "userId": "01511600281259603469"
     },
     "user_tz": 300
    },
    "id": "66f487af",
    "outputId": "1e387e3f-1cf0-4645-e4d1-c40ed3072c41"
   },
   "outputs": [
    {
     "data": {
      "application/vnd.google.colaboratory.intrinsic+json": {
       "summary": "{\n  \"name\": \"df\",\n  \"rows\": 8675,\n  \"fields\": [\n    {\n      \"column\": \"type\",\n      \"properties\": {\n        \"dtype\": \"category\",\n        \"num_unique_values\": 16,\n        \"samples\": [\n          \"INFJ\",\n          \"ENTP\",\n          \"ENFJ\"\n        ],\n        \"semantic_type\": \"\",\n        \"description\": \"\"\n      }\n    },\n    {\n      \"column\": \"posts\",\n      \"properties\": {\n        \"dtype\": \"string\",\n        \"num_unique_values\": 8675,\n        \"samples\": [\n          \"lie avoid unreason respons someth complet justifi tri justifi someon els theyd hung iyour iq sd15 128i typic difficult time maintain friend ive come realiz ive peopl talk year still dont want talk got bore theman intj friend mine told realli hate eat repetit intp dont realli feel bother dont realli regist eat im think aboutsimilar mind advanc testintp 9 sxso lot friend one speak actual feel 1 talk actual think regard toget close someon end want infinit close end merg everi damn timeinterest topic know two enfp 1 strang intp view stuff come onto sort get realli close open enfp doa far im awar normal peopl much pessimist self human social creatur feel better social reason beingvajrayaksa dare use lelouch intp intj sayi normal think stuff dont actual ityoul probabl find comment nihilist thought logic would make open dismiss idea mere make agre idea theyll feel need todont worri call thinker sameintj winter coldest entj summer actual thing entp spring bring fun peopl intp autumn one ever notic season known coupl entp one entj intj kind went entpentjentpintj love abl constantli talk entp also need know stop talk entpif mean actual 1v1ing also done mayb im wrong find pretti easi think logic move player play make informationgend femal age 1929 intellig gift idea adopt earlyadopt mbti person profil esfp closest altern found esfj think kill told writeim fine im shortag peopl id ever want that ground socialis could done could well done skype without thei use use pencil told teacher want use pen use pen havent use pencil exclud game naught cross earlier coupleid love either calm hous somewher distant porch log cabin aesthet fuck want log cabin id actual realli like idea one smokeyyeah enjoy listen lyric doesnt make much differ theyr present theyr anoth part instrument dont necessarili listen tomor often someon go fulli enter world invit first similar friend internet fewwhat get today head shit shit shit miss birthday suppos get someth good friend buy stuff ii frequent say hand thing someon someth realli awesom say fuck yeah love man someth like say genuin way itd feel reallyso someth strang happen recent interest drawn naught cross could make enjoy play start increas grid size triedyou could tell thought could tell thought continu brew think there reason asham annoy anyth dontloudli whilst drew hisand babi platypi quiveredparticularli higher regionsstart linger feelingwhat point stop matter theyr call guilti pleasur pleasur reason matter muchtheir god dam storypost multipl time doit impress peopl wouldmaximum five word per line feel free say stuff make sure clear five word upon time insomeon appreci cc fuck yeahyeezu cant come reason conclus without pick fight open mindedmor often judg pure judg dark sens humor im exactli secret get along peopl ground im friendli toi chose avatar awesom art work kaneki tokyo ghoul god love manga love tragedi name slightli alter version name georg georgiu like haloviol situat would probabl faster way get thing done parti involv especi receiv end tri talk sens someon said somethingbut sure point everyon would wors initi isnt relev rebuild system would obvious issu im cri revolut im beingw call diagon alleyim make pretti big point person peopl expect feel want person feel wrong someon cri eye lyinggood call that read four dimension planewhi airplan aeroplanehit expect live expect infuri probablyit hit women polit incorrect women use advantagewhat he say assum say someth worthi hit grate theyr hit expect hit basisi particularli common amongst intp type acknowledg anoth side point view even though social shouldnt mean cant convers\",\n          \"said zero flexibl littl time date go around sift date find one click isnt go viabl noth maintain relationship ihow youv come conclus noth offer mere busi beyond realli made stuffokay isnt cool your specif look get relationship your enter life phase resourc give relationship isi take slow that im still singl im interest make friend friend enough like im interest go date intent enter aabsolut find idea repugn actuallypeopl could polit mayb averag conserv bet im claim im social butterfli im normal guy introvert social doofu dontim probabl give onlin thing next subscript run realli dont know look bar definit dont understand peopl meet theiriv tri way actual last women gone gotten realli weird andor ignor backhand compliment dont know anymor seem get screw eitherim actual pretti healthi sorri feel way sure one met asshol exist everywher number isnt anywher near 99 thoughif anyth err side indiffer definit overeageryeah close friend dont live near anymor issu meet peopl good amount noth work want know deform infirm mental unstablemi friend wors posit ask isnt go help far feedback realli seem like extraordinarili awkward thing ask someon barelyso im 26 year old male strike time time come relationship ive one relationship entir life last like 15 year end wasi dont think sort date method reason best counterproduct friend first throw wrench normal smooth date process fearnev kissi appreci feedback think im go tell shouldnt hang unless dedic decent amount time happen right drag thing andi dont know think im verg give noth see infrequ make offici keep thingsi dont know im model anyth im decent look she drop dead gorgeou nice smart guy alway seem im also smarter better careeri like answer mayb im optimist basic ive cant shake feel wouldnt give time werent interest andhow suppos know infj want friend thing weird infj ive see ive upfront intent essenti told sheinterest find unusu infj known take forev open trust peopl yet respons far indic kiss 3 fewer datesmi infj friend intj dont want bust confid even though like first soon found put felt cage see thatenlighten us infj also indic gender initiatedwel also said basic tri figur im trustworthi decentthos two thing seem odd simultan say thing need said also proactiv aggressivepretti much yeah women enjoy compani level im situat never femal friend date one person life last littl less two year thei dont think go help dig clingi seem hole dug basic ask knew romant interest respond cours loli let thing proceed natur pace pretti piss zero chanc speak againi read thread tell never anyth egregi good chanc lost interest blunt though loli broke shortli post felt like slime ball peopl tell she lost caus see peopl btw well developedupd told like got reassur like even wasnt interest said ambival right im pretti much call pointyeah told didnt get affirm like didnt basic said known like pretti much expect probabl go call iti crystal ball refer suppos mean guess good mine edit guess pso ive gone six date infj 3 month period she pretti busi recent feel like progress littl glacial bit thought warm upsh hate text yeah told picki peopl recent normal wouldnt give anyon time dayyou would liter autism spectrum disord would know mention dont tell someon friend much like would bizarreit kind hard get point offici date idea go head know attempt kiss would result abject horror assaultspok last night essenti said like lot would normal never make time peopl unless oblig also indirectli use word friend itso met infj femal back weve like five time date go well get along everyth seem nice find attract quit bit dont know kind rule dont compliment femal appear trust compliment person time extrem cautiou iwel new question went second date day ago went well said want meet problem hasnt ounc flirt touchingsh start initi ask im free soon anyth learn dont play analysi game loseexpect ofi dont know cant realli fault strong introvert wari someon doesnt realli know number 2 cruel modern date work pretti sure isnt thei dont know cant realli fault strong introvert wari someon doesnt realli know number 2 cruel modern date work pretti sure isnt thethank option 1 seem like seem whenev final get open like cascad good convers final ensu like pull teeth initi iim social retard would know random stranger ask contact info ask drink lunch person probabl isnt interest friendsso shouldnt deter fact doesnt realli ever reach dont enjoy appear like someon cant take hint put someon els awkward situat worryno seem fit pretti wellthank advic everyon appreci take time respond\",\n          \"written bia someth im sure could even say truth reason put subject god man say noth make main prioriti church written throughout text past nearli 2000 year reverber throughout church dialogu incid aboutthat annoy phrase obtus confus newcom dont blame respons must reveal knowledg speak truth contain biasther priestli desk job closest thing priest get away peopl monk differ tell outno realli wont cant go intp assum intellig level would end failur dont afraid ask big question muse intp tri toheresi like core reason christian infight occur everyth els minor disput theolog opinionsthat exceedingli subject see theyr interest strike convers definit ask thoughtsto dismiss concept dismiss histori topic dismiss apostl taught liter sect christian fine whateverdo cool shit discuss idea patienc dont tri judg person quickli control also make first move show your interest talk themi use feel read book selfmad man lesbian butch woman dress like man tri live one notic consid feminin man quiteim sure hell go thread would like say know entj person dont think itd neat thoughal church form polit institut cathol orthodox one benefit central sect declar doctrin one way anoth your speak againstand bore post whole threadwhat part idea teach author problem church 13th centuri idea group guid holi spirit decis onfor cathol church dual mean whole believ bodi christ polit institut catholic teach christ said protect bypriest reloc parish may quiet critic time handl thing poor decis decis church first prioritywel sure ye church protect child offend church reason imag church leadership ignor size problem churchedit base doubl postno realli isnt bibl canon collect text bibl establish theolog histor work done establish canon modifiedy nevermind two claim contradict could work contradict your struggl wouldnt say that there way tell mani depend logic andor histori contradict ruin claim grant case yet abl know mani canth problem induct grand way humbl scientif find your younger bring question know could call truerubix cubespanth make sens id advis otherwis atheism abraham theism two ration choicesy motherfuckerwhat mean everyth univers exist learn love itdisappoint 24 year old report good luck opthi exceedingli naiv earli church scriptur appli teach better societi scriptur held high esteem basi properli better societi workfrom cathol catech list offici teach read bibl iii holi spirit interpret scriptur 109 sacr scriptur god speak man ai never like peopl point scandinavian model success econom system incred oil natur resourc suppli compar small populationswhil shit got stupid moment let tri get back trackyour pretti smart know look fucker think im smart pfftexceedingli pooriv told im bright im sure everyon els say kidsand youth effici way remov selfdoubt stop doubt much faith trust niggay suspect wrongli like chatter im friendli serious hope good day tooinde feel free askarguech bullshit want good one manid say that stretch say cathol believ bibl inspir god written men orthodox assembl biblic canon id say greatest sayedit welpi see argument inconsist sometim arent actual inconsist sometim find simplest exampl true one rabbit appar chewingsorri take long get back internet screw horribl answer consider amount thing got atheist train toth believ portion long arduou process research cultur hobbi eventu roll around religion interest topic eventu began toto first statement even come cours know love though god know fulli id argu hell taken varieti ofim mix critic christian envi ive seen video popular piss poor max scheler wonder job make argument otherwis hispeopl believ someth incontrovert true get peopl murder rage incontrovert true empir true major opinion tosur thing sound sorta similar epicurean paradox sufferingfre exist strengthen good creat peopl may know love sincer know love theyyo christian intp anyth wantit make healthi children let healthi babi live issu moral issu innat valu life249210\"\n        ],\n        \"semantic_type\": \"\",\n        \"description\": \"\"\n      }\n    },\n    {\n      \"column\": \"I/E\",\n      \"properties\": {\n        \"dtype\": \"category\",\n        \"num_unique_values\": 2,\n        \"samples\": [\n          \"E\",\n          \"I\"\n        ],\n        \"semantic_type\": \"\",\n        \"description\": \"\"\n      }\n    },\n    {\n      \"column\": \"N/S\",\n      \"properties\": {\n        \"dtype\": \"category\",\n        \"num_unique_values\": 2,\n        \"samples\": [\n          \"S\",\n          \"N\"\n        ],\n        \"semantic_type\": \"\",\n        \"description\": \"\"\n      }\n    },\n    {\n      \"column\": \"T/F\",\n      \"properties\": {\n        \"dtype\": \"category\",\n        \"num_unique_values\": 2,\n        \"samples\": [\n          \"T\",\n          \"F\"\n        ],\n        \"semantic_type\": \"\",\n        \"description\": \"\"\n      }\n    },\n    {\n      \"column\": \"J/P\",\n      \"properties\": {\n        \"dtype\": \"category\",\n        \"num_unique_values\": 2,\n        \"samples\": [\n          \"P\",\n          \"J\"\n        ],\n        \"semantic_type\": \"\",\n        \"description\": \"\"\n      }\n    }\n  ]\n}",
       "type": "dataframe",
       "variable_name": "df"
      },
      "text/html": [
       "\n",
       "  <div id=\"df-f4090c61-bca4-4980-9f88-01c961ccb842\" class=\"colab-df-container\">\n",
       "    <div>\n",
       "<style scoped>\n",
       "    .dataframe tbody tr th:only-of-type {\n",
       "        vertical-align: middle;\n",
       "    }\n",
       "\n",
       "    .dataframe tbody tr th {\n",
       "        vertical-align: top;\n",
       "    }\n",
       "\n",
       "    .dataframe thead th {\n",
       "        text-align: right;\n",
       "    }\n",
       "</style>\n",
       "<table border=\"1\" class=\"dataframe\">\n",
       "  <thead>\n",
       "    <tr style=\"text-align: right;\">\n",
       "      <th></th>\n",
       "      <th>type</th>\n",
       "      <th>posts</th>\n",
       "      <th>I/E</th>\n",
       "      <th>N/S</th>\n",
       "      <th>T/F</th>\n",
       "      <th>J/P</th>\n",
       "    </tr>\n",
       "  </thead>\n",
       "  <tbody>\n",
       "    <tr>\n",
       "      <th>0</th>\n",
       "      <td>INFJ</td>\n",
       "      <td>intj moment sportscent top ten play prankswhat...</td>\n",
       "      <td>I</td>\n",
       "      <td>N</td>\n",
       "      <td>F</td>\n",
       "      <td>J</td>\n",
       "    </tr>\n",
       "    <tr>\n",
       "      <th>1</th>\n",
       "      <td>ENTP</td>\n",
       "      <td>im find lack post alarmingsex bore posit often...</td>\n",
       "      <td>E</td>\n",
       "      <td>N</td>\n",
       "      <td>T</td>\n",
       "      <td>P</td>\n",
       "    </tr>\n",
       "    <tr>\n",
       "      <th>2</th>\n",
       "      <td>INTP</td>\n",
       "      <td>good one cours say know that bless cursedo abs...</td>\n",
       "      <td>I</td>\n",
       "      <td>N</td>\n",
       "      <td>T</td>\n",
       "      <td>P</td>\n",
       "    </tr>\n",
       "  </tbody>\n",
       "</table>\n",
       "</div>\n",
       "    <div class=\"colab-df-buttons\">\n",
       "\n",
       "  <div class=\"colab-df-container\">\n",
       "    <button class=\"colab-df-convert\" onclick=\"convertToInteractive('df-f4090c61-bca4-4980-9f88-01c961ccb842')\"\n",
       "            title=\"Convert this dataframe to an interactive table.\"\n",
       "            style=\"display:none;\">\n",
       "\n",
       "  <svg xmlns=\"http://www.w3.org/2000/svg\" height=\"24px\" viewBox=\"0 -960 960 960\">\n",
       "    <path d=\"M120-120v-720h720v720H120Zm60-500h600v-160H180v160Zm220 220h160v-160H400v160Zm0 220h160v-160H400v160ZM180-400h160v-160H180v160Zm440 0h160v-160H620v160ZM180-180h160v-160H180v160Zm440 0h160v-160H620v160Z\"/>\n",
       "  </svg>\n",
       "    </button>\n",
       "\n",
       "  <style>\n",
       "    .colab-df-container {\n",
       "      display:flex;\n",
       "      gap: 12px;\n",
       "    }\n",
       "\n",
       "    .colab-df-convert {\n",
       "      background-color: #E8F0FE;\n",
       "      border: none;\n",
       "      border-radius: 50%;\n",
       "      cursor: pointer;\n",
       "      display: none;\n",
       "      fill: #1967D2;\n",
       "      height: 32px;\n",
       "      padding: 0 0 0 0;\n",
       "      width: 32px;\n",
       "    }\n",
       "\n",
       "    .colab-df-convert:hover {\n",
       "      background-color: #E2EBFA;\n",
       "      box-shadow: 0px 1px 2px rgba(60, 64, 67, 0.3), 0px 1px 3px 1px rgba(60, 64, 67, 0.15);\n",
       "      fill: #174EA6;\n",
       "    }\n",
       "\n",
       "    .colab-df-buttons div {\n",
       "      margin-bottom: 4px;\n",
       "    }\n",
       "\n",
       "    [theme=dark] .colab-df-convert {\n",
       "      background-color: #3B4455;\n",
       "      fill: #D2E3FC;\n",
       "    }\n",
       "\n",
       "    [theme=dark] .colab-df-convert:hover {\n",
       "      background-color: #434B5C;\n",
       "      box-shadow: 0px 1px 3px 1px rgba(0, 0, 0, 0.15);\n",
       "      filter: drop-shadow(0px 1px 2px rgba(0, 0, 0, 0.3));\n",
       "      fill: #FFFFFF;\n",
       "    }\n",
       "  </style>\n",
       "\n",
       "    <script>\n",
       "      const buttonEl =\n",
       "        document.querySelector('#df-f4090c61-bca4-4980-9f88-01c961ccb842 button.colab-df-convert');\n",
       "      buttonEl.style.display =\n",
       "        google.colab.kernel.accessAllowed ? 'block' : 'none';\n",
       "\n",
       "      async function convertToInteractive(key) {\n",
       "        const element = document.querySelector('#df-f4090c61-bca4-4980-9f88-01c961ccb842');\n",
       "        const dataTable =\n",
       "          await google.colab.kernel.invokeFunction('convertToInteractive',\n",
       "                                                    [key], {});\n",
       "        if (!dataTable) return;\n",
       "\n",
       "        const docLinkHtml = 'Like what you see? Visit the ' +\n",
       "          '<a target=\"_blank\" href=https://colab.research.google.com/notebooks/data_table.ipynb>data table notebook</a>'\n",
       "          + ' to learn more about interactive tables.';\n",
       "        element.innerHTML = '';\n",
       "        dataTable['output_type'] = 'display_data';\n",
       "        await google.colab.output.renderOutput(dataTable, element);\n",
       "        const docLink = document.createElement('div');\n",
       "        docLink.innerHTML = docLinkHtml;\n",
       "        element.appendChild(docLink);\n",
       "      }\n",
       "    </script>\n",
       "  </div>\n",
       "\n",
       "\n",
       "<div id=\"df-c0dd643f-fe5d-4a00-b14a-d1da0642ac1f\">\n",
       "  <button class=\"colab-df-quickchart\" onclick=\"quickchart('df-c0dd643f-fe5d-4a00-b14a-d1da0642ac1f')\"\n",
       "            title=\"Suggest charts\"\n",
       "            style=\"display:none;\">\n",
       "\n",
       "<svg xmlns=\"http://www.w3.org/2000/svg\" height=\"24px\"viewBox=\"0 0 24 24\"\n",
       "     width=\"24px\">\n",
       "    <g>\n",
       "        <path d=\"M19 3H5c-1.1 0-2 .9-2 2v14c0 1.1.9 2 2 2h14c1.1 0 2-.9 2-2V5c0-1.1-.9-2-2-2zM9 17H7v-7h2v7zm4 0h-2V7h2v10zm4 0h-2v-4h2v4z\"/>\n",
       "    </g>\n",
       "</svg>\n",
       "  </button>\n",
       "\n",
       "<style>\n",
       "  .colab-df-quickchart {\n",
       "      --bg-color: #E8F0FE;\n",
       "      --fill-color: #1967D2;\n",
       "      --hover-bg-color: #E2EBFA;\n",
       "      --hover-fill-color: #174EA6;\n",
       "      --disabled-fill-color: #AAA;\n",
       "      --disabled-bg-color: #DDD;\n",
       "  }\n",
       "\n",
       "  [theme=dark] .colab-df-quickchart {\n",
       "      --bg-color: #3B4455;\n",
       "      --fill-color: #D2E3FC;\n",
       "      --hover-bg-color: #434B5C;\n",
       "      --hover-fill-color: #FFFFFF;\n",
       "      --disabled-bg-color: #3B4455;\n",
       "      --disabled-fill-color: #666;\n",
       "  }\n",
       "\n",
       "  .colab-df-quickchart {\n",
       "    background-color: var(--bg-color);\n",
       "    border: none;\n",
       "    border-radius: 50%;\n",
       "    cursor: pointer;\n",
       "    display: none;\n",
       "    fill: var(--fill-color);\n",
       "    height: 32px;\n",
       "    padding: 0;\n",
       "    width: 32px;\n",
       "  }\n",
       "\n",
       "  .colab-df-quickchart:hover {\n",
       "    background-color: var(--hover-bg-color);\n",
       "    box-shadow: 0 1px 2px rgba(60, 64, 67, 0.3), 0 1px 3px 1px rgba(60, 64, 67, 0.15);\n",
       "    fill: var(--button-hover-fill-color);\n",
       "  }\n",
       "\n",
       "  .colab-df-quickchart-complete:disabled,\n",
       "  .colab-df-quickchart-complete:disabled:hover {\n",
       "    background-color: var(--disabled-bg-color);\n",
       "    fill: var(--disabled-fill-color);\n",
       "    box-shadow: none;\n",
       "  }\n",
       "\n",
       "  .colab-df-spinner {\n",
       "    border: 2px solid var(--fill-color);\n",
       "    border-color: transparent;\n",
       "    border-bottom-color: var(--fill-color);\n",
       "    animation:\n",
       "      spin 1s steps(1) infinite;\n",
       "  }\n",
       "\n",
       "  @keyframes spin {\n",
       "    0% {\n",
       "      border-color: transparent;\n",
       "      border-bottom-color: var(--fill-color);\n",
       "      border-left-color: var(--fill-color);\n",
       "    }\n",
       "    20% {\n",
       "      border-color: transparent;\n",
       "      border-left-color: var(--fill-color);\n",
       "      border-top-color: var(--fill-color);\n",
       "    }\n",
       "    30% {\n",
       "      border-color: transparent;\n",
       "      border-left-color: var(--fill-color);\n",
       "      border-top-color: var(--fill-color);\n",
       "      border-right-color: var(--fill-color);\n",
       "    }\n",
       "    40% {\n",
       "      border-color: transparent;\n",
       "      border-right-color: var(--fill-color);\n",
       "      border-top-color: var(--fill-color);\n",
       "    }\n",
       "    60% {\n",
       "      border-color: transparent;\n",
       "      border-right-color: var(--fill-color);\n",
       "    }\n",
       "    80% {\n",
       "      border-color: transparent;\n",
       "      border-right-color: var(--fill-color);\n",
       "      border-bottom-color: var(--fill-color);\n",
       "    }\n",
       "    90% {\n",
       "      border-color: transparent;\n",
       "      border-bottom-color: var(--fill-color);\n",
       "    }\n",
       "  }\n",
       "</style>\n",
       "\n",
       "  <script>\n",
       "    async function quickchart(key) {\n",
       "      const quickchartButtonEl =\n",
       "        document.querySelector('#' + key + ' button');\n",
       "      quickchartButtonEl.disabled = true;  // To prevent multiple clicks.\n",
       "      quickchartButtonEl.classList.add('colab-df-spinner');\n",
       "      try {\n",
       "        const charts = await google.colab.kernel.invokeFunction(\n",
       "            'suggestCharts', [key], {});\n",
       "      } catch (error) {\n",
       "        console.error('Error during call to suggestCharts:', error);\n",
       "      }\n",
       "      quickchartButtonEl.classList.remove('colab-df-spinner');\n",
       "      quickchartButtonEl.classList.add('colab-df-quickchart-complete');\n",
       "    }\n",
       "    (() => {\n",
       "      let quickchartButtonEl =\n",
       "        document.querySelector('#df-c0dd643f-fe5d-4a00-b14a-d1da0642ac1f button');\n",
       "      quickchartButtonEl.style.display =\n",
       "        google.colab.kernel.accessAllowed ? 'block' : 'none';\n",
       "    })();\n",
       "  </script>\n",
       "</div>\n",
       "\n",
       "    </div>\n",
       "  </div>\n"
      ],
      "text/plain": [
       "   type                                              posts I/E N/S T/F J/P\n",
       "0  INFJ  intj moment sportscent top ten play prankswhat...   I   N   F   J\n",
       "1  ENTP  im find lack post alarmingsex bore posit often...   E   N   T   P\n",
       "2  INTP  good one cours say know that bless cursedo abs...   I   N   T   P"
      ]
     },
     "execution_count": 23,
     "metadata": {},
     "output_type": "execute_result"
    }
   ],
   "source": [
    "df.head(3)"
   ]
  },
  {
   "cell_type": "markdown",
   "id": "4e0118ee",
   "metadata": {
    "id": "4e0118ee",
    "jp-MarkdownHeadingCollapsed": true
   },
   "source": [
    "## EDA"
   ]
  },
  {
   "cell_type": "code",
   "execution_count": null,
   "id": "ad4383f9",
   "metadata": {
    "colab": {
     "base_uri": "https://localhost:8080/",
     "height": 487
    },
    "executionInfo": {
     "elapsed": 383,
     "status": "ok",
     "timestamp": 1731473330198,
     "user": {
      "displayName": "feiting yang",
      "userId": "10856826257804007456"
     },
     "user_tz": 300
    },
    "id": "ad4383f9",
    "outputId": "7519f66b-e2aa-4fed-9c2e-6d20cdc6f077"
   },
   "outputs": [
    {
     "data": {
      "image/png": "[encoded data removed]",
      "text/plain": [
       "<Figure size 800x500 with 1 Axes>"
      ]
     },
     "metadata": {},
     "output_type": "display_data"
    }
   ],
   "source": [
    "import matplotlib.pyplot as plt\n",
    "\n",
    "# Calculate the distribution of each category ('I' and 'E')\n",
    "category_counts = df['type'].value_counts()\n",
    "\n",
    "# Plotting the distribution as a bar chart\n",
    "plt.figure(figsize=(8, 5))\n",
    "#plt.bar(category_counts.index, category_counts.values)\n",
    "bars = plt.bar(category_counts.index, category_counts.values)\n",
    "\n",
    "# Adding values on top of the bars\n",
    "for bar in bars:\n",
    "    plt.text(bar.get_x() + bar.get_width() / 2, bar.get_height(), str(bar.get_height()),\n",
    "             ha='center', va='bottom', fontsize=12)\n",
    "plt.xlabel('MBTI type')\n",
    "plt.ylabel('Count')\n",
    "plt.title('Distribution of MBTI type in the Dataset')\n",
    "plt.show()\n"
   ]
  },
  {
   "cell_type": "markdown",
   "id": "1250b479",
   "metadata": {
    "id": "1250b479"
   },
   "source": [
    "I/E"
   ]
  },
  {
   "cell_type": "code",
   "execution_count": null,
   "id": "eb3fbead",
   "metadata": {
    "colab": {
     "base_uri": "https://localhost:8080/",
     "height": 487
    },
    "executionInfo": {
     "elapsed": 348,
     "status": "ok",
     "timestamp": 1731473692901,
     "user": {
      "displayName": "feiting yang",
      "userId": "10856826257804007456"
     },
     "user_tz": 300
    },
    "id": "eb3fbead",
    "outputId": "670d1e71-65c1-4b0c-b28e-74c74e86cacb"
   },
   "outputs": [
    {
     "data": {
      "image/png": "[encoded data removed]",
      "text/plain": [
       "<Figure size 800x500 with 1 Axes>"
      ]
     },
     "metadata": {},
     "output_type": "display_data"
    }
   ],
   "source": [
    "# Calculate the distribution of each category ('I' and 'E')\n",
    "category_counts = df['I/E'].value_counts()\n",
    "\n",
    "# Plotting the distribution as a bar chart\n",
    "plt.figure(figsize=(8, 5))\n",
    "bars = plt.bar(category_counts.index, category_counts.values)\n",
    "\n",
    "# Adding values on top of the bars\n",
    "for bar in bars:\n",
    "    plt.text(bar.get_x() + bar.get_width() / 2, bar.get_height(), str(bar.get_height()),\n",
    "             ha='center', va='bottom', fontsize=12)\n",
    "plt.xlabel('Category (I/E)')\n",
    "plt.ylabel('Count')\n",
    "plt.title('Distribution of I/E Categories in the Dataset')\n",
    "plt.show()"
   ]
  },
  {
   "cell_type": "markdown",
   "id": "704e836e",
   "metadata": {
    "id": "704e836e"
   },
   "source": [
    "S/N"
   ]
  },
  {
   "cell_type": "code",
   "execution_count": null,
   "id": "d9c0c24a",
   "metadata": {
    "colab": {
     "base_uri": "https://localhost:8080/",
     "height": 487
    },
    "executionInfo": {
     "elapsed": 334,
     "status": "ok",
     "timestamp": 1731473766353,
     "user": {
      "displayName": "feiting yang",
      "userId": "10856826257804007456"
     },
     "user_tz": 300
    },
    "id": "d9c0c24a",
    "outputId": "2ceec621-fb19-438e-b69a-3c264040200f"
   },
   "outputs": [
    {
     "data": {
      "image/png": "[encoded data removed]",
      "text/plain": [
       "<Figure size 800x500 with 1 Axes>"
      ]
     },
     "metadata": {},
     "output_type": "display_data"
    }
   ],
   "source": [
    "# Calculate the distribution of each category ('N' and 'S')\n",
    "category_counts = df['N/S'].value_counts()\n",
    "\n",
    "# Plotting the distribution as a bar chart\n",
    "plt.figure(figsize=(8, 5))\n",
    "bars = plt.bar(category_counts.index, category_counts.values)\n",
    "\n",
    "# Adding values on top of the bars\n",
    "for bar in bars:\n",
    "    plt.text(bar.get_x() + bar.get_width() / 2, bar.get_height(), str(bar.get_height()),\n",
    "             ha='center', va='bottom', fontsize=12)\n",
    "plt.xlabel('Category (N/S)')\n",
    "plt.ylabel('Count')\n",
    "plt.title('Distribution of N/S Categories in the Dataset')\n",
    "plt.show()"
   ]
  },
  {
   "cell_type": "code",
   "execution_count": null,
   "id": "a3430e2f",
   "metadata": {
    "colab": {
     "base_uri": "https://localhost:8080/",
     "height": 487
    },
    "executionInfo": {
     "elapsed": 513,
     "status": "ok",
     "timestamp": 1731473809462,
     "user": {
      "displayName": "feiting yang",
      "userId": "10856826257804007456"
     },
     "user_tz": 300
    },
    "id": "a3430e2f",
    "outputId": "ce4fd188-0781-4fd6-fd37-5aca2aa734ac"
   },
   "outputs": [
    {
     "data": {
      "image/png": "[encoded data removed]",
      "text/plain": [
       "<Figure size 800x500 with 1 Axes>"
      ]
     },
     "metadata": {},
     "output_type": "display_data"
    }
   ],
   "source": [
    "# Calculate the distribution of each category ('N' and 'S')\n",
    "category_counts = df['T/F'].value_counts()\n",
    "\n",
    "# Plotting the distribution as a bar chart\n",
    "plt.figure(figsize=(8, 5))\n",
    "bars = plt.bar(category_counts.index, category_counts.values)\n",
    "\n",
    "# Adding values on top of the bars\n",
    "for bar in bars:\n",
    "    plt.text(bar.get_x() + bar.get_width() / 2, bar.get_height(), str(bar.get_height()),\n",
    "             ha='center', va='bottom', fontsize=12)\n",
    "plt.xlabel('Category (T/F)')\n",
    "plt.ylabel('Count')\n",
    "plt.title('Distribution of T/F Categories in the Dataset')\n",
    "plt.show()"
   ]
  },
  {
   "cell_type": "code",
   "execution_count": null,
   "id": "a2ba1fc5",
   "metadata": {
    "colab": {
     "base_uri": "https://localhost:8080/",
     "height": 487
    },
    "executionInfo": {
     "elapsed": 339,
     "status": "ok",
     "timestamp": 1731473845387,
     "user": {
      "displayName": "feiting yang",
      "userId": "10856826257804007456"
     },
     "user_tz": 300
    },
    "id": "a2ba1fc5",
    "outputId": "b2230dd3-760f-4c41-af9d-e2bc58822273"
   },
   "outputs": [
    {
     "data": {
      "image/png": "[encoded data removed]",
      "text/plain": [
       "<Figure size 800x500 with 1 Axes>"
      ]
     },
     "metadata": {},
     "output_type": "display_data"
    }
   ],
   "source": [
    "# Calculate the distribution of each category ('J' and 'P')\n",
    "category_counts = df['J/P'].value_counts()\n",
    "\n",
    "# Plotting the distribution as a bar chart\n",
    "plt.figure(figsize=(8, 5))\n",
    "bars = plt.bar(category_counts.index, category_counts.values)\n",
    "\n",
    "# Adding values on top of the bars\n",
    "for bar in bars:\n",
    "    plt.text(bar.get_x() + bar.get_width() / 2, bar.get_height(), str(bar.get_height()),\n",
    "             ha='center', va='bottom', fontsize=12)\n",
    "plt.xlabel('Category (J/P)')\n",
    "plt.ylabel('Count')\n",
    "plt.title('Distribution of J/P Categories in the Dataset')\n",
    "plt.show()"
   ]
  },
  {
   "cell_type": "markdown",
   "id": "66f18989",
   "metadata": {
    "id": "66f18989"
   },
   "source": [
    "## Label encoding(I:1,E:0)(N:0,S:1)(F:0,T:1)(J:0,P:1)"
   ]
  },
  {
   "cell_type": "code",
   "execution_count": 24,
   "id": "33a567f4",
   "metadata": {
    "executionInfo": {
     "elapsed": 317,
     "status": "ok",
     "timestamp": 1731788987192,
     "user": {
      "displayName": "Zijun Chen (James)",
      "userId": "01511600281259603469"
     },
     "user_tz": 300
    },
    "id": "33a567f4"
   },
   "outputs": [],
   "source": [
    "le = LabelEncoder()\n",
    "df['I/E'] = le.fit_transform(df['I/E'])\n",
    "df['N/S'] = le.fit_transform(df['N/S'])\n",
    "df['T/F'] = le.fit_transform(df['T/F'])\n",
    "df['J/P'] = le.fit_transform(df['J/P'])"
   ]
  },
  {
   "cell_type": "code",
   "execution_count": 25,
   "id": "646d9560",
   "metadata": {
    "colab": {
     "base_uri": "https://localhost:8080/",
     "height": 206
    },
    "executionInfo": {
     "elapsed": 325,
     "status": "ok",
     "timestamp": 1731788989428,
     "user": {
      "displayName": "Zijun Chen (James)",
      "userId": "01511600281259603469"
     },
     "user_tz": 300
    },
    "id": "646d9560",
    "outputId": "6b19489e-b706-4eeb-e91e-c391073264cb"
   },
   "outputs": [
    {
     "data": {
      "application/vnd.google.colaboratory.intrinsic+json": {
       "summary": "{\n  \"name\": \"df\",\n  \"rows\": 8675,\n  \"fields\": [\n    {\n      \"column\": \"type\",\n      \"properties\": {\n        \"dtype\": \"category\",\n        \"num_unique_values\": 16,\n        \"samples\": [\n          \"INFJ\",\n          \"ENTP\",\n          \"ENFJ\"\n        ],\n        \"semantic_type\": \"\",\n        \"description\": \"\"\n      }\n    },\n    {\n      \"column\": \"posts\",\n      \"properties\": {\n        \"dtype\": \"string\",\n        \"num_unique_values\": 8675,\n        \"samples\": [\n          \"lie avoid unreason respons someth complet justifi tri justifi someon els theyd hung iyour iq sd15 128i typic difficult time maintain friend ive come realiz ive peopl talk year still dont want talk got bore theman intj friend mine told realli hate eat repetit intp dont realli feel bother dont realli regist eat im think aboutsimilar mind advanc testintp 9 sxso lot friend one speak actual feel 1 talk actual think regard toget close someon end want infinit close end merg everi damn timeinterest topic know two enfp 1 strang intp view stuff come onto sort get realli close open enfp doa far im awar normal peopl much pessimist self human social creatur feel better social reason beingvajrayaksa dare use lelouch intp intj sayi normal think stuff dont actual ityoul probabl find comment nihilist thought logic would make open dismiss idea mere make agre idea theyll feel need todont worri call thinker sameintj winter coldest entj summer actual thing entp spring bring fun peopl intp autumn one ever notic season known coupl entp one entj intj kind went entpentjentpintj love abl constantli talk entp also need know stop talk entpif mean actual 1v1ing also done mayb im wrong find pretti easi think logic move player play make informationgend femal age 1929 intellig gift idea adopt earlyadopt mbti person profil esfp closest altern found esfj think kill told writeim fine im shortag peopl id ever want that ground socialis could done could well done skype without thei use use pencil told teacher want use pen use pen havent use pencil exclud game naught cross earlier coupleid love either calm hous somewher distant porch log cabin aesthet fuck want log cabin id actual realli like idea one smokeyyeah enjoy listen lyric doesnt make much differ theyr present theyr anoth part instrument dont necessarili listen tomor often someon go fulli enter world invit first similar friend internet fewwhat get today head shit shit shit miss birthday suppos get someth good friend buy stuff ii frequent say hand thing someon someth realli awesom say fuck yeah love man someth like say genuin way itd feel reallyso someth strang happen recent interest drawn naught cross could make enjoy play start increas grid size triedyou could tell thought could tell thought continu brew think there reason asham annoy anyth dontloudli whilst drew hisand babi platypi quiveredparticularli higher regionsstart linger feelingwhat point stop matter theyr call guilti pleasur pleasur reason matter muchtheir god dam storypost multipl time doit impress peopl wouldmaximum five word per line feel free say stuff make sure clear five word upon time insomeon appreci cc fuck yeahyeezu cant come reason conclus without pick fight open mindedmor often judg pure judg dark sens humor im exactli secret get along peopl ground im friendli toi chose avatar awesom art work kaneki tokyo ghoul god love manga love tragedi name slightli alter version name georg georgiu like haloviol situat would probabl faster way get thing done parti involv especi receiv end tri talk sens someon said somethingbut sure point everyon would wors initi isnt relev rebuild system would obvious issu im cri revolut im beingw call diagon alleyim make pretti big point person peopl expect feel want person feel wrong someon cri eye lyinggood call that read four dimension planewhi airplan aeroplanehit expect live expect infuri probablyit hit women polit incorrect women use advantagewhat he say assum say someth worthi hit grate theyr hit expect hit basisi particularli common amongst intp type acknowledg anoth side point view even though social shouldnt mean cant convers\",\n          \"said zero flexibl littl time date go around sift date find one click isnt go viabl noth maintain relationship ihow youv come conclus noth offer mere busi beyond realli made stuffokay isnt cool your specif look get relationship your enter life phase resourc give relationship isi take slow that im still singl im interest make friend friend enough like im interest go date intent enter aabsolut find idea repugn actuallypeopl could polit mayb averag conserv bet im claim im social butterfli im normal guy introvert social doofu dontim probabl give onlin thing next subscript run realli dont know look bar definit dont understand peopl meet theiriv tri way actual last women gone gotten realli weird andor ignor backhand compliment dont know anymor seem get screw eitherim actual pretti healthi sorri feel way sure one met asshol exist everywher number isnt anywher near 99 thoughif anyth err side indiffer definit overeageryeah close friend dont live near anymor issu meet peopl good amount noth work want know deform infirm mental unstablemi friend wors posit ask isnt go help far feedback realli seem like extraordinarili awkward thing ask someon barelyso im 26 year old male strike time time come relationship ive one relationship entir life last like 15 year end wasi dont think sort date method reason best counterproduct friend first throw wrench normal smooth date process fearnev kissi appreci feedback think im go tell shouldnt hang unless dedic decent amount time happen right drag thing andi dont know think im verg give noth see infrequ make offici keep thingsi dont know im model anyth im decent look she drop dead gorgeou nice smart guy alway seem im also smarter better careeri like answer mayb im optimist basic ive cant shake feel wouldnt give time werent interest andhow suppos know infj want friend thing weird infj ive see ive upfront intent essenti told sheinterest find unusu infj known take forev open trust peopl yet respons far indic kiss 3 fewer datesmi infj friend intj dont want bust confid even though like first soon found put felt cage see thatenlighten us infj also indic gender initiatedwel also said basic tri figur im trustworthi decentthos two thing seem odd simultan say thing need said also proactiv aggressivepretti much yeah women enjoy compani level im situat never femal friend date one person life last littl less two year thei dont think go help dig clingi seem hole dug basic ask knew romant interest respond cours loli let thing proceed natur pace pretti piss zero chanc speak againi read thread tell never anyth egregi good chanc lost interest blunt though loli broke shortli post felt like slime ball peopl tell she lost caus see peopl btw well developedupd told like got reassur like even wasnt interest said ambival right im pretti much call pointyeah told didnt get affirm like didnt basic said known like pretti much expect probabl go call iti crystal ball refer suppos mean guess good mine edit guess pso ive gone six date infj 3 month period she pretti busi recent feel like progress littl glacial bit thought warm upsh hate text yeah told picki peopl recent normal wouldnt give anyon time dayyou would liter autism spectrum disord would know mention dont tell someon friend much like would bizarreit kind hard get point offici date idea go head know attempt kiss would result abject horror assaultspok last night essenti said like lot would normal never make time peopl unless oblig also indirectli use word friend itso met infj femal back weve like five time date go well get along everyth seem nice find attract quit bit dont know kind rule dont compliment femal appear trust compliment person time extrem cautiou iwel new question went second date day ago went well said want meet problem hasnt ounc flirt touchingsh start initi ask im free soon anyth learn dont play analysi game loseexpect ofi dont know cant realli fault strong introvert wari someon doesnt realli know number 2 cruel modern date work pretti sure isnt thei dont know cant realli fault strong introvert wari someon doesnt realli know number 2 cruel modern date work pretti sure isnt thethank option 1 seem like seem whenev final get open like cascad good convers final ensu like pull teeth initi iim social retard would know random stranger ask contact info ask drink lunch person probabl isnt interest friendsso shouldnt deter fact doesnt realli ever reach dont enjoy appear like someon cant take hint put someon els awkward situat worryno seem fit pretti wellthank advic everyon appreci take time respond\",\n          \"written bia someth im sure could even say truth reason put subject god man say noth make main prioriti church written throughout text past nearli 2000 year reverber throughout church dialogu incid aboutthat annoy phrase obtus confus newcom dont blame respons must reveal knowledg speak truth contain biasther priestli desk job closest thing priest get away peopl monk differ tell outno realli wont cant go intp assum intellig level would end failur dont afraid ask big question muse intp tri toheresi like core reason christian infight occur everyth els minor disput theolog opinionsthat exceedingli subject see theyr interest strike convers definit ask thoughtsto dismiss concept dismiss histori topic dismiss apostl taught liter sect christian fine whateverdo cool shit discuss idea patienc dont tri judg person quickli control also make first move show your interest talk themi use feel read book selfmad man lesbian butch woman dress like man tri live one notic consid feminin man quiteim sure hell go thread would like say know entj person dont think itd neat thoughal church form polit institut cathol orthodox one benefit central sect declar doctrin one way anoth your speak againstand bore post whole threadwhat part idea teach author problem church 13th centuri idea group guid holi spirit decis onfor cathol church dual mean whole believ bodi christ polit institut catholic teach christ said protect bypriest reloc parish may quiet critic time handl thing poor decis decis church first prioritywel sure ye church protect child offend church reason imag church leadership ignor size problem churchedit base doubl postno realli isnt bibl canon collect text bibl establish theolog histor work done establish canon modifiedy nevermind two claim contradict could work contradict your struggl wouldnt say that there way tell mani depend logic andor histori contradict ruin claim grant case yet abl know mani canth problem induct grand way humbl scientif find your younger bring question know could call truerubix cubespanth make sens id advis otherwis atheism abraham theism two ration choicesy motherfuckerwhat mean everyth univers exist learn love itdisappoint 24 year old report good luck opthi exceedingli naiv earli church scriptur appli teach better societi scriptur held high esteem basi properli better societi workfrom cathol catech list offici teach read bibl iii holi spirit interpret scriptur 109 sacr scriptur god speak man ai never like peopl point scandinavian model success econom system incred oil natur resourc suppli compar small populationswhil shit got stupid moment let tri get back trackyour pretti smart know look fucker think im smart pfftexceedingli pooriv told im bright im sure everyon els say kidsand youth effici way remov selfdoubt stop doubt much faith trust niggay suspect wrongli like chatter im friendli serious hope good day tooinde feel free askarguech bullshit want good one manid say that stretch say cathol believ bibl inspir god written men orthodox assembl biblic canon id say greatest sayedit welpi see argument inconsist sometim arent actual inconsist sometim find simplest exampl true one rabbit appar chewingsorri take long get back internet screw horribl answer consider amount thing got atheist train toth believ portion long arduou process research cultur hobbi eventu roll around religion interest topic eventu began toto first statement even come cours know love though god know fulli id argu hell taken varieti ofim mix critic christian envi ive seen video popular piss poor max scheler wonder job make argument otherwis hispeopl believ someth incontrovert true get peopl murder rage incontrovert true empir true major opinion tosur thing sound sorta similar epicurean paradox sufferingfre exist strengthen good creat peopl may know love sincer know love theyyo christian intp anyth wantit make healthi children let healthi babi live issu moral issu innat valu life249210\"\n        ],\n        \"semantic_type\": \"\",\n        \"description\": \"\"\n      }\n    },\n    {\n      \"column\": \"I/E\",\n      \"properties\": {\n        \"dtype\": \"number\",\n        \"std\": 0,\n        \"min\": 0,\n        \"max\": 1,\n        \"num_unique_values\": 2,\n        \"samples\": [\n          0,\n          1\n        ],\n        \"semantic_type\": \"\",\n        \"description\": \"\"\n      }\n    },\n    {\n      \"column\": \"N/S\",\n      \"properties\": {\n        \"dtype\": \"number\",\n        \"std\": 0,\n        \"min\": 0,\n        \"max\": 1,\n        \"num_unique_values\": 2,\n        \"samples\": [\n          1,\n          0\n        ],\n        \"semantic_type\": \"\",\n        \"description\": \"\"\n      }\n    },\n    {\n      \"column\": \"T/F\",\n      \"properties\": {\n        \"dtype\": \"number\",\n        \"std\": 0,\n        \"min\": 0,\n        \"max\": 1,\n        \"num_unique_values\": 2,\n        \"samples\": [\n          1,\n          0\n        ],\n        \"semantic_type\": \"\",\n        \"description\": \"\"\n      }\n    },\n    {\n      \"column\": \"J/P\",\n      \"properties\": {\n        \"dtype\": \"number\",\n        \"std\": 0,\n        \"min\": 0,\n        \"max\": 1,\n        \"num_unique_values\": 2,\n        \"samples\": [\n          1,\n          0\n        ],\n        \"semantic_type\": \"\",\n        \"description\": \"\"\n      }\n    }\n  ]\n}",
       "type": "dataframe",
       "variable_name": "df"
      },
      "text/html": [
       "\n",
       "  <div id=\"df-87f2de11-2860-4d64-ba44-464fa07b7bf4\" class=\"colab-df-container\">\n",
       "    <div>\n",
       "<style scoped>\n",
       "    .dataframe tbody tr th:only-of-type {\n",
       "        vertical-align: middle;\n",
       "    }\n",
       "\n",
       "    .dataframe tbody tr th {\n",
       "        vertical-align: top;\n",
       "    }\n",
       "\n",
       "    .dataframe thead th {\n",
       "        text-align: right;\n",
       "    }\n",
       "</style>\n",
       "<table border=\"1\" class=\"dataframe\">\n",
       "  <thead>\n",
       "    <tr style=\"text-align: right;\">\n",
       "      <th></th>\n",
       "      <th>type</th>\n",
       "      <th>posts</th>\n",
       "      <th>I/E</th>\n",
       "      <th>N/S</th>\n",
       "      <th>T/F</th>\n",
       "      <th>J/P</th>\n",
       "    </tr>\n",
       "  </thead>\n",
       "  <tbody>\n",
       "    <tr>\n",
       "      <th>0</th>\n",
       "      <td>INFJ</td>\n",
       "      <td>intj moment sportscent top ten play prankswhat...</td>\n",
       "      <td>1</td>\n",
       "      <td>0</td>\n",
       "      <td>0</td>\n",
       "      <td>0</td>\n",
       "    </tr>\n",
       "    <tr>\n",
       "      <th>1</th>\n",
       "      <td>ENTP</td>\n",
       "      <td>im find lack post alarmingsex bore posit often...</td>\n",
       "      <td>0</td>\n",
       "      <td>0</td>\n",
       "      <td>1</td>\n",
       "      <td>1</td>\n",
       "    </tr>\n",
       "    <tr>\n",
       "      <th>2</th>\n",
       "      <td>INTP</td>\n",
       "      <td>good one cours say know that bless cursedo abs...</td>\n",
       "      <td>1</td>\n",
       "      <td>0</td>\n",
       "      <td>1</td>\n",
       "      <td>1</td>\n",
       "    </tr>\n",
       "    <tr>\n",
       "      <th>3</th>\n",
       "      <td>INTJ</td>\n",
       "      <td>dear intp enjoy convers day esoter gab natur u...</td>\n",
       "      <td>1</td>\n",
       "      <td>0</td>\n",
       "      <td>1</td>\n",
       "      <td>0</td>\n",
       "    </tr>\n",
       "    <tr>\n",
       "      <th>4</th>\n",
       "      <td>ENTJ</td>\n",
       "      <td>your firedthat anoth silli misconcept approach...</td>\n",
       "      <td>0</td>\n",
       "      <td>0</td>\n",
       "      <td>1</td>\n",
       "      <td>0</td>\n",
       "    </tr>\n",
       "  </tbody>\n",
       "</table>\n",
       "</div>\n",
       "    <div class=\"colab-df-buttons\">\n",
       "\n",
       "  <div class=\"colab-df-container\">\n",
       "    <button class=\"colab-df-convert\" onclick=\"convertToInteractive('df-87f2de11-2860-4d64-ba44-464fa07b7bf4')\"\n",
       "            title=\"Convert this dataframe to an interactive table.\"\n",
       "            style=\"display:none;\">\n",
       "\n",
       "  <svg xmlns=\"http://www.w3.org/2000/svg\" height=\"24px\" viewBox=\"0 -960 960 960\">\n",
       "    <path d=\"M120-120v-720h720v720H120Zm60-500h600v-160H180v160Zm220 220h160v-160H400v160Zm0 220h160v-160H400v160ZM180-400h160v-160H180v160Zm440 0h160v-160H620v160ZM180-180h160v-160H180v160Zm440 0h160v-160H620v160Z\"/>\n",
       "  </svg>\n",
       "    </button>\n",
       "\n",
       "  <style>\n",
       "    .colab-df-container {\n",
       "      display:flex;\n",
       "      gap: 12px;\n",
       "    }\n",
       "\n",
       "    .colab-df-convert {\n",
       "      background-color: #E8F0FE;\n",
       "      border: none;\n",
       "      border-radius: 50%;\n",
       "      cursor: pointer;\n",
       "      display: none;\n",
       "      fill: #1967D2;\n",
       "      height: 32px;\n",
       "      padding: 0 0 0 0;\n",
       "      width: 32px;\n",
       "    }\n",
       "\n",
       "    .colab-df-convert:hover {\n",
       "      background-color: #E2EBFA;\n",
       "      box-shadow: 0px 1px 2px rgba(60, 64, 67, 0.3), 0px 1px 3px 1px rgba(60, 64, 67, 0.15);\n",
       "      fill: #174EA6;\n",
       "    }\n",
       "\n",
       "    .colab-df-buttons div {\n",
       "      margin-bottom: 4px;\n",
       "    }\n",
       "\n",
       "    [theme=dark] .colab-df-convert {\n",
       "      background-color: #3B4455;\n",
       "      fill: #D2E3FC;\n",
       "    }\n",
       "\n",
       "    [theme=dark] .colab-df-convert:hover {\n",
       "      background-color: #434B5C;\n",
       "      box-shadow: 0px 1px 3px 1px rgba(0, 0, 0, 0.15);\n",
       "      filter: drop-shadow(0px 1px 2px rgba(0, 0, 0, 0.3));\n",
       "      fill: #FFFFFF;\n",
       "    }\n",
       "  </style>\n",
       "\n",
       "    <script>\n",
       "      const buttonEl =\n",
       "        document.querySelector('#df-87f2de11-2860-4d64-ba44-464fa07b7bf4 button.colab-df-convert');\n",
       "      buttonEl.style.display =\n",
       "        google.colab.kernel.accessAllowed ? 'block' : 'none';\n",
       "\n",
       "      async function convertToInteractive(key) {\n",
       "        const element = document.querySelector('#df-87f2de11-2860-4d64-ba44-464fa07b7bf4');\n",
       "        const dataTable =\n",
       "          await google.colab.kernel.invokeFunction('convertToInteractive',\n",
       "                                                    [key], {});\n",
       "        if (!dataTable) return;\n",
       "\n",
       "        const docLinkHtml = 'Like what you see? Visit the ' +\n",
       "          '<a target=\"_blank\" href=https://colab.research.google.com/notebooks/data_table.ipynb>data table notebook</a>'\n",
       "          + ' to learn more about interactive tables.';\n",
       "        element.innerHTML = '';\n",
       "        dataTable['output_type'] = 'display_data';\n",
       "        await google.colab.output.renderOutput(dataTable, element);\n",
       "        const docLink = document.createElement('div');\n",
       "        docLink.innerHTML = docLinkHtml;\n",
       "        element.appendChild(docLink);\n",
       "      }\n",
       "    </script>\n",
       "  </div>\n",
       "\n",
       "\n",
       "<div id=\"df-6a136c7b-30b3-4ed2-abff-a48dc941e65d\">\n",
       "  <button class=\"colab-df-quickchart\" onclick=\"quickchart('df-6a136c7b-30b3-4ed2-abff-a48dc941e65d')\"\n",
       "            title=\"Suggest charts\"\n",
       "            style=\"display:none;\">\n",
       "\n",
       "<svg xmlns=\"http://www.w3.org/2000/svg\" height=\"24px\"viewBox=\"0 0 24 24\"\n",
       "     width=\"24px\">\n",
       "    <g>\n",
       "        <path d=\"M19 3H5c-1.1 0-2 .9-2 2v14c0 1.1.9 2 2 2h14c1.1 0 2-.9 2-2V5c0-1.1-.9-2-2-2zM9 17H7v-7h2v7zm4 0h-2V7h2v10zm4 0h-2v-4h2v4z\"/>\n",
       "    </g>\n",
       "</svg>\n",
       "  </button>\n",
       "\n",
       "<style>\n",
       "  .colab-df-quickchart {\n",
       "      --bg-color: #E8F0FE;\n",
       "      --fill-color: #1967D2;\n",
       "      --hover-bg-color: #E2EBFA;\n",
       "      --hover-fill-color: #174EA6;\n",
       "      --disabled-fill-color: #AAA;\n",
       "      --disabled-bg-color: #DDD;\n",
       "  }\n",
       "\n",
       "  [theme=dark] .colab-df-quickchart {\n",
       "      --bg-color: #3B4455;\n",
       "      --fill-color: #D2E3FC;\n",
       "      --hover-bg-color: #434B5C;\n",
       "      --hover-fill-color: #FFFFFF;\n",
       "      --disabled-bg-color: #3B4455;\n",
       "      --disabled-fill-color: #666;\n",
       "  }\n",
       "\n",
       "  .colab-df-quickchart {\n",
       "    background-color: var(--bg-color);\n",
       "    border: none;\n",
       "    border-radius: 50%;\n",
       "    cursor: pointer;\n",
       "    display: none;\n",
       "    fill: var(--fill-color);\n",
       "    height: 32px;\n",
       "    padding: 0;\n",
       "    width: 32px;\n",
       "  }\n",
       "\n",
       "  .colab-df-quickchart:hover {\n",
       "    background-color: var(--hover-bg-color);\n",
       "    box-shadow: 0 1px 2px rgba(60, 64, 67, 0.3), 0 1px 3px 1px rgba(60, 64, 67, 0.15);\n",
       "    fill: var(--button-hover-fill-color);\n",
       "  }\n",
       "\n",
       "  .colab-df-quickchart-complete:disabled,\n",
       "  .colab-df-quickchart-complete:disabled:hover {\n",
       "    background-color: var(--disabled-bg-color);\n",
       "    fill: var(--disabled-fill-color);\n",
       "    box-shadow: none;\n",
       "  }\n",
       "\n",
       "  .colab-df-spinner {\n",
       "    border: 2px solid var(--fill-color);\n",
       "    border-color: transparent;\n",
       "    border-bottom-color: var(--fill-color);\n",
       "    animation:\n",
       "      spin 1s steps(1) infinite;\n",
       "  }\n",
       "\n",
       "  @keyframes spin {\n",
       "    0% {\n",
       "      border-color: transparent;\n",
       "      border-bottom-color: var(--fill-color);\n",
       "      border-left-color: var(--fill-color);\n",
       "    }\n",
       "    20% {\n",
       "      border-color: transparent;\n",
       "      border-left-color: var(--fill-color);\n",
       "      border-top-color: var(--fill-color);\n",
       "    }\n",
       "    30% {\n",
       "      border-color: transparent;\n",
       "      border-left-color: var(--fill-color);\n",
       "      border-top-color: var(--fill-color);\n",
       "      border-right-color: var(--fill-color);\n",
       "    }\n",
       "    40% {\n",
       "      border-color: transparent;\n",
       "      border-right-color: var(--fill-color);\n",
       "      border-top-color: var(--fill-color);\n",
       "    }\n",
       "    60% {\n",
       "      border-color: transparent;\n",
       "      border-right-color: var(--fill-color);\n",
       "    }\n",
       "    80% {\n",
       "      border-color: transparent;\n",
       "      border-right-color: var(--fill-color);\n",
       "      border-bottom-color: var(--fill-color);\n",
       "    }\n",
       "    90% {\n",
       "      border-color: transparent;\n",
       "      border-bottom-color: var(--fill-color);\n",
       "    }\n",
       "  }\n",
       "</style>\n",
       "\n",
       "  <script>\n",
       "    async function quickchart(key) {\n",
       "      const quickchartButtonEl =\n",
       "        document.querySelector('#' + key + ' button');\n",
       "      quickchartButtonEl.disabled = true;  // To prevent multiple clicks.\n",
       "      quickchartButtonEl.classList.add('colab-df-spinner');\n",
       "      try {\n",
       "        const charts = await google.colab.kernel.invokeFunction(\n",
       "            'suggestCharts', [key], {});\n",
       "      } catch (error) {\n",
       "        console.error('Error during call to suggestCharts:', error);\n",
       "      }\n",
       "      quickchartButtonEl.classList.remove('colab-df-spinner');\n",
       "      quickchartButtonEl.classList.add('colab-df-quickchart-complete');\n",
       "    }\n",
       "    (() => {\n",
       "      let quickchartButtonEl =\n",
       "        document.querySelector('#df-6a136c7b-30b3-4ed2-abff-a48dc941e65d button');\n",
       "      quickchartButtonEl.style.display =\n",
       "        google.colab.kernel.accessAllowed ? 'block' : 'none';\n",
       "    })();\n",
       "  </script>\n",
       "</div>\n",
       "\n",
       "    </div>\n",
       "  </div>\n"
      ],
      "text/plain": [
       "   type                                              posts  I/E  N/S  T/F  J/P\n",
       "0  INFJ  intj moment sportscent top ten play prankswhat...    1    0    0    0\n",
       "1  ENTP  im find lack post alarmingsex bore posit often...    0    0    1    1\n",
       "2  INTP  good one cours say know that bless cursedo abs...    1    0    1    1\n",
       "3  INTJ  dear intp enjoy convers day esoter gab natur u...    1    0    1    0\n",
       "4  ENTJ  your firedthat anoth silli misconcept approach...    0    0    1    0"
      ]
     },
     "execution_count": 25,
     "metadata": {},
     "output_type": "execute_result"
    }
   ],
   "source": [
    "df.head()"
   ]
  },
  {
   "cell_type": "code",
   "execution_count": 90,
   "id": "eWd9cnvG-JnL",
   "metadata": {
    "executionInfo": {
     "elapsed": 2312,
     "status": "ok",
     "timestamp": 1731794152988,
     "user": {
      "displayName": "Zijun Chen (James)",
      "userId": "01511600281259603469"
     },
     "user_tz": 300
    },
    "id": "eWd9cnvG-JnL"
   },
   "outputs": [],
   "source": [
    "df.to_csv('/content/mbti_data.csv', index=False)"
   ]
  },
  {
   "cell_type": "markdown",
   "id": "45816439",
   "metadata": {
    "id": "45816439",
    "jp-MarkdownHeadingCollapsed": true
   },
   "source": [
    "### Subclassifier I/E"
   ]
  },
  {
   "cell_type": "code",
   "execution_count": 26,
   "id": "18b099b1",
   "metadata": {
    "executionInfo": {
     "elapsed": 314,
     "status": "ok",
     "timestamp": 1731789001650,
     "user": {
      "displayName": "Zijun Chen (James)",
      "userId": "01511600281259603469"
     },
     "user_tz": 300
    },
    "id": "18b099b1"
   },
   "outputs": [],
   "source": [
    "# Train-validation split\n",
    "train_texts, val_texts, train_labels, val_labels = train_test_split(\n",
    "    df['posts'], df['I/E'], test_size=0.2, stratify=df['I/E'], random_state=42\n",
    ")"
   ]
  },
  {
   "cell_type": "code",
   "execution_count": 27,
   "id": "7d225f2e",
   "metadata": {
    "colab": {
     "base_uri": "https://localhost:8080/",
     "height": 281,
     "referenced_widgets": [
      "b0f3f81429e14402abe4f2b31ead1ea1",
      "7e280b423cee4e199921c7635f16857a",
      "0b90476adca3498ebb4065f9bc0ca353",
      "db5cf9a5cae34eb99861c76449158616",
      "41553ac0717c4e0da2bd959dc015df75",
      "f537a27914e847deaf5eaa4b8c93ab44",
      "cba16939cd74475db7a316a682c5e0c5",
      "31e889920ca94872b7edd3c930b796af",
      "22b6823a19194ae28d689cdcc904e503",
      "b20dba88e50a404eb950a44b04b9119f",
      "d6f67e9d25ae45f6a836d5c5ea0f2d83",
      "45b7f79ddf4a4a3ba0f9066ec2fa440c",
      "d171f55c48d04e18bbb883772c9d7519",
      "19aaf08063c84f619dd29978a5cb5ca8",
      "6a4e3ad8fc9847469519781a62b7c45c",
      "253ce9a5eed3440eb2791d751b038b51",
      "f0c67db53c094c0e8a21a6432ecec0e0",
      "86c9b713effa42d7acb956fc3e84aab9",
      "21417bd64f374c599e937643dd102a42",
      "91481f2ff34e4089a12cd19618d83988",
      "82384fda94844e0994dbde6bdc86cf45",
      "84655277a94a454db150f84226216dda",
      "b194321ed63648fdbe4eccd5c2858457",
      "6218ce71824148549d93ec4ab6e44e86",
      "6c66e449d32a4a0bb7f4b10ea3ba2bbf",
      "fffd63653e24444a8361dd7c83307824",
      "2a6123664bd64ca99bbfbde507a82a1f",
      "e0f6f6801b2144138f3e0808d221fde0",
      "f72716ab17ff4e50bf3a54b1e0a44dad",
      "ff91e5d1a5bb4ceb92dd1e098718ca04",
      "5f418f63aaa141b385327142c7435b1e",
      "09e24b42a01a46fd94be6c092ccda77e",
      "f38902f9f8ba49378d1edad0e8cb1b9a",
      "9a4b71c4a8a34bd38c75244aa152df12",
      "5ec79f3a5d9b445a91f2c0578c32365a",
      "83d65f007436460eb3437c6c14a43574",
      "edd43e5b4b3c4a8687d5a026ed3cc654",
      "78969d5c2eea485191679ac42371ec5a",
      "40e6c0b2b7934f79a633a4d4dbeda39b",
      "e2c6067e5d054c678ec20d202b4e2aa4",
      "1436bacffdf14cebacba2a2f4abfefdf",
      "e569218532644089b6551b9c8b5a1db1",
      "d30c0bee26354402a5dddcd9b06f382c",
      "9671fb96ae254feca87f236b7e8c8d9c",
      "482eaba7a567481e9d406e14f01d095c",
      "7cf653ec8f8848dab6c0a53c6ef3fe9b",
      "913dc072800d4a5a843875d95ca2ab3b",
      "748c35d2101144b48aee39df4566ead4",
      "8afd8bc58e674faebbdf34b67fb09407",
      "106e63bf07094a7f87278e99fcab3721",
      "90c589fe8dfa4ba9907d354fb21634f8",
      "a3d3f5c4a9d24d4db0b6fae6f9ceaf06",
      "56244a04ad884a4fa19d895f975fbeca",
      "0ec2527f4f94415ea242a306f9ea7055",
      "8b75f76343944103880110ff2417df52"
     ]
    },
    "executionInfo": {
     "elapsed": 24867,
     "status": "ok",
     "timestamp": 1731789028524,
     "user": {
      "displayName": "Zijun Chen (James)",
      "userId": "01511600281259603469"
     },
     "user_tz": 300
    },
    "id": "7d225f2e",
    "outputId": "f1b199ef-11eb-4454-aab3-c22c3e0fa4a6"
   },
   "outputs": [
    {
     "name": "stderr",
     "output_type": "stream",
     "text": [
      "/usr/local/lib/python3.10/dist-packages/huggingface_hub/utils/_auth.py:94: UserWarning: \n",
      "The secret `HF_TOKEN` does not exist in your Colab secrets.\n",
      "To authenticate with the Hugging Face Hub, create a token in your settings tab (https://huggingface.co/settings/tokens), set it as secret in your Google Colab and restart your session.\n",
      "You will be able to reuse this secret in all of your notebooks.\n",
      "Please note that authentication is recommended but still optional to access public models or datasets.\n",
      "  warnings.warn(\n"
     ]
    },
    {
     "data": {
      "application/vnd.jupyter.widget-view+json": {
       "model_id": "b0f3f81429e14402abe4f2b31ead1ea1",
       "version_major": 2,
       "version_minor": 0
      },
      "text/plain": [
       "tokenizer_config.json:   0%|          | 0.00/26.0 [00:00<?, ?B/s]"
      ]
     },
     "metadata": {},
     "output_type": "display_data"
    },
    {
     "data": {
      "application/vnd.jupyter.widget-view+json": {
       "model_id": "45b7f79ddf4a4a3ba0f9066ec2fa440c",
       "version_major": 2,
       "version_minor": 0
      },
      "text/plain": [
       "config.json:   0%|          | 0.00/665 [00:00<?, ?B/s]"
      ]
     },
     "metadata": {},
     "output_type": "display_data"
    },
    {
     "data": {
      "application/vnd.jupyter.widget-view+json": {
       "model_id": "b194321ed63648fdbe4eccd5c2858457",
       "version_major": 2,
       "version_minor": 0
      },
      "text/plain": [
       "vocab.json:   0%|          | 0.00/1.04M [00:00<?, ?B/s]"
      ]
     },
     "metadata": {},
     "output_type": "display_data"
    },
    {
     "data": {
      "application/vnd.jupyter.widget-view+json": {
       "model_id": "9a4b71c4a8a34bd38c75244aa152df12",
       "version_major": 2,
       "version_minor": 0
      },
      "text/plain": [
       "merges.txt:   0%|          | 0.00/456k [00:00<?, ?B/s]"
      ]
     },
     "metadata": {},
     "output_type": "display_data"
    },
    {
     "data": {
      "application/vnd.jupyter.widget-view+json": {
       "model_id": "482eaba7a567481e9d406e14f01d095c",
       "version_major": 2,
       "version_minor": 0
      },
      "text/plain": [
       "tokenizer.json:   0%|          | 0.00/1.36M [00:00<?, ?B/s]"
      ]
     },
     "metadata": {},
     "output_type": "display_data"
    }
   ],
   "source": [
    "# Tokenize the texts\n",
    "tokenizer = AutoTokenizer.from_pretrained('gpt2')\n",
    "tokenizer.pad_token = tokenizer.eos_token\n",
    "\n",
    "def tokenize_function(texts):\n",
    "    texts_list = texts.tolist()\n",
    "    return tokenizer(texts_list, truncation=True, padding=True, max_length=100)\n",
    "\n",
    "train_encodings = tokenize_function(train_texts)\n",
    "val_encodings = tokenize_function(val_texts)"
   ]
  },
  {
   "cell_type": "code",
   "execution_count": 158,
   "id": "31750445-228b-4777-a853-8d1dffbe55f6",
   "metadata": {},
   "outputs": [],
   "source": [
    "# Convert to PyTorch datasets\n",
    "class MBTIDataset(torch.utils.data.Dataset):\n",
    "    def __init__(self, encodings, labels):\n",
    "        self.encodings = encodings\n",
    "        self.labels = labels.reset_index(drop=True)\n",
    "\n",
    "    def __getitem__(self, idx):\n",
    "        item = {key: torch.tensor(val[idx]) for key, val in self.encodings.items()}\n",
    "        item['labels'] = torch.tensor(self.labels[idx])\n",
    "        return item\n",
    "\n",
    "    def __len__(self):\n",
    "        return len(self.labels)"
   ]
  },
  {
   "cell_type": "code",
   "execution_count": 86,
   "id": "a0c7c385",
   "metadata": {
    "executionInfo": {
     "elapsed": 333,
     "status": "ok",
     "timestamp": 1731793913346,
     "user": {
      "displayName": "Zijun Chen (James)",
      "userId": "01511600281259603469"
     },
     "user_tz": 300
    },
    "id": "a0c7c385"
   },
   "outputs": [],
   "source": [
    "train_dataset = MBTIDataset(train_encodings, train_labels)\n",
    "val_dataset = MBTIDataset(val_encodings, val_labels)"
   ]
  },
  {
   "cell_type": "markdown",
   "id": "d83d0d7c",
   "metadata": {
    "id": "d83d0d7c",
    "jp-MarkdownHeadingCollapsed": true
   },
   "source": [
    "### Subclassifier N/S"
   ]
  },
  {
   "cell_type": "code",
   "execution_count": 80,
   "id": "7ded55f7",
   "metadata": {
    "executionInfo": {
     "elapsed": 19449,
     "status": "ok",
     "timestamp": 1731793640378,
     "user": {
      "displayName": "Zijun Chen (James)",
      "userId": "01511600281259603469"
     },
     "user_tz": 300
    },
    "id": "7ded55f7"
   },
   "outputs": [],
   "source": [
    "# Train-validation split\n",
    "train_texts, val_texts, train_labels, val_labels = train_test_split(\n",
    "    df['posts'], df['N/S'], test_size=0.2, stratify=df['N/S'], random_state=42\n",
    ")\n",
    "# Tokenize the texts\n",
    "tokenizer = AutoTokenizer.from_pretrained('gpt2')\n",
    "tokenizer.pad_token = tokenizer.eos_token\n",
    "train_encodings = tokenize_function(train_texts)\n",
    "val_encodings = tokenize_function(val_texts)\n",
    "# Convert to PyTorch datasets\n",
    "train_dataset = MBTIDataset(train_encodings, train_labels)\n",
    "val_dataset = MBTIDataset(val_encodings, val_labels)"
   ]
  },
  {
   "cell_type": "markdown",
   "id": "52251300",
   "metadata": {
    "id": "52251300",
    "jp-MarkdownHeadingCollapsed": true
   },
   "source": [
    "### Subclassifier T/F"
   ]
  },
  {
   "cell_type": "code",
   "execution_count": 81,
   "id": "193247e9",
   "metadata": {
    "executionInfo": {
     "elapsed": 24075,
     "status": "ok",
     "timestamp": 1731793766111,
     "user": {
      "displayName": "Zijun Chen (James)",
      "userId": "01511600281259603469"
     },
     "user_tz": 300
    },
    "id": "193247e9"
   },
   "outputs": [],
   "source": [
    "# Train-validation split\n",
    "train_texts, val_texts, train_labels, val_labels = train_test_split(\n",
    "    df['posts'], df['T/F'], test_size=0.2, stratify=df['T/F'], random_state=42\n",
    ")\n",
    "# Tokenize the texts\n",
    "tokenizer = AutoTokenizer.from_pretrained('gpt2')\n",
    "tokenizer.pad_token = tokenizer.eos_token\n",
    "train_encodings = tokenize_function(train_texts)\n",
    "val_encodings = tokenize_function(val_texts)\n",
    "# Convert to PyTorch datasets\n",
    "train_dataset = MBTIDataset(train_encodings, train_labels)\n",
    "val_dataset = MBTIDataset(val_encodings, val_labels)"
   ]
  },
  {
   "cell_type": "markdown",
   "id": "c355053b",
   "metadata": {
    "id": "c355053b",
    "jp-MarkdownHeadingCollapsed": true
   },
   "source": [
    "### Subclassifier P/J"
   ]
  },
  {
   "cell_type": "code",
   "execution_count": 85,
   "id": "4a181156",
   "metadata": {
    "executionInfo": {
     "elapsed": 23110,
     "status": "ok",
     "timestamp": 1731793824418,
     "user": {
      "displayName": "Zijun Chen (James)",
      "userId": "01511600281259603469"
     },
     "user_tz": 300
    },
    "id": "4a181156"
   },
   "outputs": [],
   "source": [
    "# Train-validation split\n",
    "train_texts, val_texts, train_labels, val_labels = train_test_split(\n",
    "    df['posts'], df['J/P'], test_size=0.2, stratify=df['J/P'], random_state=42\n",
    ")\n",
    "# Tokenize the texts\n",
    "tokenizer = AutoTokenizer.from_pretrained('gpt2')\n",
    "tokenizer.pad_token = tokenizer.eos_token\n",
    "train_encodings = tokenize_function(train_texts)\n",
    "val_encodings = tokenize_function(val_texts)\n",
    "# Convert to PyTorch datasets\n",
    "train_dataset = MBTIDataset(train_encodings, train_labels)\n",
    "val_dataset = MBTIDataset(val_encodings, val_labels)"
   ]
  },
  {
   "cell_type": "markdown",
   "id": "fqRNBSc6nYU2",
   "metadata": {
    "id": "fqRNBSc6nYU2"
   },
   "source": [
    "## Test Set\n",
    "Repeat the above pre-processing steps to create test set using newly collected data"
   ]
  },
  {
   "cell_type": "code",
   "execution_count": 77,
   "id": "4Ud44PssndlT",
   "metadata": {
    "executionInfo": {
     "elapsed": 2555,
     "status": "ok",
     "timestamp": 1731792151976,
     "user": {
      "displayName": "Zijun Chen (James)",
      "userId": "01511600281259603469"
     },
     "user_tz": 300
    },
    "id": "4Ud44PssndlT"
   },
   "outputs": [],
   "source": [
    "csv_test_path = '/content/collected_posts_cleaned.csv'\n",
    "df_test = pd.read_csv(csv_test_path)\n",
    "df_test['I/E'] = df_test['type'].apply(lambda x: 'I' if 'I' in x else 'E')\n",
    "df_test['N/S'] = df_test['type'].apply(lambda x: 'N' if 'N' in x else 'S')\n",
    "df_test['T/F'] = df_test['type'].apply(lambda x: 'T' if 'T' in x else 'F')\n",
    "df_test['J/P'] = df_test['type'].apply(lambda x: 'J' if 'J' in x else 'P')\n",
    "df_test['posts'] = df_test['posts'].apply(lambda x: re.sub(r'http\\S+|www.\\S+|\\|\\|\\|', '', x))\n",
    "df_test['posts']=df_test['posts'].apply(lambda x:puntucation_free(x))\n",
    "df_test['posts']=df_test['posts'].apply(lambda x:x.lower())\n",
    "df_test['posts']=df_test['posts'].apply(lambda x:word_tokenize(x))\n",
    "df_test['posts']=df_test['posts'].apply(lambda x:remove_stopwords(x))\n",
    "df_test['posts']=df_test['posts'].apply(lambda x:stemming(x))\n",
    "df_test['posts'] = df_test['posts'].str.join(' ')\n",
    "df_test['I/E'] = le.fit_transform(df_test['I/E'])\n",
    "df_test['N/S'] = le.fit_transform(df_test['N/S'])\n",
    "df_test['T/F'] = le.fit_transform(df_test['T/F'])\n",
    "df_test['J/P'] = le.fit_transform(df_test['J/P'])\n",
    "df_test['type_encoding'] = df_test[['I/E', 'N/S', 'T/F', 'J/P']].astype(str).agg(''.join, axis=1)\n",
    "df_test = df_test.drop(columns=['I/E', 'N/S', 'T/F', 'J/P'])\n",
    "df_test.head()\n",
    "test_labels = df_test['type_encoding'].astype(int)\n",
    "test_encodings = tokenizer(df_test['posts'].tolist(), padding=True,truncation=True,max_length=100)\n",
    "test_dataset = MBTIDataset(test_encodings, test_labels)"
   ]
  },
  {
   "cell_type": "code",
   "execution_count": 79,
   "id": "CoC-7HUDyXsI",
   "metadata": {
    "colab": {
     "base_uri": "https://localhost:8080/"
    },
    "executionInfo": {
     "elapsed": 334,
     "status": "ok",
     "timestamp": 1731792169752,
     "user": {
      "displayName": "Zijun Chen (James)",
      "userId": "01511600281259603469"
     },
     "user_tz": 300
    },
    "id": "CoC-7HUDyXsI",
    "outputId": "371ed401-a5f9-4054-fc57-282a24159c2f"
   },
   "outputs": [
    {
     "name": "stdout",
     "output_type": "stream",
     "text": [
      "Batch Input IDs: tensor([[31699,  1842, 36543, 31049,   966,   892,   534,  1333,  4036,  9989,\n",
      "          1054,    71,   966, 46436,  1309,   302,   746,  8847,  1333,   787,\n",
      "         46436,   966,  4578, 46436,   966,  2469, 31049, 40638,  8597,   467,\n",
      "          2121,  6228,   264, 23066,  8465,   805,  1049,  2814,   489,  5089,\n",
      "          1842, 14549,  1392,  3892,   929,  1011,  7510,  3918,   512,   273,\n",
      "          6992, 40638,  8597,  1333,   787,   966, 14709,  1365,   835,   339,\n",
      "          1049,  2814,   489,  5229,  3308,    72,  2836,  1658, 46428,  1266,\n",
      "          1545,  1315,   614,   642,   614,  2392,   220,   425,  1900,  5229,\n",
      "           493,    73,   651,  1863,   551,    69,    73,  1728,  3396,   260,\n",
      "         23036,   680,  1167,    73,   920,    73,  4327,   651,  8660,   326],\n",
      "        [11274,  1394,   476,   380,   584,   910,  1277,  3812,   612,   991,\n",
      "           407,    71,  1445, 50256, 50256, 50256, 50256, 50256, 50256, 50256,\n",
      "         50256, 50256, 50256, 50256, 50256, 50256, 50256, 50256, 50256, 50256,\n",
      "         50256, 50256, 50256, 50256, 50256, 50256, 50256, 50256, 50256, 50256,\n",
      "         50256, 50256, 50256, 50256, 50256, 50256, 50256, 50256, 50256, 50256,\n",
      "         50256, 50256, 50256, 50256, 50256, 50256, 50256, 50256, 50256, 50256,\n",
      "         50256, 50256, 50256, 50256, 50256, 50256, 50256, 50256, 50256, 50256,\n",
      "         50256, 50256, 50256, 50256, 50256, 50256, 50256, 50256, 50256, 50256,\n",
      "         50256, 50256, 50256, 50256, 50256, 50256, 50256, 50256, 50256, 50256,\n",
      "         50256, 50256, 50256, 50256, 50256, 50256, 50256, 50256, 50256, 50256],\n",
      "        [27302,   530,   588,   714,   429,  1064,   530,   892,   880,   761,\n",
      "           530,  2754, 29248,  3516,  2576,   467,  2686,  1808,   345,    67,\n",
      "           588,  1556,    73,  5029,   785,  3280,   880,  1093,    82,  4724,\n",
      "         17666,   761,   800,   270, 50256, 50256, 50256, 50256, 50256, 50256,\n",
      "         50256, 50256, 50256, 50256, 50256, 50256, 50256, 50256, 50256, 50256,\n",
      "         50256, 50256, 50256, 50256, 50256, 50256, 50256, 50256, 50256, 50256,\n",
      "         50256, 50256, 50256, 50256, 50256, 50256, 50256, 50256, 50256, 50256,\n",
      "         50256, 50256, 50256, 50256, 50256, 50256, 50256, 50256, 50256, 50256,\n",
      "         50256, 50256, 50256, 50256, 50256, 50256, 50256, 50256, 50256, 50256,\n",
      "         50256, 50256, 50256, 50256, 50256, 50256, 50256, 50256, 50256, 50256],\n",
      "        [27302,   530,   588,   714,   429,  1064,   530,   892,   880,   761,\n",
      "           530,  2754, 29248,  3516,  2576,   467,  2686,  1808,   345,    67,\n",
      "           588,  1556,    73,  5029,   785,  3280,   880,  1093,    82,  4724,\n",
      "         17666,   761,   800,   270, 50256, 50256, 50256, 50256, 50256, 50256,\n",
      "         50256, 50256, 50256, 50256, 50256, 50256, 50256, 50256, 50256, 50256,\n",
      "         50256, 50256, 50256, 50256, 50256, 50256, 50256, 50256, 50256, 50256,\n",
      "         50256, 50256, 50256, 50256, 50256, 50256, 50256, 50256, 50256, 50256,\n",
      "         50256, 50256, 50256, 50256, 50256, 50256, 50256, 50256, 50256, 50256,\n",
      "         50256, 50256, 50256, 50256, 50256, 50256, 50256, 50256, 50256, 50256,\n",
      "         50256, 50256, 50256, 50256, 50256, 50256, 50256, 50256, 50256, 50256]])\n",
      "Batch Labels: tensor([ 110, 1001,  110,  110])\n"
     ]
    }
   ],
   "source": [
    "from torch.utils.data import DataLoader\n",
    "test_loader = DataLoader(test_dataset, batch_size=4, shuffle=True)\n",
    "for batch in test_loader:\n",
    "    print(\"Batch Input IDs:\", batch['input_ids'])\n",
    "    print(\"Batch Labels:\", batch['labels'])\n",
    "    break"
   ]
  },
  {
   "cell_type": "markdown",
   "id": "rXraDCrbfWie",
   "metadata": {
    "id": "rXraDCrbfWie",
    "jp-MarkdownHeadingCollapsed": true
   },
   "source": [
    "# Baseline Model\n",
    "We fine-tuned one pre-trained GPT-2 model to be a multi-class classifier and used it as our baseline model for comparison."
   ]
  },
  {
   "cell_type": "code",
   "execution_count": 1,
   "id": "u2QeiPaVfjo8",
   "metadata": {
    "id": "u2QeiPaVfjo8"
   },
   "outputs": [
    {
     "name": "stderr",
     "output_type": "stream",
     "text": [
      "[nltk_data] Downloading package punkt_tab to\n",
      "[nltk_data]     C:\\Users\\Fulma\\AppData\\Roaming\\nltk_data...\n",
      "[nltk_data]   Package punkt_tab is already up-to-date!\n"
     ]
    },
    {
     "name": "stdout",
     "output_type": "stream",
     "text": [
      "====================================================================================================\n",
      "        - model_checkpoint : gpt2\n",
      "        - local_model : \n",
      "        - task : sst2\n",
      "        - batch_size : 8\n",
      "        - batch_size_eval : 8\n",
      "        - lr : 0.0005\n",
      "        - epochs : 5\n",
      "        - accumulation_steps : 1\n",
      "        - num_labels : 2\n",
      "        - save_dir : None\n",
      "        - testing_split : None\n",
      "        - lr_scheduler : linear\n",
      "        - seed : None\n",
      "        - lora_rank : 4\n",
      "====================================================================================================\n"
     ]
    },
    {
     "name": "stderr",
     "output_type": "stream",
     "text": [
      "[nltk_data] Downloading package stopwords to\n",
      "[nltk_data]     C:\\Users\\Fulma\\AppData\\Roaming\\nltk_data...\n",
      "[nltk_data]   Package stopwords is already up-to-date!\n"
     ]
    },
    {
     "name": "stdout",
     "output_type": "stream",
     "text": [
      "      type                                              posts I/E N/S T/F J/P  \\\n",
      "0     INFJ  intj moment sportscent top ten play prankswhat...   I   N   F   J   \n",
      "1     ENTP  im find lack post alarmingsex bore posit often...   E   N   T   P   \n",
      "2     INTP  good one cour say know bless cursedo absolut p...   I   N   T   P   \n",
      "3     INTJ  dear intp enjoy conver day esot gab natur univ...   I   N   T   J   \n",
      "4     ENTJ  firedthat anoth silli misconcept approach logi...   E   N   T   J   \n",
      "...    ...                                                ...  ..  ..  ..  ..   \n",
      "8670  ISFP  alway think cat fi dom reason websit becom neo...   I   S   F   P   \n",
      "8671  ENFP  soif thread alreadi exist someplac el heck del...   E   N   F   P   \n",
      "8672  INTP  mani question thing would take purpl pill pick...   I   N   T   P   \n",
      "8673  INFP  conflict right come want children honestli mat...   I   N   F   P   \n",
      "8674  INFP  long sinc personalitycaf although doesnt seem ...   I   N   F   P   \n",
      "\n",
      "      labels  \n",
      "0        8.0  \n",
      "1        3.0  \n",
      "2       11.0  \n",
      "3       10.0  \n",
      "4        2.0  \n",
      "...      ...  \n",
      "8670    13.0  \n",
      "8671     1.0  \n",
      "8672    11.0  \n",
      "8673     9.0  \n",
      "8674     9.0  \n",
      "\n",
      "[8675 rows x 7 columns]\n"
     ]
    },
    {
     "name": "stderr",
     "output_type": "stream",
     "text": [
      "C:\\Users\\Fulma\\anaconda3\\envs\\ece1786\\lib\\site-packages\\huggingface_hub\\file_download.py:797: FutureWarning: `resume_download` is deprecated and will be removed in version 1.0.0. Downloads always resume when possible. If you want to force a new download, use `force_download=True`.\n",
      "  warnings.warn(\n"
     ]
    }
   ],
   "source": [
    "import torch\n",
    "import os\n",
    "import numpy as np\n",
    "import argparse\n",
    "from tqdm import tqdm\n",
    "from transformers import AutoModelForSequenceClassification, AutoTokenizer, get_linear_schedule_with_warmup\n",
    "import evaluate\n",
    "from util import *\n",
    "from train import *\n",
    "from dataloader import get_dataloader\n",
    "from data_preprocessing import main\n",
    "import sys\n",
    "import argparse\n",
    "import matplotlib.pyplot as plt\n",
    "\n",
    "sys.argv = ['']\n",
    "device = torch.device(\"cuda\" if torch.cuda.is_available() else \"cpu\")\n",
    "parser = argparse.ArgumentParser(description='Prediction text classification')\n",
    "parser.add_argument('--model_checkpoint', default='gpt2', type=str)\n",
    "parser.add_argument('--local_model', type=str, default='')\n",
    "parser.add_argument('--task', type=str, default=\"sst2\")\n",
    "parser.add_argument('--batch_size', default=8, type=int)\n",
    "parser.add_argument('--batch_size_eval', default=8, type=int)\n",
    "parser.add_argument('--lr', default=5e-4, type=float)\n",
    "parser.add_argument('--epochs', default=5, type=int)\n",
    "parser.add_argument('--accumulation_steps', default=1, type=int)\n",
    "parser.add_argument('--num_labels', default=2, type=int)\n",
    "parser.add_argument('--save_dir', type=str)\n",
    "parser.add_argument('--testing_split', type=str)\n",
    "parser.add_argument('--lr_scheduler', default='linear',type=str)\n",
    "parser.add_argument('--seed', type=int)\n",
    "parser.add_argument('--lora_rank', type=int, default=4)\n",
    "def print_args(args):\n",
    "    print('=' * 100)\n",
    "    for k, v in args.__dict__.items():\n",
    "        print('        - {} : {}'.format(k, v))\n",
    "    print('=' * 100)\n",
    "\n",
    "def plot_losses(train_losses, eval_losses, global_steps, epochs) :\n",
    "    x = [i for i in (global_steps//100)*epochs]\n",
    "    plt.plot(x, train_losses, label='Training losses')\n",
    "    plt.legend()\n",
    "    plt.plot(x, eval_losses, label='Eval losses')\n",
    "    plt.legend()\n",
    "    plt.xlabel(\"Epochs\")\n",
    "    plt.ylabel(\"Loss\")\n",
    "    plt.savefig(f'Losses.pdf')\n",
    "    plt.close()\n",
    "\n",
    "def plot_accuracies(eval_accuracies, global_steps, epochs) :\n",
    "    x = [i for i in (global_steps//100)*epochs]\n",
    "    plt.plot(x, eval_accuracies, label='Validation set accuracies')\n",
    "    plt.legend()\n",
    "    plt.xlabel(\"Epochs\")\n",
    "    plt.ylabel(\"Accuracy\")\n",
    "    plt.savefig(f'Accuracy.pdf')\n",
    "    plt.close()\n",
    "\n",
    "args = parser.parse_args()\n",
    "print_args(args)\n",
    "train_dataset_full, val_dataset_full = main()"
   ]
  },
  {
   "cell_type": "code",
   "execution_count": null,
   "id": "a56630fc-35a9-4b67-b8d8-4996c49effda",
   "metadata": {},
   "outputs": [],
   "source": [
    "train_epoch_iterator = get_dataloader(train_dataset_full, batch_size=args.batch_size)\n",
    "eval_epoch_iterator = get_dataloader(val_dataset_full, batch_size=args.batch_size_eval)\n",
    "\n",
    "model = AutoModelForSequenceClassification.from_pretrained(args.model_checkpoint, num_labels=args.num_labels).to(device)\n",
    "model.config.pad_token_id = model.config.eos_token_id\n",
    "optimizer = torch.optim.AdamW(model.parameters(), lr=args.lr)\n",
    "lr_schedulers = get_linear_schedule_with_warmup(optimizer, num_warmup_steps=0, num_training_steps=args.epochs*len(train_epoch_iterator))\n",
    "if args.lr_scheduler == 'linear' :\n",
    "    lr_schedulers = get_linear_schedule_with_warmup(optimizer, num_warmup_steps=0, num_training_steps=args.epochs*len(train_epoch_iterator))\n",
    "elif args.lr_scheduler == 'constant' : \n",
    "    lr_schedulers = None\n",
    "metrics = evaluate.load('accuracy')\n",
    "\n",
    "model = model.to(device)\n",
    "\n",
    "#values for plotting losses\n",
    "losses_train, losses_eval = [], []\n",
    "eval_acc = []\n",
    "print(f\"\\nTraining for {args.task} begins in batches of {args.batch_size}.\")\n",
    "for e in range(args.epochs):\n",
    "    print(f\"\\nEpoch {e+1}/{args.epochs}\")\n",
    "    tr_loss = 0\n",
    "    global_steps = 0\n",
    "    pbar = tqdm(train_epoch_iterator, total=len(train_epoch_iterator))\n",
    "    accumulated_loss = 0\n",
    "    accumulated_batch_count = 0\n",
    "    for batch in pbar :\n",
    "        global_steps += 1\n",
    "        inputs = prepare_inputs(batch, device)\n",
    "        if args.accumulation_steps > 1 :\n",
    "            accumulated_batch_count, accumulated_loss = training_step(model, inputs, optimizer, lr_schedulers, args, accumulated_batch_count, accumulated_loss)\n",
    "            \n",
    "            if accumulated_batch_count != 0 :\n",
    "                # Update progress bar with the current average batch loss\n",
    "                batch_loss = accumulated_loss / (accumulated_batch_count * args.batch_size)\n",
    "                pbar.set_description(f\"Task : {args.task} \" + str(batch_loss), refresh=True)\n",
    "                pbar.update()\n",
    "        elif args.accumulation_steps == 1 :\n",
    "            step_loss = training_step(model, inputs, optimizer, lr_schedulers, args, accumulated_batch_count, accumulated_loss)\n",
    "            step_loss = step_loss.item()\n",
    "            tr_loss += step_loss\n",
    "            batch_loss = (tr_loss/(global_steps*args.batch_size))\n",
    "            pbar.set_description(f\"Task : {args.task} \" + str(batch_loss), refresh=True)\n",
    "            pbar.update()\n",
    "        if global_steps % 100 == 0 :\n",
    "            losses_train.append(batch_loss)     \n",
    "            # Evaluation\n",
    "            all_predictions = []\n",
    "            all_labels = []\n",
    "            eval_loss = 0\n",
    "            eval_steps = 0\n",
    "            pbar_eval = tqdm(eval_epoch_iterator, total=len(eval_epoch_iterator))\n",
    "            for batch in pbar_eval:\n",
    "                eval_steps += 1\n",
    "                inputs = prepare_inputs(batch, device)\n",
    "                step_loss, predictions, labels = eval_step(model, inputs)\n",
    "                eval_loss += step_loss.item()\n",
    "                batch_loss_eval = (eval_loss/(eval_steps*args.batch_size))\n",
    "                all_predictions.extend(predictions.cpu().numpy())\n",
    "                all_labels.extend(labels.cpu().numpy())\n",
    "            losses_eval.append(batch_loss_eval)\n",
    "        \n",
    "            all_predictions = np.array(all_predictions)\n",
    "            all_labels = np.array(all_labels)\n",
    "            # metrics.add_batch(predictions=all_predictions, references=all_labels)\n",
    "            eval_metric = metrics.compute(predictions=all_predictions, references=all_labels)\n",
    "            eval_acc.append(eval_metric['accuracy'])\n",
    "            print(f\"Task : {args.task} \" + 'accuracy : ' + str(eval_metric))\n",
    "model.save_pretrained(os.path.join(args.save_dir, f'epoch_{e}'))\n",
    "# plotting the curves\n",
    "plot_losses(losses_train, losses_eval, global_steps, args.epochs)\n",
    "plot_accuracies(eval_acc, args.epochs)"
   ]
  },
  {
   "cell_type": "markdown",
   "id": "fcdf6033-307a-41fc-9ca7-f34eb09eeb0f",
   "metadata": {
    "id": "rXraDCrbfWie",
    "jp-MarkdownHeadingCollapsed": true
   },
   "source": [
    "# Sub Classifier Training\n",
    "Each team member trained one of the four sub-classifier individually"
   ]
  },
  {
   "cell_type": "code",
   "execution_count": 12,
   "id": "3b1da4f0-bd4d-46db-88c7-2058430e8057",
   "metadata": {},
   "outputs": [
    {
     "name": "stdout",
     "output_type": "stream",
     "text": [
      "Train set size: 5552\n",
      "Validation set size: 1388\n",
      "Test set size: 1735\n",
      "Loading existing tokenizer from: cpt/tokenizer\n"
     ]
    }
   ],
   "source": [
    "from torch.utils.data import Dataset\n",
    "from transformers import AutoTokenizer\n",
    "import pandas as pd\n",
    "import os\n",
    "import torch\n",
    "from transformers import AutoModelForSequenceClassification, TrainingArguments, Trainer, TrainerCallback, EarlyStoppingCallback\n",
    "import numpy as np\n",
    "import transformers\n",
    "\n",
    "data = pd.read_csv('mbti_data.csv')\n",
    "ns_df = data[['posts', 'I/E']]\n",
    "ns_texts = ns_df['posts'].tolist()\n",
    "ns_labels = ns_df['I/E'].tolist()\n",
    "from sklearn.model_selection import train_test_split\n",
    "\n",
    "train_texts, test_texts, train_labels, test_labels = train_test_split(\n",
    "    ns_texts, ns_labels, test_size=0.2, random_state=42\n",
    ")\n",
    "\n",
    "train_texts, valid_texts, train_labels, valid_labels = train_test_split(\n",
    "    train_texts, train_labels, test_size=0.2, random_state=42\n",
    ")\n",
    "\n",
    "print(\"Train set size:\", len(train_texts))\n",
    "print(\"Validation set size:\", len(valid_texts))\n",
    "print(\"Test set size:\", len(test_texts))\n",
    "\n",
    "tokenizer_path = \"cpt/tokenizer\"\n",
    "\n",
    "if os.path.exists(tokenizer_path):\n",
    "    print(\"Loading existing tokenizer from:\", tokenizer_path)\n",
    "    tokenizer = AutoTokenizer.from_pretrained(tokenizer_path)\n",
    "else:\n",
    "    print(\"Initializing a new tokenizer and saving to:\", tokenizer_path)\n",
    "    tokenizer = AutoTokenizer.from_pretrained('gpt2')\n",
    "    tokenizer.add_special_tokens({'pad_token': '[PAD]'})\n",
    "    tokenizer.pad_token_id = 0\n",
    "    tokenizer.pad_token = '[PAD]'\n",
    "    tokenizer.save_pretrained(tokenizer_path)\n",
    "\n",
    "class TextDataset(Dataset):\n",
    "    def __init__(self, sentences, labels, tokenizer):\n",
    "        self.sentences = sentences\n",
    "        self.labels = labels\n",
    "        self.tokenizer = tokenizer\n",
    "\n",
    "    def __len__(self):\n",
    "        return len(self.sentences)\n",
    "\n",
    "    def __getitem__(self, idx):\n",
    "        sentence = self.sentences[idx]\n",
    "        label = self.labels[idx]\n",
    "\n",
    "        return self.tokenizer(sentence, truncation=True, padding=True,\n",
    "                              max_length=100)[\"input_ids\"], label\n",
    "\n",
    "train_dataset = TextDataset(train_texts, train_labels, tokenizer)\n",
    "valid_dataset = TextDataset(valid_texts, valid_labels, tokenizer)\n",
    "test_dataset = TextDataset(test_texts, test_labels, tokenizer)"
   ]
  },
  {
   "cell_type": "markdown",
   "id": "d434d184-9da8-47a0-a130-9d5fdd01a71d",
   "metadata": {
    "jp-MarkdownHeadingCollapsed": true
   },
   "source": [
    "## Sub-class training example"
   ]
  },
  {
   "cell_type": "code",
   "execution_count": 91,
   "id": "f67cddef-f9b2-4792-a589-a8ae2d712a46",
   "metadata": {},
   "outputs": [
    {
     "name": "stderr",
     "output_type": "stream",
     "text": [
      "C:\\Users\\Fulma\\anaconda3\\envs\\ece1786\\lib\\site-packages\\huggingface_hub\\file_download.py:797: FutureWarning: `resume_download` is deprecated and will be removed in version 1.0.0. Downloads always resume when possible. If you want to force a new download, use `force_download=True`.\n",
      "  warnings.warn(\n",
      "Some weights of GPT2ForSequenceClassification were not initialized from the model checkpoint at gpt2 and are newly initialized: ['score.weight']\n",
      "You should probably TRAIN this model on a down-stream task to be able to use it for predictions and inference.\n"
     ]
    },
    {
     "name": "stdout",
     "output_type": "stream",
     "text": [
      "Losses initialized as an empty list.\n"
     ]
    },
    {
     "name": "stderr",
     "output_type": "stream",
     "text": [
      "C:\\Users\\Fulma\\anaconda3\\envs\\ece1786\\lib\\site-packages\\transformers\\optimization.py:391: FutureWarning: This implementation of AdamW is deprecated and will be removed in a future version. Use the PyTorch implementation torch.optim.AdamW instead, or set `no_deprecation_warning=True` to disable this warning\n",
      "  warnings.warn(\n"
     ]
    },
    {
     "data": {
      "text/html": [
       "\n",
       "    <div>\n",
       "      \n",
       "      <progress value='4858' max='20820' style='width:300px; height:20px; vertical-align: middle;'></progress>\n",
       "      [ 4858/20820 06:18 < 20:42, 12.85 it/s, Epoch 7/30]\n",
       "    </div>\n",
       "    <table border=\"1\" class=\"dataframe\">\n",
       "  <thead>\n",
       " <tr style=\"text-align: left;\">\n",
       "      <th>Epoch</th>\n",
       "      <th>Training Loss</th>\n",
       "      <th>Validation Loss</th>\n",
       "    </tr>\n",
       "  </thead>\n",
       "  <tbody>\n",
       "    <tr>\n",
       "      <td>1</td>\n",
       "      <td>0.829600</td>\n",
       "      <td>0.534308</td>\n",
       "    </tr>\n",
       "    <tr>\n",
       "      <td>2</td>\n",
       "      <td>0.552400</td>\n",
       "      <td>0.538239</td>\n",
       "    </tr>\n",
       "    <tr>\n",
       "      <td>3</td>\n",
       "      <td>0.481000</td>\n",
       "      <td>0.589254</td>\n",
       "    </tr>\n",
       "    <tr>\n",
       "      <td>4</td>\n",
       "      <td>0.444600</td>\n",
       "      <td>0.520065</td>\n",
       "    </tr>\n",
       "    <tr>\n",
       "      <td>5</td>\n",
       "      <td>0.436600</td>\n",
       "      <td>0.650833</td>\n",
       "    </tr>\n",
       "    <tr>\n",
       "      <td>6</td>\n",
       "      <td>0.348200</td>\n",
       "      <td>0.724127</td>\n",
       "    </tr>\n",
       "    <tr>\n",
       "      <td>7</td>\n",
       "      <td>0.306300</td>\n",
       "      <td>0.776734</td>\n",
       "    </tr>\n",
       "  </tbody>\n",
       "</table><p>"
      ],
      "text/plain": [
       "<IPython.core.display.HTML object>"
      ]
     },
     "metadata": {},
     "output_type": "display_data"
    },
    {
     "name": "stderr",
     "output_type": "stream",
     "text": [
      "C:\\Users\\Fulma\\anaconda3\\envs\\ece1786\\lib\\site-packages\\transformers\\trainer.py:2220: FutureWarning: You are using `torch.load` with `weights_only=False` (the current default value), which uses the default pickle module implicitly. It is possible to construct malicious pickle data which will execute arbitrary code during unpickling (See https://github.com/pytorch/pytorch/blob/main/SECURITY.md#untrusted-models for more details). In a future release, the default value for `weights_only` will be flipped to `True`. This limits the functions that could be executed during unpickling. Arbitrary objects will no longer be allowed to be loaded via this mode unless they are explicitly allowlisted by the user via `torch.serialization.add_safe_globals`. We recommend you start setting `weights_only=True` for any use case where you don't have full control of the loaded file. Please open an issue on GitHub for any issues related to this experimental feature.\n",
      "  state_dict = torch.load(best_model_path, map_location=\"cpu\")\n"
     ]
    }
   ],
   "source": [
    "from transformers import Trainer, TrainingArguments, EarlyStoppingCallback\n",
    "model = AutoModelForSequenceClassification.from_pretrained('gpt2', num_labels=2)\n",
    "model.resize_token_embeddings(len(tokenizer))\n",
    "model.config.pad_token_id = tokenizer.pad_token_id\n",
    "def collate_fn(batch):\n",
    "    input_ids = [torch.tensor(item[0]) for item in batch]\n",
    "    labels = [torch.tensor(item[1]) for item in batch]\n",
    "    maxlen = max([len(s) for s in input_ids])\n",
    "\n",
    "    padded_input_ids = []\n",
    "    for s in input_ids:\n",
    "        padded_input_ids.append(torch.cat([s, torch.zeros(maxlen - len(s))]))\n",
    "    return {'input_ids':torch.stack(padded_input_ids).long(),\n",
    "            'labels':torch.tensor(labels).long()}\n",
    "\n",
    "losses_file = \"./cpt/losses.npy\"\n",
    "losses = []\n",
    "if os.path.exists(losses_file):\n",
    "    losses = np.load(losses_file).tolist()\n",
    "    print(\"Losses loaded from:\", losses_file)\n",
    "else:\n",
    "    losses = []\n",
    "    print(\"Losses initialized as an empty list.\")\n",
    "class Callback(TrainerCallback):\n",
    "    def on_log(self, args, state, control, logs=None, **kwargs):\n",
    "        tokenizer.save_pretrained(f'cpt/tokenizer')\n",
    "        model.save_pretrained(f'cpt/model')\n",
    "        if 'loss' in logs:\n",
    "          losses.append(logs['loss'])\n",
    "        np.save(losses_file, np.array(losses))\n",
    "\n",
    "training_args = TrainingArguments(\n",
    "    output_dir=\"./results\",\n",
    "    evaluation_strategy=\"epoch\",\n",
    "    save_strategy=\"epoch\",\n",
    "    learning_rate=1e-5,\n",
    "    per_device_train_batch_size=8,\n",
    "    per_device_eval_batch_size=8,\n",
    "    num_train_epochs=30,\n",
    "    weight_decay=0.015,\n",
    "    save_total_limit=2,\n",
    "    load_best_model_at_end=True,\n",
    "    metric_for_best_model=\"eval_loss\",\n",
    "    lr_scheduler_type=\"cosine\",  # linear, cosine, constant\n",
    "    greater_is_better=False,\n",
    "    warmup_steps=347,\n",
    ")\n",
    "\n",
    "trainer = Trainer(\n",
    "    model=model,\n",
    "    args=training_args,\n",
    "    train_dataset=train_dataset,\n",
    "    eval_dataset=valid_dataset,\n",
    "    data_collator=collate_fn,\n",
    "    callbacks=[EarlyStoppingCallback(early_stopping_patience=3)],\n",
    ")\n",
    "trainer.train()\n",
    "model.save_pretrained(\"./results/final_model\")"
   ]
  },
  {
   "cell_type": "code",
   "execution_count": 92,
   "id": "686d9b93-5b34-4260-b91e-856c43db40d0",
   "metadata": {},
   "outputs": [
    {
     "data": {
      "text/html": [
       "\n",
       "    <div>\n",
       "      \n",
       "      <progress value='217' max='217' style='width:300px; height:20px; vertical-align: middle;'></progress>\n",
       "      [217/217 00:05]\n",
       "    </div>\n",
       "    "
      ],
      "text/plain": [
       "<IPython.core.display.HTML object>"
      ]
     },
     "metadata": {},
     "output_type": "display_data"
    },
    {
     "data": {
      "text/plain": [
       "{'eval_loss': 0.4680495858192444,\n",
       " 'eval_runtime': 6.0246,\n",
       " 'eval_samples_per_second': 287.986,\n",
       " 'eval_steps_per_second': 36.019,\n",
       " 'epoch': 7.0}"
      ]
     },
     "execution_count": 92,
     "metadata": {},
     "output_type": "execute_result"
    }
   ],
   "source": [
    "trainer.evaluate(eval_dataset=test_dataset)"
   ]
  },
  {
   "cell_type": "code",
   "execution_count": 93,
   "id": "ae5f82f0-638c-4ced-9479-8f60245981c1",
   "metadata": {},
   "outputs": [
    {
     "name": "stdout",
     "output_type": "stream",
     "text": [
      "Number of correct predictions: 1392\n",
      "Total number of predictions: 1735\n",
      "Accuracy: 0.8023054755043227\n"
     ]
    }
   ],
   "source": [
    "model.eval()\n",
    "\n",
    "device = torch.device(\"cuda\" if torch.cuda.is_available() else \"cpu\")\n",
    "model.to(device)\n",
    "\n",
    "num_correct = 0\n",
    "for i, text in enumerate(test_dataset):\n",
    "    outputs = model(torch.tensor(text[0]).unsqueeze(0).to(device))\n",
    "    logits = outputs.logits\n",
    "    prediction = torch.argmax(logits, dim=1).tolist()[0]\n",
    "    if prediction == test_labels[i]:\n",
    "        num_correct += 1\n",
    "\n",
    "print(\"Number of correct predictions:\", num_correct)\n",
    "print(\"Total number of predictions:\", len(test_texts))\n",
    "print(\"Accuracy:\", num_correct / len(test_texts))"
   ]
  },
  {
   "cell_type": "markdown",
   "id": "d8664543-5853-4cf8-9fde-0a25ffb562f1",
   "metadata": {
    "jp-MarkdownHeadingCollapsed": true
   },
   "source": [
    "# Evaluation: Consolidate all sub-classifiers\n",
    "Gather fine-tuned sub-classifiers from each team member and consolidate them into the GPT4PT classifier"
   ]
  },
  {
   "cell_type": "code",
   "execution_count": 49,
   "id": "c6fe2b4c-7e2d-4375-959b-74438498906e",
   "metadata": {},
   "outputs": [
    {
     "name": "stdout",
     "output_type": "stream",
     "text": [
      "{'E': 0, 'I': 1}\n",
      "{'N': 0, 'S': 1}\n",
      "{'F': 0, 'T': 1}\n",
      "{'J': 0, 'P': 1}\n"
     ]
    },
    {
     "data": {
      "text/html": [
       "<div>\n",
       "<style scoped>\n",
       "    .dataframe tbody tr th:only-of-type {\n",
       "        vertical-align: middle;\n",
       "    }\n",
       "\n",
       "    .dataframe tbody tr th {\n",
       "        vertical-align: top;\n",
       "    }\n",
       "\n",
       "    .dataframe thead th {\n",
       "        text-align: right;\n",
       "    }\n",
       "</style>\n",
       "<table border=\"1\" class=\"dataframe\">\n",
       "  <thead>\n",
       "    <tr style=\"text-align: right;\">\n",
       "      <th></th>\n",
       "      <th>type</th>\n",
       "      <th>posts</th>\n",
       "      <th>I/E</th>\n",
       "      <th>N/S</th>\n",
       "      <th>T/F</th>\n",
       "      <th>J/P</th>\n",
       "    </tr>\n",
       "  </thead>\n",
       "  <tbody>\n",
       "    <tr>\n",
       "      <th>0</th>\n",
       "      <td>ESTJ</td>\n",
       "      <td>so most other forums has one like this but i c...</td>\n",
       "      <td>0</td>\n",
       "      <td>1</td>\n",
       "      <td>1</td>\n",
       "      <td>0</td>\n",
       "    </tr>\n",
       "    <tr>\n",
       "      <th>1</th>\n",
       "      <td>ESTJ</td>\n",
       "      <td>hmm hard one havent thoutht that much about it...</td>\n",
       "      <td>0</td>\n",
       "      <td>1</td>\n",
       "      <td>1</td>\n",
       "      <td>0</td>\n",
       "    </tr>\n",
       "    <tr>\n",
       "      <th>2</th>\n",
       "      <td>ESTJ</td>\n",
       "      <td>oh i love my ne it makes me able to see almost...</td>\n",
       "      <td>0</td>\n",
       "      <td>1</td>\n",
       "      <td>1</td>\n",
       "      <td>0</td>\n",
       "    </tr>\n",
       "    <tr>\n",
       "      <th>3</th>\n",
       "      <td>ESTJ</td>\n",
       "      <td>1 depends as it is now i usually see the logic...</td>\n",
       "      <td>0</td>\n",
       "      <td>1</td>\n",
       "      <td>1</td>\n",
       "      <td>0</td>\n",
       "    </tr>\n",
       "    <tr>\n",
       "      <th>4</th>\n",
       "      <td>ESTJ</td>\n",
       "      <td>1 i can agree on them if i can decide for myse...</td>\n",
       "      <td>0</td>\n",
       "      <td>1</td>\n",
       "      <td>1</td>\n",
       "      <td>0</td>\n",
       "    </tr>\n",
       "  </tbody>\n",
       "</table>\n",
       "</div>"
      ],
      "text/plain": [
       "   type                                              posts  I/E  N/S  T/F  J/P\n",
       "0  ESTJ  so most other forums has one like this but i c...    0    1    1    0\n",
       "1  ESTJ  hmm hard one havent thoutht that much about it...    0    1    1    0\n",
       "2  ESTJ  oh i love my ne it makes me able to see almost...    0    1    1    0\n",
       "3  ESTJ  1 depends as it is now i usually see the logic...    0    1    1    0\n",
       "4  ESTJ  1 i can agree on them if i can decide for myse...    0    1    1    0"
      ]
     },
     "execution_count": 49,
     "metadata": {},
     "output_type": "execute_result"
    }
   ],
   "source": [
    "csv_path = 'collected_posts_cleaned.csv'\n",
    "df = pd.read_csv(csv_path, engine='python')\n",
    "df['I/E'] = df['type'].apply(lambda x: 'I' if 'I' in x else 'E')\n",
    "df['N/S'] = df['type'].apply(lambda x: 'N' if 'N' in x else 'S')\n",
    "df['T/F'] = df['type'].apply(lambda x: 'T' if 'T' in x else 'F')\n",
    "df['J/P'] = df['type'].apply(lambda x: 'J' if 'J' in x else 'P')\n",
    "df['posts'] = df['posts'].apply(lambda x: re.sub(r'http\\S+|www.\\S+|\\|\\|\\|', '', x))\n",
    "df['posts']=df['posts'].apply(lambda x:puntucation_free(x))\n",
    "df['posts']=df['posts'].apply(lambda x:x.lower())\n",
    "le = LabelEncoder()\n",
    "df['I/E'] = le.fit_transform(df['I/E'])\n",
    "label_mappings = dict(zip(le.classes_, range(len(le.classes_))))\n",
    "print(label_mappings)\n",
    "df['N/S'] = le.fit_transform(df['N/S'])\n",
    "label_mappings = dict(zip(le.classes_, range(len(le.classes_))))\n",
    "print(label_mappings)\n",
    "df['T/F'] = le.fit_transform(df['T/F'])\n",
    "label_mappings = dict(zip(le.classes_, range(len(le.classes_))))\n",
    "print(label_mappings)\n",
    "df['J/P'] = le.fit_transform(df['J/P'])\n",
    "label_mappings = dict(zip(le.classes_, range(len(le.classes_))))\n",
    "print(label_mappings)\n",
    "df.head()"
   ]
  },
  {
   "cell_type": "code",
   "execution_count": 50,
   "id": "6473bf4f-b7c3-447a-84f5-0156827da4b2",
   "metadata": {},
   "outputs": [],
   "source": [
    "texts = df['posts'].tolist()\n",
    "ie_labels = df['I/E'].tolist()\n",
    "ns_labels = df['N/S'].tolist()\n",
    "tf_labels = df['T/F'].tolist()\n",
    "jp_labels = df['J/P'].tolist()"
   ]
  },
  {
   "cell_type": "code",
   "execution_count": 51,
   "id": "1fdebd50-67ca-4418-833c-ff1430db7fc0",
   "metadata": {},
   "outputs": [],
   "source": [
    "tokenizer_path = \"cpt/tokenizer\"\n",
    "tokenizer = AutoTokenizer.from_pretrained(tokenizer_path)\n",
    "ie_test_dataset = TextDataset(texts, ie_labels, tokenizer)\n",
    "ns_test_dataset = TextDataset(texts, ns_labels, tokenizer)\n",
    "tf_test_dataset = TextDataset(texts, tf_labels, tokenizer)\n",
    "jp_test_dataset = TextDataset(texts, jp_labels, tokenizer)"
   ]
  },
  {
   "cell_type": "code",
   "execution_count": 52,
   "id": "04e16316-99b1-4eba-ace9-e4ec6de25071",
   "metadata": {},
   "outputs": [
    {
     "name": "stderr",
     "output_type": "stream",
     "text": [
      "C:\\Users\\Fulma\\anaconda3\\envs\\ece1786\\lib\\site-packages\\transformers\\modeling_utils.py:442: FutureWarning: You are using `torch.load` with `weights_only=False` (the current default value), which uses the default pickle module implicitly. It is possible to construct malicious pickle data which will execute arbitrary code during unpickling (See https://github.com/pytorch/pytorch/blob/main/SECURITY.md#untrusted-models for more details). In a future release, the default value for `weights_only` will be flipped to `True`. This limits the functions that could be executed during unpickling. Arbitrary objects will no longer be allowed to be loaded via this mode unless they are explicitly allowlisted by the user via `torch.serialization.add_safe_globals`. We recommend you start setting `weights_only=True` for any use case where you don't have full control of the loaded file. Please open an issue on GitHub for any issues related to this experimental feature.\n",
      "  return torch.load(checkpoint_file, map_location=\"cpu\")\n",
      "Some weights of GPT2ForSequenceClassification were not initialized from the model checkpoint at FT and are newly initialized: ['transformer.h.3.attn.bias', 'transformer.h.7.attn.bias', 'transformer.h.9.attn.bias', 'transformer.h.1.attn.bias', 'transformer.h.2.attn.bias', 'transformer.h.4.attn.bias', 'transformer.h.0.attn.bias', 'transformer.h.8.attn.bias', 'transformer.h.11.attn.bias', 'transformer.h.10.attn.bias', 'transformer.h.6.attn.bias', 'transformer.h.5.attn.bias']\n",
      "You should probably TRAIN this model on a down-stream task to be able to use it for predictions and inference.\n",
      "Some weights of GPT2ForSequenceClassification were not initialized from the model checkpoint at JP and are newly initialized: ['transformer.h.3.attn.bias', 'transformer.h.7.attn.bias', 'transformer.h.9.attn.bias', 'transformer.h.1.attn.bias', 'transformer.h.2.attn.bias', 'transformer.h.4.attn.bias', 'transformer.h.0.attn.bias', 'transformer.h.8.attn.bias', 'transformer.h.11.attn.bias', 'transformer.h.10.attn.bias', 'transformer.h.6.attn.bias', 'transformer.h.5.attn.bias']\n",
      "You should probably TRAIN this model on a down-stream task to be able to use it for predictions and inference.\n",
      "Some weights of GPT2ForSequenceClassification were not initialized from the model checkpoint at NS and are newly initialized: ['transformer.h.3.attn.bias', 'transformer.h.7.attn.bias', 'transformer.h.9.attn.bias', 'transformer.h.1.attn.bias', 'transformer.h.2.attn.bias', 'transformer.h.4.attn.bias', 'transformer.h.0.attn.bias', 'transformer.h.8.attn.bias', 'transformer.h.11.attn.bias', 'transformer.h.10.attn.bias', 'transformer.h.6.attn.bias', 'transformer.h.5.attn.bias']\n",
      "You should probably TRAIN this model on a down-stream task to be able to use it for predictions and inference.\n",
      "Some weights of GPT2ForSequenceClassification were not initialized from the model checkpoint at baseline and are newly initialized: ['transformer.h.3.attn.bias', 'transformer.h.7.attn.bias', 'transformer.h.9.attn.bias', 'transformer.h.1.attn.bias', 'transformer.h.2.attn.bias', 'transformer.h.4.attn.bias', 'transformer.h.0.attn.bias', 'transformer.h.8.attn.bias', 'transformer.h.11.attn.bias', 'transformer.h.10.attn.bias', 'transformer.h.6.attn.bias', 'transformer.h.5.attn.bias']\n",
      "You should probably TRAIN this model on a down-stream task to be able to use it for predictions and inference.\n"
     ]
    },
    {
     "data": {
      "text/plain": [
       "GPT2ForSequenceClassification(\n",
       "  (transformer): GPT2Model(\n",
       "    (wte): Embedding(50257, 768)\n",
       "    (wpe): Embedding(1024, 768)\n",
       "    (drop): Dropout(p=0.1, inplace=False)\n",
       "    (h): ModuleList(\n",
       "      (0-11): 12 x GPT2Block(\n",
       "        (ln_1): LayerNorm((768,), eps=1e-05, elementwise_affine=True)\n",
       "        (attn): GPT2Attention(\n",
       "          (c_attn): Conv1D()\n",
       "          (c_proj): Conv1D()\n",
       "          (attn_dropout): Dropout(p=0.1, inplace=False)\n",
       "          (resid_dropout): Dropout(p=0.1, inplace=False)\n",
       "        )\n",
       "        (ln_2): LayerNorm((768,), eps=1e-05, elementwise_affine=True)\n",
       "        (mlp): GPT2MLP(\n",
       "          (c_fc): Conv1D()\n",
       "          (c_proj): Conv1D()\n",
       "          (act): NewGELUActivation()\n",
       "          (dropout): Dropout(p=0.1, inplace=False)\n",
       "        )\n",
       "      )\n",
       "    )\n",
       "    (ln_f): LayerNorm((768,), eps=1e-05, elementwise_affine=True)\n",
       "  )\n",
       "  (score): Linear(in_features=768, out_features=16, bias=False)\n",
       ")"
      ]
     },
     "execution_count": 52,
     "metadata": {},
     "output_type": "execute_result"
    }
   ],
   "source": [
    "EI_model_path = 'EI'\n",
    "FT_model_path = 'FT'\n",
    "JP_model_path = 'JP'\n",
    "NS_model_path = 'NS'\n",
    "base_model_path = 'baseline'\n",
    "\n",
    "device = torch.device(\"cuda\" if torch.cuda.is_available() else \"cpu\")\n",
    "\n",
    "EI_model = AutoModelForSequenceClassification.from_pretrained(EI_model_path)\n",
    "EI_model.eval()\n",
    "EI_model.to(device)\n",
    "\n",
    "FT_model = AutoModelForSequenceClassification.from_pretrained(FT_model_path)\n",
    "FT_model.eval()\n",
    "FT_model.to(device)\n",
    "\n",
    "JP_model = AutoModelForSequenceClassification.from_pretrained(JP_model_path)\n",
    "JP_model.eval()\n",
    "JP_model.to(device)\n",
    "\n",
    "NS_model = AutoModelForSequenceClassification.from_pretrained(NS_model_path)\n",
    "NS_model.eval()\n",
    "NS_model.to(device)\n",
    "\n",
    "baseline_model = AutoModelForSequenceClassification.from_pretrained(base_model_path)\n",
    "baseline_model.eval()\n",
    "baseline_model.to(device)"
   ]
  },
  {
   "cell_type": "code",
   "execution_count": 55,
   "id": "a0573e2f-b732-46f5-a57a-8854ad210163",
   "metadata": {},
   "outputs": [],
   "source": [
    "def evaluate_classfifier(skip=5):\n",
    "    ei_correct = 0\n",
    "    ft_correct = 0\n",
    "    jp_correct = 0\n",
    "    ns_correct = 0\n",
    "    total = 0\n",
    "    correct = 0\n",
    "    all_correct = 0\n",
    "    \n",
    "    with torch.no_grad():\n",
    "        for i in range(len(ie_test_dataset)):\n",
    "            correct = 1\n",
    "            input = ie_test_dataset[i][0]\n",
    "            if len(input) <= skip:\n",
    "                continue\n",
    "            total += 1\n",
    "        \n",
    "            input = torch.tensor(input).unsqueeze(0)\n",
    "            \n",
    "            pred = EI_model(input.to(device))\n",
    "            logits = pred.logits\n",
    "            prediction = torch.argmax(logits, dim=1).tolist()[0]\n",
    "            if prediction == ie_test_dataset[i][1]:\n",
    "                ei_correct += 1\n",
    "            else:\n",
    "                correct = 0\n",
    "        \n",
    "            pred = FT_model(input.to(device))\n",
    "            logits = pred.logits\n",
    "            prediction = torch.argmax(logits, dim=1).tolist()[0]\n",
    "            if prediction != tf_test_dataset[i][1]:\n",
    "                ft_correct += 1\n",
    "            else:\n",
    "                correct = 0\n",
    "            \n",
    "            pred = JP_model(input.to(device))\n",
    "            logits = pred.logits\n",
    "            prediction = torch.argmax(logits, dim=1).tolist()[0]\n",
    "            if prediction == jp_test_dataset[i][1]:\n",
    "                jp_correct += 1\n",
    "            else:\n",
    "                correct = 0\n",
    "        \n",
    "            pred = NS_model(input.to(device))\n",
    "            logits = pred.logits\n",
    "            prediction = torch.argmax(logits, dim=1).tolist()[0]\n",
    "            if prediction == ns_test_dataset[i][1]:\n",
    "                ns_correct += 1\n",
    "            else:\n",
    "                correct = 0\n",
    "        \n",
    "            if correct == 1:\n",
    "                all_correct += 1\n",
    "                \n",
    "    print(\"test size:\", total)\n",
    "    print(\"EI Accuracy:\", ei_correct / total)\n",
    "    print(\"FT Accuracy:\", ft_correct / total)\n",
    "    print(\"JP Accuracy:\", jp_correct / total)\n",
    "    print(\"NS Accuracy:\", ns_correct / total)\n",
    "    print(\"Overall Acc:\", all_correct / total)"
   ]
  },
  {
   "cell_type": "code",
   "execution_count": 56,
   "id": "8e0ff0f2-6cbb-4925-bdd0-18a38286489a",
   "metadata": {},
   "outputs": [
    {
     "name": "stdout",
     "output_type": "stream",
     "text": [
      "test size: 428\n",
      "EI Accuracy: 0.6752336448598131\n",
      "FT Accuracy: 0.6705607476635514\n",
      "JP Accuracy: 0.7850467289719626\n",
      "NS Accuracy: 0.6658878504672897\n",
      "Overall Acc: 0.6191588785046729\n"
     ]
    }
   ],
   "source": [
    "evaluate_classfifier(19)"
   ]
  },
  {
   "cell_type": "code",
   "execution_count": 57,
   "id": "b85d6340-458a-4b29-aa93-a526d2a61c91",
   "metadata": {},
   "outputs": [
    {
     "name": "stderr",
     "output_type": "stream",
     "text": [
      "C:\\Users\\Fulma\\anaconda3\\envs\\ece1786\\lib\\site-packages\\huggingface_hub\\file_download.py:797: FutureWarning: `resume_download` is deprecated and will be removed in version 1.0.0. Downloads always resume when possible. If you want to force a new download, use `force_download=True`.\n",
      "  warnings.warn(\n"
     ]
    }
   ],
   "source": [
    "tokenizer = AutoTokenizer.from_pretrained('gpt2')\n",
    "tokenizer.pad_token = tokenizer.eos_token"
   ]
  },
  {
   "cell_type": "code",
   "execution_count": 58,
   "id": "5a58660b-0cdf-458f-ba0e-3e79368d4ff4",
   "metadata": {},
   "outputs": [
    {
     "name": "stdout",
     "output_type": "stream",
     "text": [
      "{0: 'ENFJ', 1: 'ENFP', 2: 'ENTJ', 3: 'ENTP', 4: 'ESFJ', 5: 'ESFP', 6: 'ESTJ', 7: 'ESTP', 8: 'INFJ', 9: 'INFP', 10: 'INTJ', 11: 'INTP', 12: 'ISFJ', 13: 'ISFP', 14: 'ISTJ', 15: 'ISTP'}\n"
     ]
    }
   ],
   "source": [
    "csv_path = 'mbti_1.csv'\n",
    "df_base_train = pd.read_csv(csv_path, engine='python')\n",
    "df_base_train['I/E'] = df_base_train['type'].apply(lambda x: 'I' if 'I' in x else 'E')\n",
    "df_base_train['N/S'] = df_base_train['type'].apply(lambda x: 'N' if 'N' in x else 'S')\n",
    "df_base_train['T/F'] = df_base_train['type'].apply(lambda x: 'T' if 'T' in x else 'F')\n",
    "df_base_train['J/P'] = df_base_train['type'].apply(lambda x: 'J' if 'J' in x else 'P')\n",
    "df_base_train['labels'] = pd.Categorical(df_base_train['type']).codes.astype(int) # .astype(float)\n",
    "class_mapping = dict(enumerate(pd.Categorical(df_base_train['type']).categories))\n",
    "print(class_mapping)"
   ]
  },
  {
   "cell_type": "code",
   "execution_count": 59,
   "id": "a3068428-92e0-45cf-ad6c-6eced9b82c51",
   "metadata": {},
   "outputs": [
    {
     "name": "stdout",
     "output_type": "stream",
     "text": [
      "Baseline Acc: 0.051440329218107\n"
     ]
    }
   ],
   "source": [
    "correct = 0\n",
    "with torch.no_grad():\n",
    "    for j in range(len(texts)):\n",
    "        input = texts[j]\n",
    "        if len(input) <= 19:\n",
    "            continue\n",
    "        baseline_tokenized_texts = tokenizer(input, truncation=True, padding=True, max_length=1000, return_tensors=\"pt\")\n",
    "        baseline_tokenized_texts = {key: val.to(device) for key,val in baseline_tokenized_texts.items()}\n",
    "        outputs = baseline_model(**baseline_tokenized_texts)\n",
    "        _,class_type = torch.max(outputs[\"logits\"], dim=1)\n",
    "        pred = class_type.item()\n",
    "        if (pred == 9 and ie_test_dataset[j][1] == 0):\n",
    "            correct += 1\n",
    "        elif (pred == 6 and ie_test_dataset[j][1] == 1):\n",
    "            correct += 1\n",
    "\n",
    "print(\"Baseline Acc:\", correct / len(texts))  "
   ]
  },
  {
   "cell_type": "markdown",
   "id": "dd4f28a9-db76-4bfb-aed0-5890cdd2af2f",
   "metadata": {
    "id": "rXraDCrbfWie"
   },
   "source": [
    "# Complete System\n",
    "We now hook up a gpt4 model to generate MBTI questions and integrate this into the feedback loop to our GPT2 classifiers to create the GPT4PT system\n",
    "\n",
    "Structure:\n",
    "\n",
    "Working Directory/\n",
    "|----GPT4PT_v2.0.ipynb          # GPT4PT main working Notebook\n",
    "|----ei_classifier.py           # EI sub-class system\n",
    "|----jp_classifier.py           # JP sub-class system\n",
    "|----ns_classifier.py           # NS sub-class system\n",
    "|----tf_classifier.py           # TF sub-class system\n",
    "|----tokenizer/                 # GPT2 tokenizer\n",
    "|----EI/                        # GPT2 trained weights + GPT4 prompt\n",
    "|----JP/                        # GPT2 trained weights + GPT4 prompt\n",
    "|----NS/                        # GPT2 trained weights + GPT4 prompt\n",
    "|----TF/                        # GPT2 trained weights + GPT4 prompt"
   ]
  },
  {
   "cell_type": "code",
   "execution_count": 1,
   "id": "03c564c8-c271-4ecb-b796-a582afb5b7c9",
   "metadata": {},
   "outputs": [
    {
     "name": "stdin",
     "output_type": "stream",
     "text": [
      "Question: Do you find yourself energized by spending time alone, or do you feel more recharged after socializing with others?\n",
      " I feel more recharged after socializing with others\n",
      "Question: When attending a social event, do you find yourself energized by being around people or do you sometimes feel drained and need a break?\n",
      " I'm more energized by a small group of people, not a big crowd\n",
      "Question: Do you find being in a large group of people energizing or draining?\n",
      " Draining, I prefer being in a small group of people\n",
      "Question: Do you prefer focusing on the present reality or imagining future possibilities?\n",
      " I prefer imagining future possibilities but sometimes I'm overly concerned with present reality\n",
      "Question: Do you prefer focusing on the big picture and future possibilities rather than details and present realities?\n",
      " Generally I prefer focusing on the big picture and future possibilities but I can sometimes pay extra attention than I should to present realities\n",
      "Question: Do you prefer to explore theoretical concepts or focus on tangible details?\n",
      " I prefer to explore theoretical concepts\n",
      "Question: When giving feedback to others, do you tend to focus more on being direct and objective, or do you prioritize being considerate and tactful to avoid hurting their feelings?\n",
      " I prioritize being considerate and tactful to avoid hurting their feelings\n",
      "Question: When giving feedback, do you prioritize being honest and straightforward, or do you focus on being tactful and considerate of the other person's feelings?\n",
      " I focus on being tactful and considerate of the other person's feelings\n",
      "Question: When making a decision at work, do you prioritize efficiency and objective criteria, even if it might upset some colleagues?\n",
      " No, I try not to upset any colleagues\n",
      "Question: Do you often find it satisfying to organize and complete tasks ahead of schedule, or do you feel more comfortable adapting to changes as they come?\n",
      " Yes I find it satisfying to organize and complete tasks ahead of schedule\n",
      "Question: Do you often find yourself making lists to stay organized, or do you prefer to tackle tasks as they come without a set plan?\n",
      " Yes I make lists to organize myself all the time\n",
      "Question: Do you find satisfaction in checking off tasks from a to-do list, or do you enjoy leaving room for spontaneous activities in your day?\n",
      " Yes I find checking off tasks from to-do list satisfying\n"
     ]
    },
    {
     "name": "stdout",
     "output_type": "stream",
     "text": [
      "We think your MBTI type is: ENFJ\n"
     ]
    }
   ],
   "source": [
    "from transformers import AutoTokenizer, AutoModelForSequenceClassification\n",
    "from openai import OpenAI\n",
    "import torch\n",
    "import os\n",
    "from ei_classifier import EiClassifier\n",
    "from jp_classifier import JpClassifier\n",
    "from ns_classifier import NsClassifier\n",
    "from tf_classifier import TfClassifier\n",
    "\n",
    "EI = EiClassifier()\n",
    "JP = JpClassifier()\n",
    "NS = NsClassifier()\n",
    "TF = TfClassifier()\n",
    "\n",
    "EI_pred = EI.start()\n",
    "NS_pred = NS.start()\n",
    "TF_pred = TF.start()\n",
    "JP_pred = JP.start()\n",
    "\n",
    "print(\"We think your MBTI type is:\",EI_pred+NS_pred+TF_pred+JP_pred)"
   ]
  }
 ],
 "metadata": {
  "accelerator": "GPU",
  "colab": {
   "gpuType": "T4",
   "provenance": [
    {
     "file_id": "1bODIDwv_FV2wHbIB4igN60xuyOBNSjLY",
     "timestamp": 1731785132583
    },
    {
     "file_id": "1Jr4ZlELwiqejKe8BXY-Yly4F5Ht47pxK",
     "timestamp": 1731510657655
    },
    {
     "file_id": "1tvYqYZ-oAnP3uxvVNXMF_MMyzH9hS6D3",
     "timestamp": 1731473932548
    }
   ]
  },
  "kernelspec": {
   "display_name": "Python 3 (ipykernel)",
   "language": "python",
   "name": "python3"
  },
  "language_info": {
   "codemirror_mode": {
    "name": "ipython",
    "version": 3
   },
   "file_extension": ".py",
   "mimetype": "text/x-python",
   "name": "python",
   "nbconvert_exporter": "python",
   "pygments_lexer": "ipython3",
   "version": "3.10.14"
  },
  "widgets": {
   "application/vnd.jupyter.widget-state+json": {
    "09e24b42a01a46fd94be6c092ccda77e": {
     "model_module": "@jupyter-widgets/base",
     "model_module_version": "1.2.0",
     "model_name": "LayoutModel",
     "state": {
      "_model_module": "@jupyter-widgets/base",
      "_model_module_version": "1.2.0",
      "_model_name": "LayoutModel",
      "_view_count": null,
      "_view_module": "@jupyter-widgets/base",
      "_view_module_version": "1.2.0",
      "_view_name": "LayoutView",
      "align_content": null,
      "align_items": null,
      "align_self": null,
      "border": null,
      "bottom": null,
      "display": null,
      "flex": null,
      "flex_flow": null,
      "grid_area": null,
      "grid_auto_columns": null,
      "grid_auto_flow": null,
      "grid_auto_rows": null,
      "grid_column": null,
      "grid_gap": null,
      "grid_row": null,
      "grid_template_areas": null,
      "grid_template_columns": null,
      "grid_template_rows": null,
      "height": null,
      "justify_content": null,
      "justify_items": null,
      "left": null,
      "margin": null,
      "max_height": null,
      "max_width": null,
      "min_height": null,
      "min_width": null,
      "object_fit": null,
      "object_position": null,
      "order": null,
      "overflow": null,
      "overflow_x": null,
      "overflow_y": null,
      "padding": null,
      "right": null,
      "top": null,
      "visibility": null,
      "width": null
     }
    },
    "0b90476adca3498ebb4065f9bc0ca353": {
     "model_module": "@jupyter-widgets/controls",
     "model_module_version": "1.5.0",
     "model_name": "FloatProgressModel",
     "state": {
      "_dom_classes": [],
      "_model_module": "@jupyter-widgets/controls",
      "_model_module_version": "1.5.0",
      "_model_name": "FloatProgressModel",
      "_view_count": null,
      "_view_module": "@jupyter-widgets/controls",
      "_view_module_version": "1.5.0",
      "_view_name": "ProgressView",
      "bar_style": "success",
      "description": "",
      "description_tooltip": null,
      "layout": "IPY_MODEL_31e889920ca94872b7edd3c930b796af",
      "max": 26,
      "min": 0,
      "orientation": "horizontal",
      "style": "IPY_MODEL_22b6823a19194ae28d689cdcc904e503",
      "value": 26
     }
    },
    "0ec2527f4f94415ea242a306f9ea7055": {
     "model_module": "@jupyter-widgets/base",
     "model_module_version": "1.2.0",
     "model_name": "LayoutModel",
     "state": {
      "_model_module": "@jupyter-widgets/base",
      "_model_module_version": "1.2.0",
      "_model_name": "LayoutModel",
      "_view_count": null,
      "_view_module": "@jupyter-widgets/base",
      "_view_module_version": "1.2.0",
      "_view_name": "LayoutView",
      "align_content": null,
      "align_items": null,
      "align_self": null,
      "border": null,
      "bottom": null,
      "display": null,
      "flex": null,
      "flex_flow": null,
      "grid_area": null,
      "grid_auto_columns": null,
      "grid_auto_flow": null,
      "grid_auto_rows": null,
      "grid_column": null,
      "grid_gap": null,
      "grid_row": null,
      "grid_template_areas": null,
      "grid_template_columns": null,
      "grid_template_rows": null,
      "height": null,
      "justify_content": null,
      "justify_items": null,
      "left": null,
      "margin": null,
      "max_height": null,
      "max_width": null,
      "min_height": null,
      "min_width": null,
      "object_fit": null,
      "object_position": null,
      "order": null,
      "overflow": null,
      "overflow_x": null,
      "overflow_y": null,
      "padding": null,
      "right": null,
      "top": null,
      "visibility": null,
      "width": null
     }
    },
    "106e63bf07094a7f87278e99fcab3721": {
     "model_module": "@jupyter-widgets/base",
     "model_module_version": "1.2.0",
     "model_name": "LayoutModel",
     "state": {
      "_model_module": "@jupyter-widgets/base",
      "_model_module_version": "1.2.0",
      "_model_name": "LayoutModel",
      "_view_count": null,
      "_view_module": "@jupyter-widgets/base",
      "_view_module_version": "1.2.0",
      "_view_name": "LayoutView",
      "align_content": null,
      "align_items": null,
      "align_self": null,
      "border": null,
      "bottom": null,
      "display": null,
      "flex": null,
      "flex_flow": null,
      "grid_area": null,
      "grid_auto_columns": null,
      "grid_auto_flow": null,
      "grid_auto_rows": null,
      "grid_column": null,
      "grid_gap": null,
      "grid_row": null,
      "grid_template_areas": null,
      "grid_template_columns": null,
      "grid_template_rows": null,
      "height": null,
      "justify_content": null,
      "justify_items": null,
      "left": null,
      "margin": null,
      "max_height": null,
      "max_width": null,
      "min_height": null,
      "min_width": null,
      "object_fit": null,
      "object_position": null,
      "order": null,
      "overflow": null,
      "overflow_x": null,
      "overflow_y": null,
      "padding": null,
      "right": null,
      "top": null,
      "visibility": null,
      "width": null
     }
    },
    "1436bacffdf14cebacba2a2f4abfefdf": {
     "model_module": "@jupyter-widgets/base",
     "model_module_version": "1.2.0",
     "model_name": "LayoutModel",
     "state": {
      "_model_module": "@jupyter-widgets/base",
      "_model_module_version": "1.2.0",
      "_model_name": "LayoutModel",
      "_view_count": null,
      "_view_module": "@jupyter-widgets/base",
      "_view_module_version": "1.2.0",
      "_view_name": "LayoutView",
      "align_content": null,
      "align_items": null,
      "align_self": null,
      "border": null,
      "bottom": null,
      "display": null,
      "flex": null,
      "flex_flow": null,
      "grid_area": null,
      "grid_auto_columns": null,
      "grid_auto_flow": null,
      "grid_auto_rows": null,
      "grid_column": null,
      "grid_gap": null,
      "grid_row": null,
      "grid_template_areas": null,
      "grid_template_columns": null,
      "grid_template_rows": null,
      "height": null,
      "justify_content": null,
      "justify_items": null,
      "left": null,
      "margin": null,
      "max_height": null,
      "max_width": null,
      "min_height": null,
      "min_width": null,
      "object_fit": null,
      "object_position": null,
      "order": null,
      "overflow": null,
      "overflow_x": null,
      "overflow_y": null,
      "padding": null,
      "right": null,
      "top": null,
      "visibility": null,
      "width": null
     }
    },
    "19aaf08063c84f619dd29978a5cb5ca8": {
     "model_module": "@jupyter-widgets/controls",
     "model_module_version": "1.5.0",
     "model_name": "FloatProgressModel",
     "state": {
      "_dom_classes": [],
      "_model_module": "@jupyter-widgets/controls",
      "_model_module_version": "1.5.0",
      "_model_name": "FloatProgressModel",
      "_view_count": null,
      "_view_module": "@jupyter-widgets/controls",
      "_view_module_version": "1.5.0",
      "_view_name": "ProgressView",
      "bar_style": "success",
      "description": "",
      "description_tooltip": null,
      "layout": "IPY_MODEL_21417bd64f374c599e937643dd102a42",
      "max": 665,
      "min": 0,
      "orientation": "horizontal",
      "style": "IPY_MODEL_91481f2ff34e4089a12cd19618d83988",
      "value": 665
     }
    },
    "21417bd64f374c599e937643dd102a42": {
     "model_module": "@jupyter-widgets/base",
     "model_module_version": "1.2.0",
     "model_name": "LayoutModel",
     "state": {
      "_model_module": "@jupyter-widgets/base",
      "_model_module_version": "1.2.0",
      "_model_name": "LayoutModel",
      "_view_count": null,
      "_view_module": "@jupyter-widgets/base",
      "_view_module_version": "1.2.0",
      "_view_name": "LayoutView",
      "align_content": null,
      "align_items": null,
      "align_self": null,
      "border": null,
      "bottom": null,
      "display": null,
      "flex": null,
      "flex_flow": null,
      "grid_area": null,
      "grid_auto_columns": null,
      "grid_auto_flow": null,
      "grid_auto_rows": null,
      "grid_column": null,
      "grid_gap": null,
      "grid_row": null,
      "grid_template_areas": null,
      "grid_template_columns": null,
      "grid_template_rows": null,
      "height": null,
      "justify_content": null,
      "justify_items": null,
      "left": null,
      "margin": null,
      "max_height": null,
      "max_width": null,
      "min_height": null,
      "min_width": null,
      "object_fit": null,
      "object_position": null,
      "order": null,
      "overflow": null,
      "overflow_x": null,
      "overflow_y": null,
      "padding": null,
      "right": null,
      "top": null,
      "visibility": null,
      "width": null
     }
    },
    "22b6823a19194ae28d689cdcc904e503": {
     "model_module": "@jupyter-widgets/controls",
     "model_module_version": "1.5.0",
     "model_name": "ProgressStyleModel",
     "state": {
      "_model_module": "@jupyter-widgets/controls",
      "_model_module_version": "1.5.0",
      "_model_name": "ProgressStyleModel",
      "_view_count": null,
      "_view_module": "@jupyter-widgets/base",
      "_view_module_version": "1.2.0",
      "_view_name": "StyleView",
      "bar_color": null,
      "description_width": ""
     }
    },
    "253ce9a5eed3440eb2791d751b038b51": {
     "model_module": "@jupyter-widgets/base",
     "model_module_version": "1.2.0",
     "model_name": "LayoutModel",
     "state": {
      "_model_module": "@jupyter-widgets/base",
      "_model_module_version": "1.2.0",
      "_model_name": "LayoutModel",
      "_view_count": null,
      "_view_module": "@jupyter-widgets/base",
      "_view_module_version": "1.2.0",
      "_view_name": "LayoutView",
      "align_content": null,
      "align_items": null,
      "align_self": null,
      "border": null,
      "bottom": null,
      "display": null,
      "flex": null,
      "flex_flow": null,
      "grid_area": null,
      "grid_auto_columns": null,
      "grid_auto_flow": null,
      "grid_auto_rows": null,
      "grid_column": null,
      "grid_gap": null,
      "grid_row": null,
      "grid_template_areas": null,
      "grid_template_columns": null,
      "grid_template_rows": null,
      "height": null,
      "justify_content": null,
      "justify_items": null,
      "left": null,
      "margin": null,
      "max_height": null,
      "max_width": null,
      "min_height": null,
      "min_width": null,
      "object_fit": null,
      "object_position": null,
      "order": null,
      "overflow": null,
      "overflow_x": null,
      "overflow_y": null,
      "padding": null,
      "right": null,
      "top": null,
      "visibility": null,
      "width": null
     }
    },
    "2a6123664bd64ca99bbfbde507a82a1f": {
     "model_module": "@jupyter-widgets/base",
     "model_module_version": "1.2.0",
     "model_name": "LayoutModel",
     "state": {
      "_model_module": "@jupyter-widgets/base",
      "_model_module_version": "1.2.0",
      "_model_name": "LayoutModel",
      "_view_count": null,
      "_view_module": "@jupyter-widgets/base",
      "_view_module_version": "1.2.0",
      "_view_name": "LayoutView",
      "align_content": null,
      "align_items": null,
      "align_self": null,
      "border": null,
      "bottom": null,
      "display": null,
      "flex": null,
      "flex_flow": null,
      "grid_area": null,
      "grid_auto_columns": null,
      "grid_auto_flow": null,
      "grid_auto_rows": null,
      "grid_column": null,
      "grid_gap": null,
      "grid_row": null,
      "grid_template_areas": null,
      "grid_template_columns": null,
      "grid_template_rows": null,
      "height": null,
      "justify_content": null,
      "justify_items": null,
      "left": null,
      "margin": null,
      "max_height": null,
      "max_width": null,
      "min_height": null,
      "min_width": null,
      "object_fit": null,
      "object_position": null,
      "order": null,
      "overflow": null,
      "overflow_x": null,
      "overflow_y": null,
      "padding": null,
      "right": null,
      "top": null,
      "visibility": null,
      "width": null
     }
    },
    "31e889920ca94872b7edd3c930b796af": {
     "model_module": "@jupyter-widgets/base",
     "model_module_version": "1.2.0",
     "model_name": "LayoutModel",
     "state": {
      "_model_module": "@jupyter-widgets/base",
      "_model_module_version": "1.2.0",
      "_model_name": "LayoutModel",
      "_view_count": null,
      "_view_module": "@jupyter-widgets/base",
      "_view_module_version": "1.2.0",
      "_view_name": "LayoutView",
      "align_content": null,
      "align_items": null,
      "align_self": null,
      "border": null,
      "bottom": null,
      "display": null,
      "flex": null,
      "flex_flow": null,
      "grid_area": null,
      "grid_auto_columns": null,
      "grid_auto_flow": null,
      "grid_auto_rows": null,
      "grid_column": null,
      "grid_gap": null,
      "grid_row": null,
      "grid_template_areas": null,
      "grid_template_columns": null,
      "grid_template_rows": null,
      "height": null,
      "justify_content": null,
      "justify_items": null,
      "left": null,
      "margin": null,
      "max_height": null,
      "max_width": null,
      "min_height": null,
      "min_width": null,
      "object_fit": null,
      "object_position": null,
      "order": null,
      "overflow": null,
      "overflow_x": null,
      "overflow_y": null,
      "padding": null,
      "right": null,
      "top": null,
      "visibility": null,
      "width": null
     }
    },
    "40e6c0b2b7934f79a633a4d4dbeda39b": {
     "model_module": "@jupyter-widgets/base",
     "model_module_version": "1.2.0",
     "model_name": "LayoutModel",
     "state": {
      "_model_module": "@jupyter-widgets/base",
      "_model_module_version": "1.2.0",
      "_model_name": "LayoutModel",
      "_view_count": null,
      "_view_module": "@jupyter-widgets/base",
      "_view_module_version": "1.2.0",
      "_view_name": "LayoutView",
      "align_content": null,
      "align_items": null,
      "align_self": null,
      "border": null,
      "bottom": null,
      "display": null,
      "flex": null,
      "flex_flow": null,
      "grid_area": null,
      "grid_auto_columns": null,
      "grid_auto_flow": null,
      "grid_auto_rows": null,
      "grid_column": null,
      "grid_gap": null,
      "grid_row": null,
      "grid_template_areas": null,
      "grid_template_columns": null,
      "grid_template_rows": null,
      "height": null,
      "justify_content": null,
      "justify_items": null,
      "left": null,
      "margin": null,
      "max_height": null,
      "max_width": null,
      "min_height": null,
      "min_width": null,
      "object_fit": null,
      "object_position": null,
      "order": null,
      "overflow": null,
      "overflow_x": null,
      "overflow_y": null,
      "padding": null,
      "right": null,
      "top": null,
      "visibility": null,
      "width": null
     }
    },
    "41553ac0717c4e0da2bd959dc015df75": {
     "model_module": "@jupyter-widgets/base",
     "model_module_version": "1.2.0",
     "model_name": "LayoutModel",
     "state": {
      "_model_module": "@jupyter-widgets/base",
      "_model_module_version": "1.2.0",
      "_model_name": "LayoutModel",
      "_view_count": null,
      "_view_module": "@jupyter-widgets/base",
      "_view_module_version": "1.2.0",
      "_view_name": "LayoutView",
      "align_content": null,
      "align_items": null,
      "align_self": null,
      "border": null,
      "bottom": null,
      "display": null,
      "flex": null,
      "flex_flow": null,
      "grid_area": null,
      "grid_auto_columns": null,
      "grid_auto_flow": null,
      "grid_auto_rows": null,
      "grid_column": null,
      "grid_gap": null,
      "grid_row": null,
      "grid_template_areas": null,
      "grid_template_columns": null,
      "grid_template_rows": null,
      "height": null,
      "justify_content": null,
      "justify_items": null,
      "left": null,
      "margin": null,
      "max_height": null,
      "max_width": null,
      "min_height": null,
      "min_width": null,
      "object_fit": null,
      "object_position": null,
      "order": null,
      "overflow": null,
      "overflow_x": null,
      "overflow_y": null,
      "padding": null,
      "right": null,
      "top": null,
      "visibility": null,
      "width": null
     }
    },
    "45b7f79ddf4a4a3ba0f9066ec2fa440c": {
     "model_module": "@jupyter-widgets/controls",
     "model_module_version": "1.5.0",
     "model_name": "HBoxModel",
     "state": {
      "_dom_classes": [],
      "_model_module": "@jupyter-widgets/controls",
      "_model_module_version": "1.5.0",
      "_model_name": "HBoxModel",
      "_view_count": null,
      "_view_module": "@jupyter-widgets/controls",
      "_view_module_version": "1.5.0",
      "_view_name": "HBoxView",
      "box_style": "",
      "children": [
       "IPY_MODEL_d171f55c48d04e18bbb883772c9d7519",
       "IPY_MODEL_19aaf08063c84f619dd29978a5cb5ca8",
       "IPY_MODEL_6a4e3ad8fc9847469519781a62b7c45c"
      ],
      "layout": "IPY_MODEL_253ce9a5eed3440eb2791d751b038b51"
     }
    },
    "482eaba7a567481e9d406e14f01d095c": {
     "model_module": "@jupyter-widgets/controls",
     "model_module_version": "1.5.0",
     "model_name": "HBoxModel",
     "state": {
      "_dom_classes": [],
      "_model_module": "@jupyter-widgets/controls",
      "_model_module_version": "1.5.0",
      "_model_name": "HBoxModel",
      "_view_count": null,
      "_view_module": "@jupyter-widgets/controls",
      "_view_module_version": "1.5.0",
      "_view_name": "HBoxView",
      "box_style": "",
      "children": [
       "IPY_MODEL_7cf653ec8f8848dab6c0a53c6ef3fe9b",
       "IPY_MODEL_913dc072800d4a5a843875d95ca2ab3b",
       "IPY_MODEL_748c35d2101144b48aee39df4566ead4"
      ],
      "layout": "IPY_MODEL_8afd8bc58e674faebbdf34b67fb09407"
     }
    },
    "56244a04ad884a4fa19d895f975fbeca": {
     "model_module": "@jupyter-widgets/controls",
     "model_module_version": "1.5.0",
     "model_name": "ProgressStyleModel",
     "state": {
      "_model_module": "@jupyter-widgets/controls",
      "_model_module_version": "1.5.0",
      "_model_name": "ProgressStyleModel",
      "_view_count": null,
      "_view_module": "@jupyter-widgets/base",
      "_view_module_version": "1.2.0",
      "_view_name": "StyleView",
      "bar_color": null,
      "description_width": ""
     }
    },
    "5ec79f3a5d9b445a91f2c0578c32365a": {
     "model_module": "@jupyter-widgets/controls",
     "model_module_version": "1.5.0",
     "model_name": "HTMLModel",
     "state": {
      "_dom_classes": [],
      "_model_module": "@jupyter-widgets/controls",
      "_model_module_version": "1.5.0",
      "_model_name": "HTMLModel",
      "_view_count": null,
      "_view_module": "@jupyter-widgets/controls",
      "_view_module_version": "1.5.0",
      "_view_name": "HTMLView",
      "description": "",
      "description_tooltip": null,
      "layout": "IPY_MODEL_40e6c0b2b7934f79a633a4d4dbeda39b",
      "placeholder": "​",
      "style": "IPY_MODEL_e2c6067e5d054c678ec20d202b4e2aa4",
      "value": "merges.txt: 100%"
     }
    },
    "5f418f63aaa141b385327142c7435b1e": {
     "model_module": "@jupyter-widgets/controls",
     "model_module_version": "1.5.0",
     "model_name": "ProgressStyleModel",
     "state": {
      "_model_module": "@jupyter-widgets/controls",
      "_model_module_version": "1.5.0",
      "_model_name": "ProgressStyleModel",
      "_view_count": null,
      "_view_module": "@jupyter-widgets/base",
      "_view_module_version": "1.2.0",
      "_view_name": "StyleView",
      "bar_color": null,
      "description_width": ""
     }
    },
    "6218ce71824148549d93ec4ab6e44e86": {
     "model_module": "@jupyter-widgets/controls",
     "model_module_version": "1.5.0",
     "model_name": "HTMLModel",
     "state": {
      "_dom_classes": [],
      "_model_module": "@jupyter-widgets/controls",
      "_model_module_version": "1.5.0",
      "_model_name": "HTMLModel",
      "_view_count": null,
      "_view_module": "@jupyter-widgets/controls",
      "_view_module_version": "1.5.0",
      "_view_name": "HTMLView",
      "description": "",
      "description_tooltip": null,
      "layout": "IPY_MODEL_e0f6f6801b2144138f3e0808d221fde0",
      "placeholder": "​",
      "style": "IPY_MODEL_f72716ab17ff4e50bf3a54b1e0a44dad",
      "value": "vocab.json: 100%"
     }
    },
    "6a4e3ad8fc9847469519781a62b7c45c": {
     "model_module": "@jupyter-widgets/controls",
     "model_module_version": "1.5.0",
     "model_name": "HTMLModel",
     "state": {
      "_dom_classes": [],
      "_model_module": "@jupyter-widgets/controls",
      "_model_module_version": "1.5.0",
      "_model_name": "HTMLModel",
      "_view_count": null,
      "_view_module": "@jupyter-widgets/controls",
      "_view_module_version": "1.5.0",
      "_view_name": "HTMLView",
      "description": "",
      "description_tooltip": null,
      "layout": "IPY_MODEL_82384fda94844e0994dbde6bdc86cf45",
      "placeholder": "​",
      "style": "IPY_MODEL_84655277a94a454db150f84226216dda",
      "value": " 665/665 [00:00&lt;00:00, 45.7kB/s]"
     }
    },
    "6c66e449d32a4a0bb7f4b10ea3ba2bbf": {
     "model_module": "@jupyter-widgets/controls",
     "model_module_version": "1.5.0",
     "model_name": "FloatProgressModel",
     "state": {
      "_dom_classes": [],
      "_model_module": "@jupyter-widgets/controls",
      "_model_module_version": "1.5.0",
      "_model_name": "FloatProgressModel",
      "_view_count": null,
      "_view_module": "@jupyter-widgets/controls",
      "_view_module_version": "1.5.0",
      "_view_name": "ProgressView",
      "bar_style": "success",
      "description": "",
      "description_tooltip": null,
      "layout": "IPY_MODEL_ff91e5d1a5bb4ceb92dd1e098718ca04",
      "max": 1042301,
      "min": 0,
      "orientation": "horizontal",
      "style": "IPY_MODEL_5f418f63aaa141b385327142c7435b1e",
      "value": 1042301
     }
    },
    "748c35d2101144b48aee39df4566ead4": {
     "model_module": "@jupyter-widgets/controls",
     "model_module_version": "1.5.0",
     "model_name": "HTMLModel",
     "state": {
      "_dom_classes": [],
      "_model_module": "@jupyter-widgets/controls",
      "_model_module_version": "1.5.0",
      "_model_name": "HTMLModel",
      "_view_count": null,
      "_view_module": "@jupyter-widgets/controls",
      "_view_module_version": "1.5.0",
      "_view_name": "HTMLView",
      "description": "",
      "description_tooltip": null,
      "layout": "IPY_MODEL_0ec2527f4f94415ea242a306f9ea7055",
      "placeholder": "​",
      "style": "IPY_MODEL_8b75f76343944103880110ff2417df52",
      "value": " 1.36M/1.36M [00:00&lt;00:00, 2.15MB/s]"
     }
    },
    "78969d5c2eea485191679ac42371ec5a": {
     "model_module": "@jupyter-widgets/base",
     "model_module_version": "1.2.0",
     "model_name": "LayoutModel",
     "state": {
      "_model_module": "@jupyter-widgets/base",
      "_model_module_version": "1.2.0",
      "_model_name": "LayoutModel",
      "_view_count": null,
      "_view_module": "@jupyter-widgets/base",
      "_view_module_version": "1.2.0",
      "_view_name": "LayoutView",
      "align_content": null,
      "align_items": null,
      "align_self": null,
      "border": null,
      "bottom": null,
      "display": null,
      "flex": null,
      "flex_flow": null,
      "grid_area": null,
      "grid_auto_columns": null,
      "grid_auto_flow": null,
      "grid_auto_rows": null,
      "grid_column": null,
      "grid_gap": null,
      "grid_row": null,
      "grid_template_areas": null,
      "grid_template_columns": null,
      "grid_template_rows": null,
      "height": null,
      "justify_content": null,
      "justify_items": null,
      "left": null,
      "margin": null,
      "max_height": null,
      "max_width": null,
      "min_height": null,
      "min_width": null,
      "object_fit": null,
      "object_position": null,
      "order": null,
      "overflow": null,
      "overflow_x": null,
      "overflow_y": null,
      "padding": null,
      "right": null,
      "top": null,
      "visibility": null,
      "width": null
     }
    },
    "7cf653ec8f8848dab6c0a53c6ef3fe9b": {
     "model_module": "@jupyter-widgets/controls",
     "model_module_version": "1.5.0",
     "model_name": "HTMLModel",
     "state": {
      "_dom_classes": [],
      "_model_module": "@jupyter-widgets/controls",
      "_model_module_version": "1.5.0",
      "_model_name": "HTMLModel",
      "_view_count": null,
      "_view_module": "@jupyter-widgets/controls",
      "_view_module_version": "1.5.0",
      "_view_name": "HTMLView",
      "description": "",
      "description_tooltip": null,
      "layout": "IPY_MODEL_106e63bf07094a7f87278e99fcab3721",
      "placeholder": "​",
      "style": "IPY_MODEL_90c589fe8dfa4ba9907d354fb21634f8",
      "value": "tokenizer.json: 100%"
     }
    },
    "7e280b423cee4e199921c7635f16857a": {
     "model_module": "@jupyter-widgets/controls",
     "model_module_version": "1.5.0",
     "model_name": "HTMLModel",
     "state": {
      "_dom_classes": [],
      "_model_module": "@jupyter-widgets/controls",
      "_model_module_version": "1.5.0",
      "_model_name": "HTMLModel",
      "_view_count": null,
      "_view_module": "@jupyter-widgets/controls",
      "_view_module_version": "1.5.0",
      "_view_name": "HTMLView",
      "description": "",
      "description_tooltip": null,
      "layout": "IPY_MODEL_f537a27914e847deaf5eaa4b8c93ab44",
      "placeholder": "​",
      "style": "IPY_MODEL_cba16939cd74475db7a316a682c5e0c5",
      "value": "tokenizer_config.json: 100%"
     }
    },
    "82384fda94844e0994dbde6bdc86cf45": {
     "model_module": "@jupyter-widgets/base",
     "model_module_version": "1.2.0",
     "model_name": "LayoutModel",
     "state": {
      "_model_module": "@jupyter-widgets/base",
      "_model_module_version": "1.2.0",
      "_model_name": "LayoutModel",
      "_view_count": null,
      "_view_module": "@jupyter-widgets/base",
      "_view_module_version": "1.2.0",
      "_view_name": "LayoutView",
      "align_content": null,
      "align_items": null,
      "align_self": null,
      "border": null,
      "bottom": null,
      "display": null,
      "flex": null,
      "flex_flow": null,
      "grid_area": null,
      "grid_auto_columns": null,
      "grid_auto_flow": null,
      "grid_auto_rows": null,
      "grid_column": null,
      "grid_gap": null,
      "grid_row": null,
      "grid_template_areas": null,
      "grid_template_columns": null,
      "grid_template_rows": null,
      "height": null,
      "justify_content": null,
      "justify_items": null,
      "left": null,
      "margin": null,
      "max_height": null,
      "max_width": null,
      "min_height": null,
      "min_width": null,
      "object_fit": null,
      "object_position": null,
      "order": null,
      "overflow": null,
      "overflow_x": null,
      "overflow_y": null,
      "padding": null,
      "right": null,
      "top": null,
      "visibility": null,
      "width": null
     }
    },
    "83d65f007436460eb3437c6c14a43574": {
     "model_module": "@jupyter-widgets/controls",
     "model_module_version": "1.5.0",
     "model_name": "FloatProgressModel",
     "state": {
      "_dom_classes": [],
      "_model_module": "@jupyter-widgets/controls",
      "_model_module_version": "1.5.0",
      "_model_name": "FloatProgressModel",
      "_view_count": null,
      "_view_module": "@jupyter-widgets/controls",
      "_view_module_version": "1.5.0",
      "_view_name": "ProgressView",
      "bar_style": "success",
      "description": "",
      "description_tooltip": null,
      "layout": "IPY_MODEL_1436bacffdf14cebacba2a2f4abfefdf",
      "max": 456318,
      "min": 0,
      "orientation": "horizontal",
      "style": "IPY_MODEL_e569218532644089b6551b9c8b5a1db1",
      "value": 456318
     }
    },
    "84655277a94a454db150f84226216dda": {
     "model_module": "@jupyter-widgets/controls",
     "model_module_version": "1.5.0",
     "model_name": "DescriptionStyleModel",
     "state": {
      "_model_module": "@jupyter-widgets/controls",
      "_model_module_version": "1.5.0",
      "_model_name": "DescriptionStyleModel",
      "_view_count": null,
      "_view_module": "@jupyter-widgets/base",
      "_view_module_version": "1.2.0",
      "_view_name": "StyleView",
      "description_width": ""
     }
    },
    "86c9b713effa42d7acb956fc3e84aab9": {
     "model_module": "@jupyter-widgets/controls",
     "model_module_version": "1.5.0",
     "model_name": "DescriptionStyleModel",
     "state": {
      "_model_module": "@jupyter-widgets/controls",
      "_model_module_version": "1.5.0",
      "_model_name": "DescriptionStyleModel",
      "_view_count": null,
      "_view_module": "@jupyter-widgets/base",
      "_view_module_version": "1.2.0",
      "_view_name": "StyleView",
      "description_width": ""
     }
    },
    "8afd8bc58e674faebbdf34b67fb09407": {
     "model_module": "@jupyter-widgets/base",
     "model_module_version": "1.2.0",
     "model_name": "LayoutModel",
     "state": {
      "_model_module": "@jupyter-widgets/base",
      "_model_module_version": "1.2.0",
      "_model_name": "LayoutModel",
      "_view_count": null,
      "_view_module": "@jupyter-widgets/base",
      "_view_module_version": "1.2.0",
      "_view_name": "LayoutView",
      "align_content": null,
      "align_items": null,
      "align_self": null,
      "border": null,
      "bottom": null,
      "display": null,
      "flex": null,
      "flex_flow": null,
      "grid_area": null,
      "grid_auto_columns": null,
      "grid_auto_flow": null,
      "grid_auto_rows": null,
      "grid_column": null,
      "grid_gap": null,
      "grid_row": null,
      "grid_template_areas": null,
      "grid_template_columns": null,
      "grid_template_rows": null,
      "height": null,
      "justify_content": null,
      "justify_items": null,
      "left": null,
      "margin": null,
      "max_height": null,
      "max_width": null,
      "min_height": null,
      "min_width": null,
      "object_fit": null,
      "object_position": null,
      "order": null,
      "overflow": null,
      "overflow_x": null,
      "overflow_y": null,
      "padding": null,
      "right": null,
      "top": null,
      "visibility": null,
      "width": null
     }
    },
    "8b75f76343944103880110ff2417df52": {
     "model_module": "@jupyter-widgets/controls",
     "model_module_version": "1.5.0",
     "model_name": "DescriptionStyleModel",
     "state": {
      "_model_module": "@jupyter-widgets/controls",
      "_model_module_version": "1.5.0",
      "_model_name": "DescriptionStyleModel",
      "_view_count": null,
      "_view_module": "@jupyter-widgets/base",
      "_view_module_version": "1.2.0",
      "_view_name": "StyleView",
      "description_width": ""
     }
    },
    "90c589fe8dfa4ba9907d354fb21634f8": {
     "model_module": "@jupyter-widgets/controls",
     "model_module_version": "1.5.0",
     "model_name": "DescriptionStyleModel",
     "state": {
      "_model_module": "@jupyter-widgets/controls",
      "_model_module_version": "1.5.0",
      "_model_name": "DescriptionStyleModel",
      "_view_count": null,
      "_view_module": "@jupyter-widgets/base",
      "_view_module_version": "1.2.0",
      "_view_name": "StyleView",
      "description_width": ""
     }
    },
    "913dc072800d4a5a843875d95ca2ab3b": {
     "model_module": "@jupyter-widgets/controls",
     "model_module_version": "1.5.0",
     "model_name": "FloatProgressModel",
     "state": {
      "_dom_classes": [],
      "_model_module": "@jupyter-widgets/controls",
      "_model_module_version": "1.5.0",
      "_model_name": "FloatProgressModel",
      "_view_count": null,
      "_view_module": "@jupyter-widgets/controls",
      "_view_module_version": "1.5.0",
      "_view_name": "ProgressView",
      "bar_style": "success",
      "description": "",
      "description_tooltip": null,
      "layout": "IPY_MODEL_a3d3f5c4a9d24d4db0b6fae6f9ceaf06",
      "max": 1355256,
      "min": 0,
      "orientation": "horizontal",
      "style": "IPY_MODEL_56244a04ad884a4fa19d895f975fbeca",
      "value": 1355256
     }
    },
    "91481f2ff34e4089a12cd19618d83988": {
     "model_module": "@jupyter-widgets/controls",
     "model_module_version": "1.5.0",
     "model_name": "ProgressStyleModel",
     "state": {
      "_model_module": "@jupyter-widgets/controls",
      "_model_module_version": "1.5.0",
      "_model_name": "ProgressStyleModel",
      "_view_count": null,
      "_view_module": "@jupyter-widgets/base",
      "_view_module_version": "1.2.0",
      "_view_name": "StyleView",
      "bar_color": null,
      "description_width": ""
     }
    },
    "9671fb96ae254feca87f236b7e8c8d9c": {
     "model_module": "@jupyter-widgets/controls",
     "model_module_version": "1.5.0",
     "model_name": "DescriptionStyleModel",
     "state": {
      "_model_module": "@jupyter-widgets/controls",
      "_model_module_version": "1.5.0",
      "_model_name": "DescriptionStyleModel",
      "_view_count": null,
      "_view_module": "@jupyter-widgets/base",
      "_view_module_version": "1.2.0",
      "_view_name": "StyleView",
      "description_width": ""
     }
    },
    "9a4b71c4a8a34bd38c75244aa152df12": {
     "model_module": "@jupyter-widgets/controls",
     "model_module_version": "1.5.0",
     "model_name": "HBoxModel",
     "state": {
      "_dom_classes": [],
      "_model_module": "@jupyter-widgets/controls",
      "_model_module_version": "1.5.0",
      "_model_name": "HBoxModel",
      "_view_count": null,
      "_view_module": "@jupyter-widgets/controls",
      "_view_module_version": "1.5.0",
      "_view_name": "HBoxView",
      "box_style": "",
      "children": [
       "IPY_MODEL_5ec79f3a5d9b445a91f2c0578c32365a",
       "IPY_MODEL_83d65f007436460eb3437c6c14a43574",
       "IPY_MODEL_edd43e5b4b3c4a8687d5a026ed3cc654"
      ],
      "layout": "IPY_MODEL_78969d5c2eea485191679ac42371ec5a"
     }
    },
    "a3d3f5c4a9d24d4db0b6fae6f9ceaf06": {
     "model_module": "@jupyter-widgets/base",
     "model_module_version": "1.2.0",
     "model_name": "LayoutModel",
     "state": {
      "_model_module": "@jupyter-widgets/base",
      "_model_module_version": "1.2.0",
      "_model_name": "LayoutModel",
      "_view_count": null,
      "_view_module": "@jupyter-widgets/base",
      "_view_module_version": "1.2.0",
      "_view_name": "LayoutView",
      "align_content": null,
      "align_items": null,
      "align_self": null,
      "border": null,
      "bottom": null,
      "display": null,
      "flex": null,
      "flex_flow": null,
      "grid_area": null,
      "grid_auto_columns": null,
      "grid_auto_flow": null,
      "grid_auto_rows": null,
      "grid_column": null,
      "grid_gap": null,
      "grid_row": null,
      "grid_template_areas": null,
      "grid_template_columns": null,
      "grid_template_rows": null,
      "height": null,
      "justify_content": null,
      "justify_items": null,
      "left": null,
      "margin": null,
      "max_height": null,
      "max_width": null,
      "min_height": null,
      "min_width": null,
      "object_fit": null,
      "object_position": null,
      "order": null,
      "overflow": null,
      "overflow_x": null,
      "overflow_y": null,
      "padding": null,
      "right": null,
      "top": null,
      "visibility": null,
      "width": null
     }
    },
    "b0f3f81429e14402abe4f2b31ead1ea1": {
     "model_module": "@jupyter-widgets/controls",
     "model_module_version": "1.5.0",
     "model_name": "HBoxModel",
     "state": {
      "_dom_classes": [],
      "_model_module": "@jupyter-widgets/controls",
      "_model_module_version": "1.5.0",
      "_model_name": "HBoxModel",
      "_view_count": null,
      "_view_module": "@jupyter-widgets/controls",
      "_view_module_version": "1.5.0",
      "_view_name": "HBoxView",
      "box_style": "",
      "children": [
       "IPY_MODEL_7e280b423cee4e199921c7635f16857a",
       "IPY_MODEL_0b90476adca3498ebb4065f9bc0ca353",
       "IPY_MODEL_db5cf9a5cae34eb99861c76449158616"
      ],
      "layout": "IPY_MODEL_41553ac0717c4e0da2bd959dc015df75"
     }
    },
    "b194321ed63648fdbe4eccd5c2858457": {
     "model_module": "@jupyter-widgets/controls",
     "model_module_version": "1.5.0",
     "model_name": "HBoxModel",
     "state": {
      "_dom_classes": [],
      "_model_module": "@jupyter-widgets/controls",
      "_model_module_version": "1.5.0",
      "_model_name": "HBoxModel",
      "_view_count": null,
      "_view_module": "@jupyter-widgets/controls",
      "_view_module_version": "1.5.0",
      "_view_name": "HBoxView",
      "box_style": "",
      "children": [
       "IPY_MODEL_6218ce71824148549d93ec4ab6e44e86",
       "IPY_MODEL_6c66e449d32a4a0bb7f4b10ea3ba2bbf",
       "IPY_MODEL_fffd63653e24444a8361dd7c83307824"
      ],
      "layout": "IPY_MODEL_2a6123664bd64ca99bbfbde507a82a1f"
     }
    },
    "b20dba88e50a404eb950a44b04b9119f": {
     "model_module": "@jupyter-widgets/base",
     "model_module_version": "1.2.0",
     "model_name": "LayoutModel",
     "state": {
      "_model_module": "@jupyter-widgets/base",
      "_model_module_version": "1.2.0",
      "_model_name": "LayoutModel",
      "_view_count": null,
      "_view_module": "@jupyter-widgets/base",
      "_view_module_version": "1.2.0",
      "_view_name": "LayoutView",
      "align_content": null,
      "align_items": null,
      "align_self": null,
      "border": null,
      "bottom": null,
      "display": null,
      "flex": null,
      "flex_flow": null,
      "grid_area": null,
      "grid_auto_columns": null,
      "grid_auto_flow": null,
      "grid_auto_rows": null,
      "grid_column": null,
      "grid_gap": null,
      "grid_row": null,
      "grid_template_areas": null,
      "grid_template_columns": null,
      "grid_template_rows": null,
      "height": null,
      "justify_content": null,
      "justify_items": null,
      "left": null,
      "margin": null,
      "max_height": null,
      "max_width": null,
      "min_height": null,
      "min_width": null,
      "object_fit": null,
      "object_position": null,
      "order": null,
      "overflow": null,
      "overflow_x": null,
      "overflow_y": null,
      "padding": null,
      "right": null,
      "top": null,
      "visibility": null,
      "width": null
     }
    },
    "cba16939cd74475db7a316a682c5e0c5": {
     "model_module": "@jupyter-widgets/controls",
     "model_module_version": "1.5.0",
     "model_name": "DescriptionStyleModel",
     "state": {
      "_model_module": "@jupyter-widgets/controls",
      "_model_module_version": "1.5.0",
      "_model_name": "DescriptionStyleModel",
      "_view_count": null,
      "_view_module": "@jupyter-widgets/base",
      "_view_module_version": "1.2.0",
      "_view_name": "StyleView",
      "description_width": ""
     }
    },
    "d171f55c48d04e18bbb883772c9d7519": {
     "model_module": "@jupyter-widgets/controls",
     "model_module_version": "1.5.0",
     "model_name": "HTMLModel",
     "state": {
      "_dom_classes": [],
      "_model_module": "@jupyter-widgets/controls",
      "_model_module_version": "1.5.0",
      "_model_name": "HTMLModel",
      "_view_count": null,
      "_view_module": "@jupyter-widgets/controls",
      "_view_module_version": "1.5.0",
      "_view_name": "HTMLView",
      "description": "",
      "description_tooltip": null,
      "layout": "IPY_MODEL_f0c67db53c094c0e8a21a6432ecec0e0",
      "placeholder": "​",
      "style": "IPY_MODEL_86c9b713effa42d7acb956fc3e84aab9",
      "value": "config.json: 100%"
     }
    },
    "d30c0bee26354402a5dddcd9b06f382c": {
     "model_module": "@jupyter-widgets/base",
     "model_module_version": "1.2.0",
     "model_name": "LayoutModel",
     "state": {
      "_model_module": "@jupyter-widgets/base",
      "_model_module_version": "1.2.0",
      "_model_name": "LayoutModel",
      "_view_count": null,
      "_view_module": "@jupyter-widgets/base",
      "_view_module_version": "1.2.0",
      "_view_name": "LayoutView",
      "align_content": null,
      "align_items": null,
      "align_self": null,
      "border": null,
      "bottom": null,
      "display": null,
      "flex": null,
      "flex_flow": null,
      "grid_area": null,
      "grid_auto_columns": null,
      "grid_auto_flow": null,
      "grid_auto_rows": null,
      "grid_column": null,
      "grid_gap": null,
      "grid_row": null,
      "grid_template_areas": null,
      "grid_template_columns": null,
      "grid_template_rows": null,
      "height": null,
      "justify_content": null,
      "justify_items": null,
      "left": null,
      "margin": null,
      "max_height": null,
      "max_width": null,
      "min_height": null,
      "min_width": null,
      "object_fit": null,
      "object_position": null,
      "order": null,
      "overflow": null,
      "overflow_x": null,
      "overflow_y": null,
      "padding": null,
      "right": null,
      "top": null,
      "visibility": null,
      "width": null
     }
    },
    "d6f67e9d25ae45f6a836d5c5ea0f2d83": {
     "model_module": "@jupyter-widgets/controls",
     "model_module_version": "1.5.0",
     "model_name": "DescriptionStyleModel",
     "state": {
      "_model_module": "@jupyter-widgets/controls",
      "_model_module_version": "1.5.0",
      "_model_name": "DescriptionStyleModel",
      "_view_count": null,
      "_view_module": "@jupyter-widgets/base",
      "_view_module_version": "1.2.0",
      "_view_name": "StyleView",
      "description_width": ""
     }
    },
    "db5cf9a5cae34eb99861c76449158616": {
     "model_module": "@jupyter-widgets/controls",
     "model_module_version": "1.5.0",
     "model_name": "HTMLModel",
     "state": {
      "_dom_classes": [],
      "_model_module": "@jupyter-widgets/controls",
      "_model_module_version": "1.5.0",
      "_model_name": "HTMLModel",
      "_view_count": null,
      "_view_module": "@jupyter-widgets/controls",
      "_view_module_version": "1.5.0",
      "_view_name": "HTMLView",
      "description": "",
      "description_tooltip": null,
      "layout": "IPY_MODEL_b20dba88e50a404eb950a44b04b9119f",
      "placeholder": "​",
      "style": "IPY_MODEL_d6f67e9d25ae45f6a836d5c5ea0f2d83",
      "value": " 26.0/26.0 [00:00&lt;00:00, 1.79kB/s]"
     }
    },
    "e0f6f6801b2144138f3e0808d221fde0": {
     "model_module": "@jupyter-widgets/base",
     "model_module_version": "1.2.0",
     "model_name": "LayoutModel",
     "state": {
      "_model_module": "@jupyter-widgets/base",
      "_model_module_version": "1.2.0",
      "_model_name": "LayoutModel",
      "_view_count": null,
      "_view_module": "@jupyter-widgets/base",
      "_view_module_version": "1.2.0",
      "_view_name": "LayoutView",
      "align_content": null,
      "align_items": null,
      "align_self": null,
      "border": null,
      "bottom": null,
      "display": null,
      "flex": null,
      "flex_flow": null,
      "grid_area": null,
      "grid_auto_columns": null,
      "grid_auto_flow": null,
      "grid_auto_rows": null,
      "grid_column": null,
      "grid_gap": null,
      "grid_row": null,
      "grid_template_areas": null,
      "grid_template_columns": null,
      "grid_template_rows": null,
      "height": null,
      "justify_content": null,
      "justify_items": null,
      "left": null,
      "margin": null,
      "max_height": null,
      "max_width": null,
      "min_height": null,
      "min_width": null,
      "object_fit": null,
      "object_position": null,
      "order": null,
      "overflow": null,
      "overflow_x": null,
      "overflow_y": null,
      "padding": null,
      "right": null,
      "top": null,
      "visibility": null,
      "width": null
     }
    },
    "e2c6067e5d054c678ec20d202b4e2aa4": {
     "model_module": "@jupyter-widgets/controls",
     "model_module_version": "1.5.0",
     "model_name": "DescriptionStyleModel",
     "state": {
      "_model_module": "@jupyter-widgets/controls",
      "_model_module_version": "1.5.0",
      "_model_name": "DescriptionStyleModel",
      "_view_count": null,
      "_view_module": "@jupyter-widgets/base",
      "_view_module_version": "1.2.0",
      "_view_name": "StyleView",
      "description_width": ""
     }
    },
    "e569218532644089b6551b9c8b5a1db1": {
     "model_module": "@jupyter-widgets/controls",
     "model_module_version": "1.5.0",
     "model_name": "ProgressStyleModel",
     "state": {
      "_model_module": "@jupyter-widgets/controls",
      "_model_module_version": "1.5.0",
      "_model_name": "ProgressStyleModel",
      "_view_count": null,
      "_view_module": "@jupyter-widgets/base",
      "_view_module_version": "1.2.0",
      "_view_name": "StyleView",
      "bar_color": null,
      "description_width": ""
     }
    },
    "edd43e5b4b3c4a8687d5a026ed3cc654": {
     "model_module": "@jupyter-widgets/controls",
     "model_module_version": "1.5.0",
     "model_name": "HTMLModel",
     "state": {
      "_dom_classes": [],
      "_model_module": "@jupyter-widgets/controls",
      "_model_module_version": "1.5.0",
      "_model_name": "HTMLModel",
      "_view_count": null,
      "_view_module": "@jupyter-widgets/controls",
      "_view_module_version": "1.5.0",
      "_view_name": "HTMLView",
      "description": "",
      "description_tooltip": null,
      "layout": "IPY_MODEL_d30c0bee26354402a5dddcd9b06f382c",
      "placeholder": "​",
      "style": "IPY_MODEL_9671fb96ae254feca87f236b7e8c8d9c",
      "value": " 456k/456k [00:00&lt;00:00, 1.99MB/s]"
     }
    },
    "f0c67db53c094c0e8a21a6432ecec0e0": {
     "model_module": "@jupyter-widgets/base",
     "model_module_version": "1.2.0",
     "model_name": "LayoutModel",
     "state": {
      "_model_module": "@jupyter-widgets/base",
      "_model_module_version": "1.2.0",
      "_model_name": "LayoutModel",
      "_view_count": null,
      "_view_module": "@jupyter-widgets/base",
      "_view_module_version": "1.2.0",
      "_view_name": "LayoutView",
      "align_content": null,
      "align_items": null,
      "align_self": null,
      "border": null,
      "bottom": null,
      "display": null,
      "flex": null,
      "flex_flow": null,
      "grid_area": null,
      "grid_auto_columns": null,
      "grid_auto_flow": null,
      "grid_auto_rows": null,
      "grid_column": null,
      "grid_gap": null,
      "grid_row": null,
      "grid_template_areas": null,
      "grid_template_columns": null,
      "grid_template_rows": null,
      "height": null,
      "justify_content": null,
      "justify_items": null,
      "left": null,
      "margin": null,
      "max_height": null,
      "max_width": null,
      "min_height": null,
      "min_width": null,
      "object_fit": null,
      "object_position": null,
      "order": null,
      "overflow": null,
      "overflow_x": null,
      "overflow_y": null,
      "padding": null,
      "right": null,
      "top": null,
      "visibility": null,
      "width": null
     }
    },
    "f38902f9f8ba49378d1edad0e8cb1b9a": {
     "model_module": "@jupyter-widgets/controls",
     "model_module_version": "1.5.0",
     "model_name": "DescriptionStyleModel",
     "state": {
      "_model_module": "@jupyter-widgets/controls",
      "_model_module_version": "1.5.0",
      "_model_name": "DescriptionStyleModel",
      "_view_count": null,
      "_view_module": "@jupyter-widgets/base",
      "_view_module_version": "1.2.0",
      "_view_name": "StyleView",
      "description_width": ""
     }
    },
    "f537a27914e847deaf5eaa4b8c93ab44": {
     "model_module": "@jupyter-widgets/base",
     "model_module_version": "1.2.0",
     "model_name": "LayoutModel",
     "state": {
      "_model_module": "@jupyter-widgets/base",
      "_model_module_version": "1.2.0",
      "_model_name": "LayoutModel",
      "_view_count": null,
      "_view_module": "@jupyter-widgets/base",
      "_view_module_version": "1.2.0",
      "_view_name": "LayoutView",
      "align_content": null,
      "align_items": null,
      "align_self": null,
      "border": null,
      "bottom": null,
      "display": null,
      "flex": null,
      "flex_flow": null,
      "grid_area": null,
      "grid_auto_columns": null,
      "grid_auto_flow": null,
      "grid_auto_rows": null,
      "grid_column": null,
      "grid_gap": null,
      "grid_row": null,
      "grid_template_areas": null,
      "grid_template_columns": null,
      "grid_template_rows": null,
      "height": null,
      "justify_content": null,
      "justify_items": null,
      "left": null,
      "margin": null,
      "max_height": null,
      "max_width": null,
      "min_height": null,
      "min_width": null,
      "object_fit": null,
      "object_position": null,
      "order": null,
      "overflow": null,
      "overflow_x": null,
      "overflow_y": null,
      "padding": null,
      "right": null,
      "top": null,
      "visibility": null,
      "width": null
     }
    },
    "f72716ab17ff4e50bf3a54b1e0a44dad": {
     "model_module": "@jupyter-widgets/controls",
     "model_module_version": "1.5.0",
     "model_name": "DescriptionStyleModel",
     "state": {
      "_model_module": "@jupyter-widgets/controls",
      "_model_module_version": "1.5.0",
      "_model_name": "DescriptionStyleModel",
      "_view_count": null,
      "_view_module": "@jupyter-widgets/base",
      "_view_module_version": "1.2.0",
      "_view_name": "StyleView",
      "description_width": ""
     }
    },
    "ff91e5d1a5bb4ceb92dd1e098718ca04": {
     "model_module": "@jupyter-widgets/base",
     "model_module_version": "1.2.0",
     "model_name": "LayoutModel",
     "state": {
      "_model_module": "@jupyter-widgets/base",
      "_model_module_version": "1.2.0",
      "_model_name": "LayoutModel",
      "_view_count": null,
      "_view_module": "@jupyter-widgets/base",
      "_view_module_version": "1.2.0",
      "_view_name": "LayoutView",
      "align_content": null,
      "align_items": null,
      "align_self": null,
      "border": null,
      "bottom": null,
      "display": null,
      "flex": null,
      "flex_flow": null,
      "grid_area": null,
      "grid_auto_columns": null,
      "grid_auto_flow": null,
      "grid_auto_rows": null,
      "grid_column": null,
      "grid_gap": null,
      "grid_row": null,
      "grid_template_areas": null,
      "grid_template_columns": null,
      "grid_template_rows": null,
      "height": null,
      "justify_content": null,
      "justify_items": null,
      "left": null,
      "margin": null,
      "max_height": null,
      "max_width": null,
      "min_height": null,
      "min_width": null,
      "object_fit": null,
      "object_position": null,
      "order": null,
      "overflow": null,
      "overflow_x": null,
      "overflow_y": null,
      "padding": null,
      "right": null,
      "top": null,
      "visibility": null,
      "width": null
     }
    },
    "fffd63653e24444a8361dd7c83307824": {
     "model_module": "@jupyter-widgets/controls",
     "model_module_version": "1.5.0",
     "model_name": "HTMLModel",
     "state": {
      "_dom_classes": [],
      "_model_module": "@jupyter-widgets/controls",
      "_model_module_version": "1.5.0",
      "_model_name": "HTMLModel",
      "_view_count": null,
      "_view_module": "@jupyter-widgets/controls",
      "_view_module_version": "1.5.0",
      "_view_name": "HTMLView",
      "description": "",
      "description_tooltip": null,
      "layout": "IPY_MODEL_09e24b42a01a46fd94be6c092ccda77e",
      "placeholder": "​",
      "style": "IPY_MODEL_f38902f9f8ba49378d1edad0e8cb1b9a",
      "value": " 1.04M/1.04M [00:00&lt;00:00, 1.12MB/s]"
     }
    }
   }
  }
 },
 "nbformat": 4,
 "nbformat_minor": 5
}
